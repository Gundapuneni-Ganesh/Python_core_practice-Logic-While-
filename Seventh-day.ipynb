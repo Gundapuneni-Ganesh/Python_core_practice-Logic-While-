{
 "cells": [
  {
   "cell_type": "code",
   "execution_count": 1,
   "id": "9e91a7d2-1f3d-4469-802f-9b913898d2da",
   "metadata": {},
   "outputs": [
    {
     "name": "stdout",
     "output_type": "stream",
     "text": [
      "{'brand': 'Ford', 'model': 'Mustang', 'year': 1964, 'color': 'red'}\n"
     ]
    }
   ],
   "source": [
    "thisdict = {\n",
    "  \"brand\": \"Ford\",\n",
    "  \"model\": \"Mustang\",\n",
    "  \"year\": 1964\n",
    "}\n",
    "thisdict.update({\"color\": \"red\"})\n",
    "\n",
    "print(thisdict)\n"
   ]
  },
  {
   "cell_type": "code",
   "execution_count": 13,
   "id": "13f0496e-de00-41af-9319-3c44ccc070f7",
   "metadata": {},
   "outputs": [
    {
     "name": "stdin",
     "output_type": "stream",
     "text": [
      "Enter the armstong number :  9474\n"
     ]
    },
    {
     "name": "stdout",
     "output_type": "stream",
     "text": [
      "given value is armstrong number 9474\n"
     ]
    }
   ],
   "source": [
    "# arms strong number\n",
    "\n",
    "a=int(input(\"Enter the armstong number : \"))\n",
    "N = a\n",
    "c=0\n",
    "n = N\n",
    "\n",
    "while n>0:\n",
    "    c+=1\n",
    "    n=n//10\n",
    "    \n",
    "b = N\n",
    "sum=0\n",
    "\n",
    "while b>0:\n",
    "    r=b%10\n",
    "    sum = sum + r **c\n",
    "    b=b//10\n",
    "    \n",
    "if sum == a:\n",
    "    print(f\"given value is armstrong number {sum}\")\n",
    "else:\n",
    "    print(f\"{a} is not equal we get value is {sum}\")\n",
    "    \n",
    "    "
   ]
  },
  {
   "cell_type": "code",
   "execution_count": 15,
   "id": "8324f700-d6f2-4f1c-b0ec-c18aa58d722d",
   "metadata": {},
   "outputs": [
    {
     "name": "stdin",
     "output_type": "stream",
     "text": [
      " vamsi\n"
     ]
    },
    {
     "name": "stdout",
     "output_type": "stream",
     "text": [
      "given string vamsi is  not palindrome ismav\n"
     ]
    }
   ],
   "source": [
    "# palindrome \n",
    "\n",
    "a=input(\"Enter the value : \")\n",
    "b=a[::-1]\n",
    "if b == a:\n",
    "    print(f\"given string {a} is palindrome {b}\")\n",
    "else:\n",
    "     print(f\"given string {a} is  not palindrome {b}\")\n",
    "    "
   ]
  },
  {
   "cell_type": "code",
   "execution_count": 18,
   "id": "dae405cd-e9e0-4973-a351-a3828b865d70",
   "metadata": {},
   "outputs": [
    {
     "name": "stdin",
     "output_type": "stream",
     "text": [
      "Enter the value :  121\n"
     ]
    },
    {
     "name": "stdout",
     "output_type": "stream",
     "text": [
      "given string 121 is palindrome 121\n"
     ]
    }
   ],
   "source": [
    "# for numbers only \n",
    "\n",
    "a=int(input(\"Enter the value : \"))\n",
    "n = a\n",
    "sum =0\n",
    "while n >0:\n",
    "    r=n%10\n",
    "    sum = sum*10 + r\n",
    "    n = n // 10\n",
    "    \n",
    "if a == sum:\n",
    "    print(f\"given string {a} is palindrome {sum}\")\n",
    "else:\n",
    "     print(f\"given string {a} is  not palindrome {sum}\")"
   ]
  },
  {
   "cell_type": "code",
   "execution_count": 21,
   "id": "8e3ac4fc-1c5e-4212-b94b-7ebc8ad27977",
   "metadata": {},
   "outputs": [
    {
     "name": "stdin",
     "output_type": "stream",
     "text": [
      "Enter the value :  145\n"
     ]
    },
    {
     "name": "stdout",
     "output_type": "stream",
     "text": [
      "given string 145 is strong number  145\n"
     ]
    }
   ],
   "source": [
    "  # strong number \n",
    "\n",
    "a=int(input(\"Enter the value : \"))\n",
    "n = a\n",
    "rev= 0\n",
    "while n> 0:\n",
    "    sum =1\n",
    "    r = n%10\n",
    "    \n",
    "    for i in range(1,r+1):\n",
    "        sum *= i\n",
    "\n",
    "    rev = rev+ sum\n",
    "    n =n//10\n",
    "    \n",
    "if a == rev:\n",
    "    print(f\"given string {a} is strong number  {rev}\")\n",
    "else:\n",
    "     print(f\"given string {a} is  not strong number  {rev}\")"
   ]
  },
  {
   "cell_type": "code",
   "execution_count": 25,
   "id": "13cfcc27-88e7-4b2d-89f0-488eb4f05ca6",
   "metadata": {},
   "outputs": [
    {
     "name": "stdin",
     "output_type": "stream",
     "text": [
      " \"ganesh\",\"suresh\",\"banu\"\n"
     ]
    },
    {
     "name": "stdout",
     "output_type": "stream",
     "text": [
      "['apple', '\"ganesh\"', '\"suresh\"', '\"banu\"']\n"
     ]
    }
   ],
   "source": [
    "thislist = [\"apple\", \"banana\", \"cherry\"]\n",
    "thislist[1:3] = [i for i in input().split(\",\")]\n",
    "print(thislist)\n"
   ]
  },
  {
   "cell_type": "code",
   "execution_count": 28,
   "id": "7b9f5812-d02b-46f4-ae32-d09d5c7fb120",
   "metadata": {},
   "outputs": [
    {
     "name": "stdin",
     "output_type": "stream",
     "text": [
      "Enter the value :  12\n"
     ]
    },
    {
     "name": "stdout",
     "output_type": "stream",
     "text": [
      "1\n",
      "2\n",
      "3\n",
      "4\n",
      "6\n",
      "given string 12 is  not perfect number  16\n"
     ]
    }
   ],
   "source": [
    "# perfect number \n",
    "\n",
    "n=int(input(\"Enter the value : \"))\n",
    "a = n\n",
    "sum  = 0\n",
    "for i in range(1,n):\n",
    "    if n % i == 0:\n",
    "        sum += i\n",
    "        # print(i)\n",
    "    else:\n",
    "        pass\n",
    "if a == sum:\n",
    "    print(f\"given string {a} is perfect number  {sum}\")\n",
    "else:\n",
    "     print(f\"given string {a} is  not perfect number  {sum}\")\n"
   ]
  },
  {
   "cell_type": "code",
   "execution_count": 33,
   "id": "8c13d03e-e1af-4acf-986d-af81293d18fe",
   "metadata": {},
   "outputs": [
    {
     "name": "stdin",
     "output_type": "stream",
     "text": [
      "Enter the value :  3\n"
     ]
    },
    {
     "name": "stdout",
     "output_type": "stream",
     "text": [
      "given number  3 is prime number  \n"
     ]
    }
   ],
   "source": [
    "# prime number\n",
    "\n",
    "n=int(input(\"Enter the value : \"))\n",
    "for i in range(2,n):\n",
    "    prime = True\n",
    "    if n % 2 ==0:\n",
    "        prime = False\n",
    "        break\n",
    "    else:\n",
    "        prime = True\n",
    "if prime == True:\n",
    "    print(f\"Given number  {n} is prime number  \")\n",
    "else:\n",
    "     print(f\"Given number  {n} is  not prime  number  \")\n"
   ]
  },
  {
   "cell_type": "code",
   "execution_count": 42,
   "id": "5a0022fb-a2c3-4ace-a44d-17902a8026c7",
   "metadata": {},
   "outputs": [
    {
     "name": "stdin",
     "output_type": "stream",
     "text": [
      "Enter the value :  30\n"
     ]
    },
    {
     "name": "stdout",
     "output_type": "stream",
     "text": [
      "2 prime\n",
      "3 prime\n",
      "5 prime\n",
      "7 prime\n",
      "11 prime\n",
      "13 prime\n",
      "17 prime\n",
      "19 prime\n",
      "23 prime\n",
      "29 prime\n"
     ]
    }
   ],
   "source": [
    "# upto given range checking prime or not \n",
    "\n",
    "n=int(input(\"Enter the value : \"))\n",
    "\n",
    "for i in range(2,n):\n",
    "    c=0\n",
    "    for j in range(2,i):\n",
    "        if (i%j == 0):\n",
    "            c+=1\n",
    "    if c==0:\n",
    "         print(i ,\"prime\")\n"
   ]
  },
  {
   "cell_type": "code",
   "execution_count": 49,
   "id": "9757e811-9960-4605-a26e-ccb41fa5ce56",
   "metadata": {},
   "outputs": [
    {
     "name": "stdin",
     "output_type": "stream",
     "text": [
      "Enter the value :  5\n",
      "Enter the value :  10\n",
      "Enter the value :  20\n",
      "Enter the value :  30\n",
      "Enter the value :  -40\n",
      "Enter the value :  50\n"
     ]
    },
    {
     "name": "stdout",
     "output_type": "stream",
     "text": [
      "110\n"
     ]
    }
   ],
   "source": [
    "n=int(input(\"Enter the value : \"))\n",
    "sum=0\n",
    "for i in range(1,n+1):\n",
    "    a=int(input(\"Enter the value : \"))\n",
    "    if a > 0:\n",
    "        sum= sum+a\n",
    "    else:\n",
    "        continue\n",
    "print(sum)"
   ]
  },
  {
   "cell_type": "code",
   "execution_count": 54,
   "id": "54718acd-1118-4c27-b0c2-05a7d1cb93b6",
   "metadata": {},
   "outputs": [
    {
     "name": "stdin",
     "output_type": "stream",
     "text": [
      "Enter the value:  5\n",
      "Enter 5 comma-separated values:  10,29,-40,50,60\n"
     ]
    },
    {
     "name": "stdout",
     "output_type": "stream",
     "text": [
      "['10', '29', '-40', '50', '60']\n",
      "[10, 29, -40, 50, 60]\n"
     ]
    }
   ],
   "source": [
    "n = int(input(\"Enter the value: \"))\n",
    "input_str = input(f\"Enter {n} comma-separated values: \")\n",
    "\n",
    "# Split and take only first n items if extra provided\n",
    "input_items = input_str.split(\",\")[:n]\n",
    "print(input_items)\n",
    "\n",
    "# Create list based on condition n>0, else fill \"hello\"\n",
    "b = [int(i) if n > 0 else \"hello\" for i in input_items]\n",
    "\n",
    "print(b)\n"
   ]
  },
  {
   "cell_type": "code",
   "execution_count": null,
   "id": "fdd5f010-3590-44cc-ac06-91b7d845d83b",
   "metadata": {},
   "outputs": [],
   "source": []
  }
 ],
 "metadata": {
  "kernelspec": {
   "display_name": "Python 3 (ipykernel)",
   "language": "python",
   "name": "python3"
  },
  "language_info": {
   "codemirror_mode": {
    "name": "ipython",
    "version": 3
   },
   "file_extension": ".py",
   "mimetype": "text/x-python",
   "name": "python",
   "nbconvert_exporter": "python",
   "pygments_lexer": "ipython3",
   "version": "3.13.5"
  }
 },
 "nbformat": 4,
 "nbformat_minor": 5
}
