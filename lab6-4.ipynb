{
 "cells": [
  {
   "cell_type": "code",
   "execution_count": null,
   "id": "a87ff898-9fc5-40c1-b0b4-31d4f0893909",
   "metadata": {},
   "outputs": [],
   "source": [
    "# class = collection of variables(attributes) and methods (behaviours)\n",
    "\n",
    "#         ex : student\n",
    "#           attributes : name , roll no , age\n",
    "#           methods : reading , writing , escaping , jumping   \"\"\"\n",
    "\n",
    "# method should always pass an parameter with SELF keyword . then only we say it is method  \" def display(self,): \"  \n",
    "#  and method will call through only object \n",
    "\n",
    "# instance variable  =  variables are declared by with object name  \" s1= student()\n",
    "#                                                                     s1.name = \"Ganesh Chowdary\" \"\n",
    "\n"
   ]
  },
  {
   "cell_type": "code",
   "execution_count": 5,
   "id": "d595d581-102f-4f4e-bb55-b3f27ed40ed9",
   "metadata": {},
   "outputs": [
    {
     "name": "stdout",
     "output_type": "stream",
     "text": [
      "Ganesh\n",
      "123\n",
      "90.43\n",
      "Ganesh\n",
      "123\n",
      "90.43\n"
     ]
    }
   ],
   "source": [
    "class student:\n",
    "    def display(self,):\n",
    "        print(\"Ganesh\")\n",
    "        print(\"123\")\n",
    "        print(\"90.43\")\n",
    "s1= student()\n",
    "s1.display() \n",
    "\n",
    "s2= student()\n",
    "s2.display()      "
   ]
  },
  {
   "cell_type": "code",
   "execution_count": null,
   "id": "e7b0b276-8f74-4f64-a769-0e88675ecfec",
   "metadata": {},
   "outputs": [],
   "source": [
    "# Instance variable and method with parameters"
   ]
  },
  {
   "cell_type": "code",
   "execution_count": 21,
   "id": "4cce7ac4-8a72-4558-83c6-26f047409aa1",
   "metadata": {},
   "outputs": [
    {
     "name": "stdout",
     "output_type": "stream",
     "text": [
      "Ganesh Chowdary Y22CIT025 CIET\n",
      "Ganesh 124 88.9\n"
     ]
    }
   ],
   "source": [
    "class student:\n",
    "    def display(self,n,r,m):\n",
    "        print(n,r,m)\n",
    "        \n",
    "s1= student()\n",
    "s1.name = \"Ganesh Chowdary\"  # these are instance variable .\n",
    "s1.rollNo = \"Y22CIT025\"       # instance variable  =  variables are declared by with object name \n",
    "s1.collage = \"CIET\"\n",
    "s1.display(s1.name,s1.rollNo,s1.collage) \n",
    "\n",
    "s2= student()\n",
    "s2.display(\"Ganesh\",124,88.9)"
   ]
  },
  {
   "cell_type": "code",
   "execution_count": 24,
   "id": "f5a79560-d80c-437c-9599-fab57a3eaadf",
   "metadata": {},
   "outputs": [
    {
     "name": "stdout",
     "output_type": "stream",
     "text": [
      "Ganesh Chowdary CIET Y22CIT025\n"
     ]
    }
   ],
   "source": [
    "# class variables and accessing with self keyword\n",
    "\n",
    "class student:\n",
    "    name = \"Ganesh Chowdary\"  # these are class variables\n",
    "    collage = \"CIET\"\n",
    "    rollno = \"Y22CIT025\"\n",
    "    \n",
    "    def display(self,):\n",
    "        print(self.name,self.collage,self.rollno) # class variables are accesed by self method only\n",
    "        \n",
    "s1= student()\n",
    "s1.display() "
   ]
  },
  {
   "cell_type": "code",
   "execution_count": 23,
   "id": "7d29a701-8c08-4767-9382-f75fec43107e",
   "metadata": {},
   "outputs": [
    {
     "name": "stdout",
     "output_type": "stream",
     "text": [
      "Ganesh Chowdary 25.35 123\n"
     ]
    }
   ],
   "source": [
    "#constructor with parameter \n",
    "\n",
    "class student:\n",
    "    def __init__(self,n,r,m): # for constructor also we need to  define self keyword\n",
    "        self.name=n\n",
    "        self.rollno =r\n",
    "        self.marks = m\n",
    "        \n",
    "    def display(self):\n",
    "        print(self.name,self.marks,self.rollno)\n",
    "s1 = student(\"Ganesh Chowdary\",123,25.35)\n",
    "s1.display()\n"
   ]
  },
  {
   "cell_type": "code",
   "execution_count": null,
   "id": "a4ee5e0b-4c47-4667-a139-a3d13200523b",
   "metadata": {},
   "outputs": [],
   "source": [
    "#constructor without parameter \n",
    "\n",
    "class student:\n",
    "    def __init__(self):\n",
    "        self.name=\"G. Ganesh\"\n",
    "        self.rollno = 25\n",
    "        self.marks = 93.2\n",
    "        \n",
    "    def display(self):\n",
    "        print(self.name,self.marks,self.rollno)\n",
    "s1 = student()\n",
    "s1.display()"
   ]
  },
  {
   "cell_type": "code",
   "execution_count": 27,
   "id": "3dd97d3a-293e-4783-b269-925000493836",
   "metadata": {},
   "outputs": [
    {
     "name": "stdout",
     "output_type": "stream",
     "text": [
      "** SBI ** \n",
      "1.Deposit\n",
      "2.Withdraw\n",
      "3.Balance Check\n",
      "4.EXIT\n"
     ]
    },
    {
     "name": "stdin",
     "output_type": "stream",
     "text": [
      "Choose the options :  4\n"
     ]
    },
    {
     "name": "stdout",
     "output_type": "stream",
     "text": [
      "Thanks for choosing this bank\n"
     ]
    }
   ],
   "source": [
    "# bank Apllication \n",
    "\n",
    "class sbi:\n",
    "    def __init__(self,acn,name,bal=0):\n",
    "        self.acn = acn\n",
    "        self.name = name\n",
    "        self.bal =bal\n",
    "    def withdraw(self,amount):\n",
    "        if amount >= 1 and amount <= 50000:\n",
    "            if amount <=self.bal:\n",
    "                self.bal +=amount\n",
    "            else:\n",
    "                print(\"Invalid amount\")\n",
    "        else:\n",
    "            print(\"Invalid amount\")\n",
    "    def deposit(self,amount):\n",
    "        if amount >= 1 and amount <= 50000:\n",
    "            self.bal +=amount\n",
    "        else:\n",
    "            print(\"Insufficient balance amount\")\n",
    "    def check_balance(self):\n",
    "        print(\"Account Number :\",self.acn)\n",
    "        print(\"Account Holder Name : \",self.name)\n",
    "        print(\"Avaliable Balance : \",self.bal)\n",
    "\n",
    "bank = sbi(123456,\"Ganesh Chowdary\",1000)\n",
    "while True:\n",
    "    print(\"** SBI ** \\n1.Deposit\\n2.Withdraw\\n3.Balance Check\\n4.EXIT\")\n",
    "    ch = int(input(\"Choose the options : \"))\n",
    "    if ch == 1:\n",
    "        am = float(input(\"Enter amount to deposit : \"))\n",
    "        bank.deposit(am)\n",
    "    if ch == 2:\n",
    "        am = float(input(\"Enter amount to withdraw : \"))\n",
    "        bank.withdraw(am)\n",
    "    if ch == 3:\n",
    "        \n",
    "        bank.check_balance()\n",
    "    if ch == 4:\n",
    "        print(\"Thanks for choosing this bank\")\n",
    "        break\n",
    "    "
   ]
  },
  {
   "cell_type": "code",
   "execution_count": 33,
   "id": "bb1f4d0a-18cb-457e-a6ce-6b1e58c960c5",
   "metadata": {},
   "outputs": [
    {
     "name": "stdout",
     "output_type": "stream",
     "text": [
      "** GANESH THEATOR ** \n",
      "1.Booking\n",
      "2.View Seats\n",
      "3.EXIT\n"
     ]
    },
    {
     "name": "stdin",
     "output_type": "stream",
     "text": [
      "Choose the options :  1\n"
     ]
    },
    {
     "name": "stdout",
     "output_type": "stream",
     "text": [
      "RRR movie\n"
     ]
    },
    {
     "name": "stdin",
     "output_type": "stream",
     "text": [
      "Enter the no.of seats :  5\n"
     ]
    },
    {
     "name": "stdout",
     "output_type": "stream",
     "text": [
      "Total amount for tickets : 500.0\n",
      "** GANESH THEATOR ** \n",
      "1.Booking\n",
      "2.View Seats\n",
      "3.EXIT\n"
     ]
    },
    {
     "name": "stdin",
     "output_type": "stream",
     "text": [
      "Choose the options :  2\n"
     ]
    },
    {
     "name": "stdout",
     "output_type": "stream",
     "text": [
      "These seats are avaliable 25.0\n",
      "** GANESH THEATOR ** \n",
      "1.Booking\n",
      "2.View Seats\n",
      "3.EXIT\n"
     ]
    },
    {
     "name": "stdin",
     "output_type": "stream",
     "text": [
      "Choose the options :  3\n"
     ]
    },
    {
     "name": "stdout",
     "output_type": "stream",
     "text": [
      "Thanks for choosing this Ganesh Theator\n"
     ]
    }
   ],
   "source": [
    "# movie Ticket Booking\n",
    "\n",
    "class cinema_threater:\n",
    "    def __init__(self,name,price,seats):\n",
    "        self.m_name = name\n",
    "        self.tick_price = price\n",
    "        self.seats = seats\n",
    "        \n",
    "    def booking(self ,n):\n",
    "        if self.seats > n and self.seats != 0 :\n",
    "            \n",
    "            amount = n* self.tick_price\n",
    "            self.seats -= n\n",
    "            print(f\"Total amount for tickets : {amount}\")\n",
    "        else:\n",
    "            print(\"Tickets are booked\")\n",
    "            \n",
    "    def v_seats(self):\n",
    "        print(f\"These seats are avaliable {self.seats}\")\n",
    "        \n",
    "rrr = cinema_threater(\"RRR\",100,30)\n",
    "while True:\n",
    "    print(\"** GANESH THEATOR ** \\n1.Booking\\n2.View Seats\\n3.EXIT\")\n",
    "    ch = int(input(\"Choose the options : \"))\n",
    "    if ch == 1:\n",
    "        print(\"RRR movie\")\n",
    "        am = float(input(\"Enter the no.of seats : \"))\n",
    "        rrr.booking(am)\n",
    "    if ch == 2:\n",
    "        rrr.v_seats()\n",
    "    if ch == 3:\n",
    "        print(\"Thanks for choosing this Ganesh Theator\")\n",
    "        break\n",
    "    \n",
    "\n",
    "        \n",
    "        \n",
    "            \n",
    "        \n",
    "        \n",
    "        "
   ]
  },
  {
   "cell_type": "code",
   "execution_count": null,
   "id": "b0fcca84-1e0e-4d14-b38a-14a5cc51c603",
   "metadata": {},
   "outputs": [],
   "source": [
    "# movie Ticket Booking\n",
    "\n",
    "class cinema_threater:\n",
    "    def __init__(self,name,price,seats):\n",
    "        self.m_name = name\n",
    "        self.tick_price = price\n",
    "        self.seats = seats\n",
    "        \n",
    "    def booking(self ,n):\n",
    "        if self.seats > n and self.seats != 0 :\n",
    "            \n",
    "            amount = n* self.tick_price\n",
    "            self.seats -= n\n",
    "            print(f\"Total amount for tickets : {amount}\")\n",
    "        else:\n",
    "            print(\"Tickets are booked\")\n",
    "            \n",
    "    def v_seats(self):\n",
    "        print(f\"These seats are avaliable {self.seats}\")\n",
    "        \n",
    "rrr = cinema_threater(\"RRR\",100,30)\n",
    "while True:\n",
    "    \n",
    "    print(\"** GANESH THEATOR ** \\n1.MOVIES LIST\\n2.EXIT\")\n",
    "    ch = int(input(\"Choose the options : \"))\n",
    "    \n",
    "    # def lo(nm,pr,se):\n",
    "    #     rrr.v_seats()\n",
    "    #     n_tick = int(input(\"ENter the no.of tickets to book : \"))\n",
    "    #     rrr.booking(n_tick)\n",
    "    #     rrr.v_seats()\n",
    "    #     print(f\"Thanks for booking the {nm} Movie\")\n",
    "        \n",
    "    \n",
    "    if ch == 1:\n",
    "        print(\"1.RRR\\n2.PUSPHA\\n3.RANA NAIDU\\n4.MIRAI\")\n",
    "        mc= int(input(\"ENTER the movie number : \"))\n",
    "        \n",
    "        if mc == 1:\n",
    "            rrr = cinema_threater(\"RRR\",100,30)\n",
    "            rrr.v_seats()\n",
    "            n_tick = int(input(\"ENter the no.of tickets to book : \"))\n",
    "            rrr.booking(n_tick)\n",
    "            rrr.v_seats()\n",
    "            print(\"Thanks for booking the RRR Movie\")\n",
    "            \n",
    "        if mc == 2:\n",
    "            rrr = cinema_threater(\"PUSHPA\",200,30)\n",
    "            rrr.v_seats()\n",
    "            n_tick = int(input(\"ENter the no.of tickets to book : \"))\n",
    "            rrr.booking(n_tick)\n",
    "            rrr.v_seats()\n",
    "            print(\"Thanks for booking the RRR Movie\")\n",
    "        if mc == 3:\n",
    "            rrr = cinema_threater(\"RANA NAIDU\",100,30)\n",
    "            rrr.v_seats()\n",
    "            n_tick = int(input(\"ENter the no.of tickets to book : \"))\n",
    "            rrr.booking(n_tick)\n",
    "            rrr.v_seats()\n",
    "            print(\"Thanks for booking the RRR Movie\")\n",
    "            \n",
    "\n",
    "\n",
    "    if ch == 2:\n",
    "        print(\"Thanks for choosing this Ganesh Theator\")\n",
    "        break\n",
    "    \n",
    "\n",
    "        \n",
    "        \n",
    "            \n",
    "        \n",
    "        \n",
    "        "
   ]
  }
 ],
 "metadata": {
  "kernelspec": {
   "display_name": "Python 3 (ipykernel)",
   "language": "python",
   "name": "python3"
  },
  "language_info": {
   "codemirror_mode": {
    "name": "ipython",
    "version": 3
   },
   "file_extension": ".py",
   "mimetype": "text/x-python",
   "name": "python",
   "nbconvert_exporter": "python",
   "pygments_lexer": "ipython3",
   "version": "3.12.7"
  }
 },
 "nbformat": 4,
 "nbformat_minor": 5
}
