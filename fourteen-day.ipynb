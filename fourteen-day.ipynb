{
 "cells": [
  {
   "cell_type": "code",
   "execution_count": 6,
   "id": "d1234c33-ebf6-49e5-82eb-a01c64170998",
   "metadata": {},
   "outputs": [
    {
     "name": "stdout",
     "output_type": "stream",
     "text": [
      "[1, 2, 3, 10, 6]\n"
     ]
    }
   ],
   "source": [
    "a=[1,2,3]\n",
    "a.extend([10,6])\n",
    "print(a)"
   ]
  },
  {
   "cell_type": "code",
   "execution_count": 7,
   "id": "ad47e7bc-de84-4aa1-90e8-6c5d68431add",
   "metadata": {},
   "outputs": [
    {
     "name": "stdout",
     "output_type": "stream",
     "text": [
      "[1, 2, 3, [10, 6]]\n"
     ]
    }
   ],
   "source": [
    "a=[1,2,3]\n",
    "a.append([10,6])\n",
    "print(a)"
   ]
  },
  {
   "cell_type": "code",
   "execution_count": 8,
   "id": "86886f25-815f-4306-81a3-de902b99b611",
   "metadata": {},
   "outputs": [
    {
     "name": "stdout",
     "output_type": "stream",
     "text": [
      "1\n",
      "0\n"
     ]
    }
   ],
   "source": [
    "# i tuple we hgad only two functions count(), index()\n",
    "\n",
    "a=(1,2,3)\n",
    "print(a.count(3))\n",
    "print(a.index(1))"
   ]
  },
  {
   "cell_type": "code",
   "execution_count": 11,
   "id": "e0113e28-4ac5-420b-aba3-c04e46c17ca1",
   "metadata": {},
   "outputs": [
    {
     "name": "stdout",
     "output_type": "stream",
     "text": [
      "<class 'tuple'>\n",
      "<class 'list'>\n",
      "(1, 2, 3, 10)\n",
      "1\n",
      "0\n"
     ]
    }
   ],
   "source": [
    "a=(1,2,3)\n",
    "print(type(a))\n",
    "b=list(a)\n",
    "print(type(b))\n",
    "b.append(10)\n",
    "print(tuple(b))\n",
    "print(a.count(3))\n",
    "print(a.index(1))"
   ]
  },
  {
   "cell_type": "code",
   "execution_count": 14,
   "id": "ff84a80f-e25b-4645-9a76-5b863f7d4fcb",
   "metadata": {},
   "outputs": [
    {
     "name": "stdin",
     "output_type": "stream",
     "text": [
      " 5\n",
      " 2\n",
      " 2\n",
      " 1\n",
      " 1\n",
      " 1\n"
     ]
    },
    {
     "name": "stdout",
     "output_type": "stream",
     "text": [
      "(2, 2, 1, 1, 1)\n"
     ]
    }
   ],
   "source": [
    "r=int(input())\n",
    "l =[]\n",
    "for i in range(r):\n",
    "    v=int(input())\n",
    "    l.append(v)\n",
    "print(tuple(l))\n",
    "    "
   ]
  },
  {
   "cell_type": "code",
   "execution_count": 20,
   "id": "9f154364-7823-40f6-b96c-ed988523999b",
   "metadata": {},
   "outputs": [
    {
     "name": "stdout",
     "output_type": "stream",
     "text": [
      "(7, 6, 8)\n",
      "(8, 6, 7)\n",
      "(10, 4, 5)\n",
      "(4, 5, 10)\n"
     ]
    }
   ],
   "source": [
    "a=(1,2,3,(5,4,10,(7,6,8)))\n",
    "print(a[3][3])\n",
    "print(a[3][3][::-1])\n",
    "print(a[3][:3][::-1])\n",
    "c=a[3][:3]\n",
    "e=list(c)\n",
    "e.sort()\n",
    "print(tuple(e))"
   ]
  },
  {
   "cell_type": "code",
   "execution_count": 22,
   "id": "cb508d3c-73f4-4eec-886a-ea79d8f791fa",
   "metadata": {},
   "outputs": [
    {
     "name": "stdout",
     "output_type": "stream",
     "text": [
      "(10, 12, 14, 16)\n"
     ]
    }
   ],
   "source": [
    "a=(2,3,4,5,6,7,8)\n",
    "b=list(i*2 for i in a if i>=5)\n",
    "print(tuple(b))"
   ]
  },
  {
   "cell_type": "code",
   "execution_count": null,
   "id": "0573c56c-7616-4962-92d0-1b1977e84e9d",
   "metadata": {},
   "outputs": [],
   "source": []
  },
  {
   "cell_type": "code",
   "execution_count": null,
   "id": "187efc5c-3d1e-42a2-ad28-46e7333c468f",
   "metadata": {},
   "outputs": [],
   "source": []
  }
 ],
 "metadata": {
  "kernelspec": {
   "display_name": "Python 3 (ipykernel)",
   "language": "python",
   "name": "python3"
  },
  "language_info": {
   "codemirror_mode": {
    "name": "ipython",
    "version": 3
   },
   "file_extension": ".py",
   "mimetype": "text/x-python",
   "name": "python",
   "nbconvert_exporter": "python",
   "pygments_lexer": "ipython3",
   "version": "3.13.5"
  }
 },
 "nbformat": 4,
 "nbformat_minor": 5
}
