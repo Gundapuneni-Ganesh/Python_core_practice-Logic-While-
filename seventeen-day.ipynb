{
 "cells": [
  {
   "cell_type": "code",
   "execution_count": 24,
   "id": "ab649f5d-2b51-4470-b392-2ed9ca33379a",
   "metadata": {},
   "outputs": [
    {
     "name": "stdout",
     "output_type": "stream",
     "text": [
      "{2, 3, 4, 5, 6, 7, 8, 9, 10, 56, 25}\n",
      "{3, 4}\n",
      "False\n",
      "{2, 5, 6, 56, 25}\n",
      "{2, 5, 6, 7, 8, 9, 10, 56, 25}\n"
     ]
    }
   ],
   "source": [
    "# in set we can add and remove elements but we cant assign values\n",
    "\n",
    "s=set() # declaration\n",
    "se={1,2,3,4,5,6} # insilization\n",
    "se2 ={7,8,9,10,3,4}\n",
    "\n",
    "se.add(56)           # adding one value\n",
    "\n",
    "se.update([20,25])   # adding multiple values\n",
    "\n",
    "se.remove(20)        # removes if it exists\n",
    "\n",
    "se.discard(100)      # if it exists remves if not doesnt perform any operation and doesnt return error\n",
    "\n",
    "se.pop()             # this will remov last element \n",
    "\n",
    "print(se.union(se2))   # or print(se | se2)   # we get all the unique elements from both the sets\n",
    "\n",
    "print(se.intersection(se2))   # or print(se & se2)  we get all the  common elements from both the sets\n",
    "\n",
    "print(se.isdisjoint(se2))  #we get true if both st items are unique\n",
    "\n",
    "print(se.difference(se2))    # or print(se - se2)  # get different values which are not in the se from se2\n",
    "\n",
    "print(se^se2)               # this will return not common values from both comparison value or also called as symmetric \n"
   ]
  },
  {
   "cell_type": "code",
   "execution_count": 14,
   "id": "1249b6a8-2dec-487a-9a0b-d61492b4194b",
   "metadata": {},
   "outputs": [
    {
     "name": "stdin",
     "output_type": "stream",
     "text": [
      " 4\n"
     ]
    },
    {
     "name": "stdout",
     "output_type": "stream",
     "text": [
      "1 0 0\n"
     ]
    }
   ],
   "source": [
    "# print the binary number of given number\n",
    "\n",
    "n=int(input())\n",
    "arr=[]\n",
    "while n>0:\n",
    "    r = n%2\n",
    "    arr.insert(0,r)\n",
    "    a = n//2\n",
    "    n=a\n",
    "print(*arr)"
   ]
  },
  {
   "cell_type": "code",
   "execution_count": 5,
   "id": "13c80e8e-69cc-4fd3-b3c1-f1dfa3dd0a4b",
   "metadata": {},
   "outputs": [
    {
     "name": "stdin",
     "output_type": "stream",
     "text": [
      " 123\n"
     ]
    },
    {
     "name": "stdout",
     "output_type": "stream",
     "text": [
      "321\n"
     ]
    }
   ],
   "source": [
    "# Reversing the given number\n",
    "\n",
    "n=int(input())\n",
    "rev = 0\n",
    "while n>0:\n",
    "    r =n%10\n",
    "    rev  = rev*10 +r\n",
    "    n= n//10\n",
    "print(rev)"
   ]
  },
  {
   "cell_type": "code",
   "execution_count": 10,
   "id": "a5a0e68e-f320-4daf-9d94-23e392a91a95",
   "metadata": {},
   "outputs": [
    {
     "name": "stdin",
     "output_type": "stream",
     "text": [
      " 128\n"
     ]
    },
    {
     "name": "stdout",
     "output_type": "stream",
     "text": [
      "1 0 0 0 0 0 0 0\n"
     ]
    }
   ],
   "source": [
    "# printing the number in the  8 bit binary number\n",
    "\n",
    "arr = [0,0,0,0,0,0,0,0]\n",
    "n = int(input())\n",
    "# for i in range(7,-1,-1):\n",
    "#     arr[i] = n%2\n",
    "i =7\n",
    "while n!=0:\n",
    "    arr[i] = n%2\n",
    "    n=n//2\n",
    "    i = i-1\n",
    "print(*arr)\n",
    "        \n",
    "    \n",
    "    "
   ]
  },
  {
   "cell_type": "code",
   "execution_count": 11,
   "id": "6e8656f5-ef7c-4de4-903b-1f884f75898e",
   "metadata": {},
   "outputs": [
    {
     "name": "stdout",
     "output_type": "stream",
     "text": [
      "<class 'set'>\n"
     ]
    }
   ],
   "source": [
    "# set is collection of heterogeous elements with no duplicates and it is inordered & immutable\n",
    "# collection = single variable is used to store multiple elements\n",
    "# in set we can add and remove elements but we cant assign values\n",
    "\n",
    "s=set()\n",
    "se={1,2,3,4,5,6}\n",
    "print(type(s))\n"
   ]
  },
  {
   "cell_type": "code",
   "execution_count": 22,
   "id": "e82bf918-05c9-442b-b6f2-e50f1f3fe6eb",
   "metadata": {},
   "outputs": [
    {
     "name": "stdin",
     "output_type": "stream",
     "text": [
      " 2\n",
      " 7\n",
      " 1 0 0 0 0 0 0\n"
     ]
    },
    {
     "name": "stdout",
     "output_type": "stream",
     "text": [
      "YES\n"
     ]
    }
   ],
   "source": [
    "N = int(input())\n",
    "M = int(input())\n",
    "# a = input().split()[:sts]\n",
    "a = list(map(int,input().split()))\n",
    "c =0\n",
    "for i in range(M):\n",
    "    if a[i]==0:\n",
    "        if (i == 0 or a[i-1]==0) and (i==M-1 or a[i+1]==0):\n",
    "            c+=1\n",
    "            a[i]=1\n",
    "if c >=n:\n",
    "    print(\"YES\")\n",
    "else:\n",
    "    print(\"NO\")"
   ]
  },
  {
   "cell_type": "code",
   "execution_count": null,
   "id": "c1c539a8-6531-4648-ad10-cd654343bdaf",
   "metadata": {},
   "outputs": [],
   "source": []
  }
 ],
 "metadata": {
  "kernelspec": {
   "display_name": "Python 3 (ipykernel)",
   "language": "python",
   "name": "python3"
  },
  "language_info": {
   "codemirror_mode": {
    "name": "ipython",
    "version": 3
   },
   "file_extension": ".py",
   "mimetype": "text/x-python",
   "name": "python",
   "nbconvert_exporter": "python",
   "pygments_lexer": "ipython3",
   "version": "3.13.5"
  }
 },
 "nbformat": 4,
 "nbformat_minor": 5
}
