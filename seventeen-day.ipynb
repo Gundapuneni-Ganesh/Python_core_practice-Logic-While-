{
 "cells": [
  {
   "cell_type": "code",
   "execution_count": 7,
   "id": "ab649f5d-2b51-4470-b392-2ed9ca33379a",
   "metadata": {},
   "outputs": [
    {
     "name": "stdin",
     "output_type": "stream",
     "text": [
      " 60\n"
     ]
    },
    {
     "name": "stdout",
     "output_type": "stream",
     "text": [
      "1 1 1 1 0 0\n"
     ]
    }
   ],
   "source": [
    "# print the binary number of given number\n",
    "\n",
    "n=int(input())\n",
    "arr=[]\n",
    "while n>0:\n",
    "    r = n%2\n",
    "    arr.insert(0,r)\n",
    "    a = n//2\n",
    "    n=a\n",
    "print(*arr)"
   ]
  },
  {
   "cell_type": "code",
   "execution_count": 5,
   "id": "13c80e8e-69cc-4fd3-b3c1-f1dfa3dd0a4b",
   "metadata": {},
   "outputs": [
    {
     "name": "stdin",
     "output_type": "stream",
     "text": [
      " 123\n"
     ]
    },
    {
     "name": "stdout",
     "output_type": "stream",
     "text": [
      "321\n"
     ]
    }
   ],
   "source": [
    "# Reversing the given number\n",
    "\n",
    "n=int(input())\n",
    "rev = 0\n",
    "while n>0:\n",
    "    r =n%10\n",
    "    rev  = rev*10 +r\n",
    "    n= n//10\n",
    "print(rev)"
   ]
  },
  {
   "cell_type": "code",
   "execution_count": 10,
   "id": "a5a0e68e-f320-4daf-9d94-23e392a91a95",
   "metadata": {},
   "outputs": [
    {
     "name": "stdin",
     "output_type": "stream",
     "text": [
      " 128\n"
     ]
    },
    {
     "name": "stdout",
     "output_type": "stream",
     "text": [
      "1 0 0 0 0 0 0 0\n"
     ]
    }
   ],
   "source": [
    "# printing the number in the  8 bit binary number\n",
    "\n",
    "arr = [0,0,0,0,0,0,0,0]\n",
    "n = int(input())\n",
    "# for i in range(7,-1,-1):\n",
    "#     arr[i] = n%2\n",
    "i =7\n",
    "while n!=0:\n",
    "    arr[i] = n%2\n",
    "    n=n//2\n",
    "    i = i-1\n",
    "print(*arr)\n",
    "        \n",
    "    \n",
    "    "
   ]
  },
  {
   "cell_type": "code",
   "execution_count": 11,
   "id": "6e8656f5-ef7c-4de4-903b-1f884f75898e",
   "metadata": {},
   "outputs": [
    {
     "name": "stdout",
     "output_type": "stream",
     "text": [
      "<class 'set'>\n"
     ]
    }
   ],
   "source": [
    "# set is collection of heterogeous elements with no duplicates and it is inordered & immutable\n",
    "# collection = single variable is used to store multiple elements\n",
    "# in set we can add and remove elements but we cant assign values\n",
    "\n",
    "s=set()\n",
    "se={1,2,3,4,5,6}\n",
    "print(type(s))\n"
   ]
  },
  {
   "cell_type": "code",
   "execution_count": null,
   "id": "e82bf918-05c9-442b-b6f2-e50f1f3fe6eb",
   "metadata": {},
   "outputs": [],
   "source": []
  }
 ],
 "metadata": {
  "kernelspec": {
   "display_name": "Python 3 (ipykernel)",
   "language": "python",
   "name": "python3"
  },
  "language_info": {
   "codemirror_mode": {
    "name": "ipython",
    "version": 3
   },
   "file_extension": ".py",
   "mimetype": "text/x-python",
   "name": "python",
   "nbconvert_exporter": "python",
   "pygments_lexer": "ipython3",
   "version": "3.13.5"
  }
 },
 "nbformat": 4,
 "nbformat_minor": 5
}
