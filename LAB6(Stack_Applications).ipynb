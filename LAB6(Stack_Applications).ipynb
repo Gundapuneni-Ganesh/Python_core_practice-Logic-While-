{
 "cells": [
  {
   "cell_type": "raw",
   "id": "a3d57608-de4e-4d61-8c5f-dd7126d5dc33",
   "metadata": {},
   "source": [
    "=> stack Applications \n",
    "    a+b => infix\n",
    "    ab+ => postfix\n",
    "    +ab => prefix\n"
   ]
  },
  {
   "cell_type": "code",
   "execution_count": 5,
   "id": "00a8a250-d892-414f-8258-d6b525815a35",
   "metadata": {},
   "outputs": [
    {
     "name": "stdin",
     "output_type": "stream",
     "text": [
      " 67*67+5-\n"
     ]
    },
    {
     "name": "stdout",
     "output_type": "stream",
     "text": [
      "8\n"
     ]
    }
   ],
   "source": [
    "# stack applications\n",
    "# using postfix\n",
    "class postfix:\n",
    "    def __init__(self,exp):\n",
    "        # self.queue = []\n",
    "        self.exp = exp\n",
    "    def evalution(self):\n",
    "        stack = []\n",
    "        for ch in self.exp:\n",
    "            if ch not in \"+-*/%\":\n",
    "                stack.append(int(ch))\n",
    "            else:\n",
    "                b = stack.pop()\n",
    "                a = stack.pop()\n",
    "                if ch == \"+\":\n",
    "                    stack.append(a+b)\n",
    "                elif ch == \"-\":\n",
    "                    stack.append(a-b)\n",
    "                elif ch == \"*\":\n",
    "                    stack.append(a*b)\n",
    "                elif ch == \"/\":\n",
    "                    stack.append(a//b)\n",
    "                else:\n",
    "                    stack.append(a%b)\n",
    "        return stack.pop()\n",
    "        \n",
    "exp = input()\n",
    "ob = postfix(exp)\n",
    "result = ob.evalution()\n",
    "print(result)\n",
    "        "
   ]
  },
  {
   "cell_type": "raw",
   "id": "0dafbf24-3e2e-466f-b3a0-254e05d8ad18",
   "metadata": {},
   "source": [
    "=>postfix expression\n",
    "    "
   ]
  },
  {
   "cell_type": "code",
   "execution_count": 7,
   "id": "bf21930d-c74d-4b65-ba57-95215c0a93b4",
   "metadata": {},
   "outputs": [
    {
     "name": "stdin",
     "output_type": "stream",
     "text": [
      "Enter the infix expression:  cvhjt4=-yyj\n"
     ]
    },
    {
     "name": "stdout",
     "output_type": "stream",
     "text": [
      "Postfix expression: cvhjt4yyj-=\n"
     ]
    }
   ],
   "source": [
    "\n",
    "class InfixToPostfix:\n",
    "    def __init__(self):\n",
    "        self.stack = []\n",
    "        self.postfix = ''\n",
    "    def push(self, val):\n",
    "        self.stack.append(val)\n",
    "    def pop(self):\n",
    "        if not self.stack:\n",
    "            print(\"stack is empty\")\n",
    "            return ''\n",
    "        return self.stack.pop()\n",
    "    def precedence(self, ch):\n",
    "        if ch == \"(\":\n",
    "            return 0\n",
    "        elif ch == \"+\" or ch == \"-\":\n",
    "            return 1\n",
    "        elif ch == \"*\" or ch == \"/\" or ch == \"%\":\n",
    "            return 2\n",
    "        elif ch == \"^\":\n",
    "            return 3\n",
    "        else:\n",
    "            return -1\n",
    "    def convert(self, infix):\n",
    "        for ch in infix:\n",
    "            if ch.isalpha() or ch.isdigit():  # Fixed typo 'isaplpha'\n",
    "                self.postfix += ch\n",
    "            elif ch == \"(\":\n",
    "                self.push(ch)\n",
    "            elif ch == \")\":\n",
    "                while self.stack and self.stack[-1] != \"(\":\n",
    "                    self.postfix += self.pop()\n",
    "                if self.stack and self.stack[-1] == \"(\":\n",
    "                    self.pop()\n",
    "            else:  # Operator\n",
    "                while (self.stack and self.precedence(ch) <= self.precedence(self.stack[-1])):\n",
    "                    self.postfix += self.pop()\n",
    "                self.push(ch)  # Pass 'ch' here\n",
    "        while self.stack:  # Move outside the loop\n",
    "            self.postfix += self.pop()\n",
    "        return self.postfix\n",
    "\n",
    "infix = input(\"Enter the infix expression: \")\n",
    "ob = InfixToPostfix()\n",
    "postfix = ob.convert(infix)\n",
    "print(\"Postfix expression:\", postfix)\n"
   ]
  },
  {
   "cell_type": "code",
   "execution_count": 16,
   "id": "06145fd9-f014-43e9-a9e8-05ce2cb64ffd",
   "metadata": {},
   "outputs": [
    {
     "name": "stdin",
     "output_type": "stream",
     "text": [
      "Enter the first integer:  456\n",
      "Enter the second integer:  78\n"
     ]
    },
    {
     "name": "stdout",
     "output_type": "stream",
     "text": [
      "The sum of 456 and 78 is: 534\n"
     ]
    }
   ],
   "source": [
    "# adding of two numbers using stack\n",
    "class Stack:\n",
    "    def __init__(self):\n",
    "        self.stack = []\n",
    "\n",
    "    def push(self, val):\n",
    "        self.stack.append(val)\n",
    "\n",
    "    def pop(self):\n",
    "        if not self.stack:\n",
    "            return 0\n",
    "        return self.stack.pop()\n",
    "\n",
    "    def is_empty(self):\n",
    "        return len(self.stack) == 0\n",
    "\n",
    "def sum_using_stacks(num1, num2):\n",
    "    stack1 = Stack()\n",
    "    stack2 = Stack()\n",
    "    result_stack = Stack()\n",
    "\n",
    "    for digit in str(num1):\n",
    "        stack1.push(int(digit))\n",
    "\n",
    "    for digit in str(num2):\n",
    "        stack2.push(int(digit))\n",
    "\n",
    "    carry = 0\n",
    "    while not stack1.is_empty() or not stack2.is_empty() or carry:\n",
    "        digit1 = stack1.pop()\n",
    "        digit2 = stack2.pop()\n",
    "\n",
    "        current_sum = digit1 + digit2 + carry\n",
    "        result_stack.push(current_sum % 10)\n",
    "        carry = current_sum // 10\n",
    "\n",
    "    result = \"\"\n",
    "    while not result_stack.is_empty():\n",
    "        result += str(result_stack.pop())\n",
    "\n",
    "    return int(result) if result else 0\n",
    "\n",
    "num1 = int(input(\"Enter the first integer: \"))\n",
    "num2 = int(input(\"Enter the second integer: \"))\n",
    "\n",
    "sum_result = sum_using_stacks(num1, num2)\n",
    "print(f\"The sum of {num1} and {num2} is: {sum_result}\")"
   ]
  },
  {
   "cell_type": "code",
   "execution_count": 13,
   "id": "47546a1e-3657-41b3-9b6d-6b590f86b8e0",
   "metadata": {},
   "outputs": [
    {
     "name": "stdin",
     "output_type": "stream",
     "text": [
      " 900\n",
      " 90\n"
     ]
    },
    {
     "name": "stdout",
     "output_type": "stream",
     "text": [
      "990\n"
     ]
    }
   ],
   "source": [
    "def problem(n, m):\n",
    "    a1 = [int(i) for i in n][::-1]\n",
    "    a2 = [int(j) for j in m][::-1]\n",
    "    ans = ''\n",
    "    \n",
    "    large_len = max(len(a1), len(a2))\n",
    "    while len(a1) < large_len:\n",
    "        a1.append(0)\n",
    "    while len(a2) < large_len:\n",
    "        a2.append(0)\n",
    "        \n",
    "    carry = 0\n",
    "    \n",
    "    for i in range(large_len):\n",
    "        add = a1[i] + a2[i] + carry\n",
    "        ans += str(add % 10)\n",
    "        carry = add // 1\n",
    "    \n",
    "    if carry:\n",
    "        ans += str(carry)\n",
    "        \n",
    "    return ans[::-1]\n",
    "\n",
    "a = input()\n",
    "b = input()\n",
    "print(problem(a, b))\n"
   ]
  },
  {
   "cell_type": "code",
   "execution_count": null,
   "id": "b67b469e-a207-4866-8b69-17353af69908",
   "metadata": {},
   "outputs": [],
   "source": []
  }
 ],
 "metadata": {
  "kernelspec": {
   "display_name": "Python 3 (ipykernel)",
   "language": "python",
   "name": "python3"
  },
  "language_info": {
   "codemirror_mode": {
    "name": "ipython",
    "version": 3
   },
   "file_extension": ".py",
   "mimetype": "text/x-python",
   "name": "python",
   "nbconvert_exporter": "python",
   "pygments_lexer": "ipython3",
   "version": "3.12.7"
  }
 },
 "nbformat": 4,
 "nbformat_minor": 5
}
