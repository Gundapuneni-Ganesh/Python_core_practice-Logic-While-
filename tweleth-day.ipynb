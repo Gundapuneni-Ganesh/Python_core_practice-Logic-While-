{
 "cells": [
  {
   "cell_type": "code",
   "execution_count": null,
   "id": "97b1cc9d-5621-437d-97fa-455d75e947a3",
   "metadata": {},
   "outputs": [],
   "source": [
    "class Solution:\n",
    "    def isAnagram(self, s: str, t: str) -> bool:\n",
    "        if len(s) != len(t):\n",
    "            return False\n",
    "        dici = {}\n",
    "        for i in s:\n",
    "            if i in dici:\n",
    "                dici[i] += 1\n",
    "            else:\n",
    "                dici[i] = 1\n",
    "        for i in t:\n",
    "            if i in dici:\n",
    "                dici[i] -= 1\n",
    "            else:\n",
    "                return False\n",
    "        for val in dici.values():\n",
    "            if val != 0:\n",
    "                return False\n",
    "        return True\n"
   ]
  },
  {
   "cell_type": "code",
   "execution_count": null,
   "id": "71790394-54f7-4315-805d-fa38b3beb7ac",
   "metadata": {},
   "outputs": [],
   "source": []
  }
 ],
 "metadata": {
  "kernelspec": {
   "display_name": "Python 3 (ipykernel)",
   "language": "python",
   "name": "python3"
  },
  "language_info": {
   "codemirror_mode": {
    "name": "ipython",
    "version": 3
   },
   "file_extension": ".py",
   "mimetype": "text/x-python",
   "name": "python",
   "nbconvert_exporter": "python",
   "pygments_lexer": "ipython3",
   "version": "3.13.5"
  }
 },
 "nbformat": 4,
 "nbformat_minor": 5
}
