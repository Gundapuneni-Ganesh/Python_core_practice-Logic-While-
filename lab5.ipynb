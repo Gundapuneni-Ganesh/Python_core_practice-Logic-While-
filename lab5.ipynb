{
 "cells": [
  {
   "cell_type": "code",
   "execution_count": 6,
   "id": "bad25129-8108-4241-a4e6-627c276e8d61",
   "metadata": {},
   "outputs": [
    {
     "name": "stdin",
     "output_type": "stream",
     "text": [
      " 1234\n"
     ]
    },
    {
     "name": "stdout",
     "output_type": "stream",
     "text": [
      "[5, 5, 5]\n"
     ]
    }
   ],
   "source": [
    "a=int(input())\n",
    "l=0\n",
    "s =str(a)\n",
    "n =len(s)\n",
    "arr=[]\n",
    "while l<=n//2:\n",
    "    ans =int(s[l]) + int(s[n-l-1])\n",
    "    arr.append(ans)\n",
    "    l+=1\n",
    "print(arr)\n",
    "    "
   ]
  },
  {
   "cell_type": "code",
   "execution_count": 10,
   "id": "b17c87e1-1f2a-4c52-9c0b-b631c7a9b400",
   "metadata": {},
   "outputs": [
    {
     "name": "stdin",
     "output_type": "stream",
     "text": [
      " 124578\n"
     ]
    },
    {
     "name": "stdout",
     "output_type": "stream",
     "text": [
      "9\n"
     ]
    }
   ],
   "source": [
    "import math\n",
    "n=int(input())\n",
    "last = n%10\n",
    "first = n // 10 ** int(math.log10(n))\n",
    "print(last+first)\n",
    "\n"
   ]
  },
  {
   "cell_type": "code",
   "execution_count": null,
   "id": "3b361cff-fcd5-4fd0-ad4c-36fe53d5c3c9",
   "metadata": {},
   "outputs": [],
   "source": []
  },
  {
   "cell_type": "code",
   "execution_count": 15,
   "id": "3d8474bb-4f22-4768-9d7a-3f9bbf09ae86",
   "metadata": {},
   "outputs": [
    {
     "name": "stdin",
     "output_type": "stream",
     "text": [
      " 10000\n"
     ]
    },
    {
     "name": "stdout",
     "output_type": "stream",
     "text": [
      "500- 20\n"
     ]
    }
   ],
   "source": [
    "amount=int(input())\n",
    "if amount%100 !=0:\n",
    "    print(\"invalid amount,try again\")\n",
    "else:\n",
    "    if amount>=500:\n",
    "        f=amount//500\n",
    "        amount=amount%500\n",
    "        print(\"500-\",f)\n",
    "    if amount>=200:\n",
    "        t=amount//200\n",
    "        amount=amount%200\n",
    "        print(\"200-\",t)\n",
    "    if amount>=100:\n",
    "        h=amount//100\n",
    "        print(\"100-\",h)"
   ]
  },
  {
   "cell_type": "code",
   "execution_count": 16,
   "id": "a53e688e-fb6e-40a5-9017-14d613c282ba",
   "metadata": {},
   "outputs": [
    {
     "name": "stdout",
     "output_type": "stream",
     "text": [
      "1.water bottle -20 \n",
      " 2.fried Rice -80 \n",
      " 3. noodles -90\n"
     ]
    },
    {
     "name": "stdin",
     "output_type": "stream",
     "text": [
      "choose the food 2\n",
      " enter the quantity;  3\n"
     ]
    },
    {
     "name": "stdout",
     "output_type": "stream",
     "text": [
      "total bill of fodd is 240\n"
     ]
    }
   ],
   "source": [
    "print(\"1.water bottle -20 \\n 2.fried Rice -80 \\n 3. noodles -90\")\n",
    "user_choice = int(input(\"choose the food\")) \n",
    "sum =0\n",
    "if user_choice == 1:\n",
    "    quantity = int(input(\" enter the quantity; \"))\n",
    "    bill = 20*quantity\n",
    "    sum +=bill\n",
    "if user_choice == 2:\n",
    "    quantity = int(input(\" enter the quantity; \"))\n",
    "    bill = 80*quantity\n",
    "    sum +=bill\n",
    "if user_choice == 3:\n",
    "    quantity = int(input(\" enter the quantity; \"))\n",
    "    bill = 90*quantity\n",
    "    sum +=bill\n",
    "print(f\"total bill of fodd is {sum}\")"
   ]
  },
  {
   "cell_type": "code",
   "execution_count": 18,
   "id": "1d5333b4-3cd5-47fb-83c6-61075219b9b3",
   "metadata": {},
   "outputs": [
    {
     "name": "stdout",
     "output_type": "stream",
     "text": [
      "1.water bottle -20 \n",
      " 2.fried Rice -80 \n",
      " 3. noodles -90 \n",
      " 4. exit\n"
     ]
    },
    {
     "name": "stdin",
     "output_type": "stream",
     "text": [
      "choose the food 1\n",
      " enter the quantity;  3\n",
      "choose the food 2\n",
      " enter the quantity;  3\n",
      "choose the food 3\n",
      " enter the quantity;  2\n",
      "choose the food 4\n"
     ]
    },
    {
     "name": "stdout",
     "output_type": "stream",
     "text": [
      "total bill of fodd is 1160\n"
     ]
    }
   ],
   "source": [
    "print(\"1.water bottle -20 \\n 2.fried Rice -80 \\n 3. noodles -90 \\n 4. exit\")\n",
    "\n",
    "while True:\n",
    "    user_choice = int(input(\"choose the food\")) \n",
    "    if user_choice == 1:\n",
    "        quantity = int(input(\" enter the quantity; \"))\n",
    "        bill = 20*quantity\n",
    "        sum +=bill\n",
    "    elif user_choice == 2:\n",
    "        quantity = int(input(\" enter the quantity; \"))\n",
    "        bill = 80*quantity\n",
    "        sum +=bill\n",
    "    elif user_choice == 3:\n",
    "        quantity = int(input(\" enter the quantity; \"))\n",
    "        bill = 90*quantity\n",
    "        sum +=bill\n",
    "    if user_choice == 4:\n",
    "        break\n",
    "print(f\"total bill for food is {sum}\")"
   ]
  },
  {
   "cell_type": "code",
   "execution_count": 33,
   "id": "230b9b3b-c953-420a-89aa-7e9f8c16a0ca",
   "metadata": {},
   "outputs": [
    {
     "name": "stdin",
     "output_type": "stream",
     "text": [
      " 456\n"
     ]
    },
    {
     "name": "stdout",
     "output_type": "stream",
     "text": [
      "245\n"
     ]
    }
   ],
   "source": [
    "###### \n",
    "a=int(input())\n",
    "b = str(a)\n",
    "ans =0\n",
    "for i in range(1,len(b)+1):\n",
    "    f = int(b[i-1])**i\n",
    "    ans += f\n",
    "print(ans)\n",
    "    \n",
    "    "
   ]
  },
  {
   "cell_type": "code",
   "execution_count": 37,
   "id": "704546fc-e4e2-4979-9cfe-a30f6bc75e93",
   "metadata": {},
   "outputs": [
    {
     "name": "stdin",
     "output_type": "stream",
     "text": [
      " 456\n"
     ]
    },
    {
     "name": "stdout",
     "output_type": "stream",
     "text": [
      "95\n"
     ]
    }
   ],
   "source": [
    "\n",
    "a = int(input())\n",
    "b = str(a)\n",
    "ans = 0\n",
    "for i in range(1, len(b)+1):\n",
    "    f = int(b[i-1]) ** (len(b)-i+1)\n",
    "    ans += f\n",
    "print(ans)\n"
   ]
  },
  {
   "cell_type": "code",
   "execution_count": null,
   "id": "aa09427a-5023-408a-91ac-87f1882fa765",
   "metadata": {},
   "outputs": [],
   "source": []
  },
  {
   "cell_type": "code",
   "execution_count": null,
   "id": "2bc210bc-7c91-47d0-9f2f-4bb503f13e50",
   "metadata": {},
   "outputs": [],
   "source": []
  },
  {
   "cell_type": "code",
   "execution_count": null,
   "id": "08f33b83-99f3-4500-9bf1-355c4a06da62",
   "metadata": {},
   "outputs": [],
   "source": []
  },
  {
   "cell_type": "code",
   "execution_count": null,
   "id": "fde55088-8dc7-419c-a244-ded06c8a3d30",
   "metadata": {},
   "outputs": [],
   "source": []
  },
  {
   "cell_type": "code",
   "execution_count": null,
   "id": "e6de6b0b-dbb2-4921-8fd1-57ea1dae792a",
   "metadata": {},
   "outputs": [],
   "source": []
  }
 ],
 "metadata": {
  "kernelspec": {
   "display_name": "Python 3 (ipykernel)",
   "language": "python",
   "name": "python3"
  },
  "language_info": {
   "codemirror_mode": {
    "name": "ipython",
    "version": 3
   },
   "file_extension": ".py",
   "mimetype": "text/x-python",
   "name": "python",
   "nbconvert_exporter": "python",
   "pygments_lexer": "ipython3",
   "version": "3.12.7"
  }
 },
 "nbformat": 4,
 "nbformat_minor": 5
}
