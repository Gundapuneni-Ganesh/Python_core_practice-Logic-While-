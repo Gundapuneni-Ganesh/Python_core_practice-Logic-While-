{
 "cells": [
  {
   "cell_type": "code",
   "execution_count": 2,
   "id": "992d9957-2fe0-4078-acba-285c778e1d37",
   "metadata": {},
   "outputs": [
    {
     "name": "stdout",
     "output_type": "stream",
     "text": [
      "2 is even number \n",
      "4 is even number \n",
      "6 is even number \n",
      "8 is even number \n",
      "10 is even number \n",
      "12 is even number \n",
      "14 is even number \n",
      "16 is even number \n",
      "18 is even number \n",
      "20 is even number \n"
     ]
    }
   ],
   "source": [
    "i=1\n",
    "while(i<=20):\n",
    "    if( i%2==0):\n",
    "        print(f\"{i} is even number \")\n",
    "    else:\n",
    "        pass\n",
    "    i+=1\n",
    "    "
   ]
  },
  {
   "cell_type": "code",
   "execution_count": 5,
   "id": "95810709-3a2e-42df-b269-8c13f773b1b1",
   "metadata": {},
   "outputs": [
    {
     "name": "stdout",
     "output_type": "stream",
     "text": [
      "1\n",
      "2\n",
      "3\n",
      "4\n",
      "5\n",
      "6\n",
      "7\n",
      "8\n",
      "9\n",
      "10\n",
      "11\n",
      "12\n",
      "13\n",
      "14\n",
      "15\n",
      "16\n",
      "17\n",
      "19\n",
      "20\n",
      "21\n",
      "22\n",
      "23\n",
      "24\n",
      "25\n",
      "26\n",
      "27\n",
      "28\n",
      "29\n",
      "30\n",
      "31\n",
      "32\n",
      "33\n",
      "34\n",
      "35\n"
     ]
    }
   ],
   "source": [
    "for i in range(1,40):\n",
    "    if i==18:\n",
    "        continue\n",
    "    if(i>=36):\n",
    "        break\n",
    "    else:\n",
    "        print(i)"
   ]
  },
  {
   "cell_type": "code",
   "execution_count": 6,
   "id": "b3d85e94-c712-492c-9758-3dee4141b0fa",
   "metadata": {},
   "outputs": [
    {
     "name": "stdout",
     "output_type": "stream",
     "text": [
      "5 * 1 = 5\n",
      "5 * 2 = 10\n",
      "5 * 3 = 15\n",
      "5 * 4 = 20\n",
      "5 * 5 = 25\n",
      "5 * 6 = 30\n",
      "5 * 7 = 35\n",
      "5 * 8 = 40\n",
      "5 * 9 = 45\n",
      "5 * 10 = 50\n"
     ]
    }
   ],
   "source": [
    "n=\n",
    "for i in range(1,11):\n",
    "    print(f\"{n} * {i} = {n*i}\")\n",
    "    "
   ]
  },
  {
   "cell_type": "code",
   "execution_count": 7,
   "id": "1a3f9f6a-a070-4000-9d0a-057ffefe013d",
   "metadata": {},
   "outputs": [
    {
     "name": "stdout",
     "output_type": "stream",
     "text": [
      "10\n",
      "karthik\n",
      "99.9\n"
     ]
    }
   ],
   "source": [
    "x=[10,\"karthik\",99.9]\n",
    "for i in x:\n",
    "    print(i)"
   ]
  },
  {
   "cell_type": "code",
   "execution_count": 11,
   "id": "f4b2fcea-c3a0-4162-ba04-3ef8f056c4cf",
   "metadata": {},
   "outputs": [
    {
     "name": "stdout",
     "output_type": "stream",
     "text": [
      "10->20->30->40->None\n"
     ]
    }
   ],
   "source": [
    "class Node:\n",
    "    def __init__(self, data):\n",
    "        self.data = data\n",
    "        self.next = None  # Use None instead of null\n",
    "\n",
    "    def printing_val(self):\n",
    "        current = self\n",
    "        while current is not None:\n",
    "            print(current.data, end=\"->\")\n",
    "            current = current.next\n",
    "        print(\"None\")\n",
    "\n",
    "\n",
    "# Create nodes\n",
    "node1 = Node(10)\n",
    "node2 = Node(20)\n",
    "node3 = Node(30)\n",
    "node4 = Node(40)\n",
    "\n",
    "# Link nodes\n",
    "node1.next = node2\n",
    "node2.next = node3\n",
    "node3.next = node4\n",
    "\n",
    "# Print linked list starting from node1\n",
    "node1.printing_val()\n"
   ]
  },
  {
   "cell_type": "code",
   "execution_count": 12,
   "id": "a7c0fdbc-64ab-47a0-9eba-73f1ed99d2c5",
   "metadata": {},
   "outputs": [
    {
     "name": "stdout",
     "output_type": "stream",
     "text": [
      "10\n",
      "20\n"
     ]
    }
   ],
   "source": [
    "class Node:\n",
    "    def __init__(self, data):\n",
    "        self.data = data      # store the data\n",
    "        self.next = None      # pointer to next node (default is None)\n",
    "\n",
    "# Create nodes\n",
    "node1 = Node(10)\n",
    "node2 = Node(20)\n",
    "\n",
    "# Link them using .next\n",
    "node1.next = node2\n",
    "\n",
    "# Now node1 points to node2\n",
    "print(node1.data)        # Output: 10\n",
    "print(node1.next.data)   # Output: 20\n"
   ]
  },
  {
   "cell_type": "code",
   "execution_count": null,
   "id": "0b77cb57-6920-465b-98fe-9ffe60cf5688",
   "metadata": {},
   "outputs": [],
   "source": []
  }
 ],
 "metadata": {
  "kernelspec": {
   "display_name": "Python 3 (ipykernel)",
   "language": "python",
   "name": "python3"
  },
  "language_info": {
   "codemirror_mode": {
    "name": "ipython",
    "version": 3
   },
   "file_extension": ".py",
   "mimetype": "text/x-python",
   "name": "python",
   "nbconvert_exporter": "python",
   "pygments_lexer": "ipython3",
   "version": "3.13.5"
  }
 },
 "nbformat": 4,
 "nbformat_minor": 5
}
