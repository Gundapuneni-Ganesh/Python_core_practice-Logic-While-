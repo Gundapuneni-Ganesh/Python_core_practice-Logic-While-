{
 "cells": [
  {
   "cell_type": "code",
   "execution_count": null,
   "id": "7e3397ec-e8e1-4f8d-8c58-ba47914a84e9",
   "metadata": {},
   "outputs": [],
   "source": [
    "# sorting techniques\n"
   ]
  },
  {
   "cell_type": "code",
   "execution_count": 1,
   "id": "3529712e-8de7-4ab6-9adf-4cb5a90fad94",
   "metadata": {},
   "outputs": [
    {
     "name": "stdout",
     "output_type": "stream",
     "text": [
      "[1, 3, 5, 7, 9]\n"
     ]
    }
   ],
   "source": [
    "def bubblesort(a):\n",
    "    n = len(a)\n",
    "    for i in range(n):\n",
    "        for j in range(n-i-1):\n",
    "            if a[j] > a[j+1] :\n",
    "                a[j],a[j+1] = a[j+1] ,a[j]\n",
    "    return a\n",
    "a= [1,5,7,9,3]\n",
    "print(bubblesort(a))\n",
    "                "
   ]
  },
  {
   "cell_type": "code",
   "execution_count": null,
   "id": "7403f7fe-4854-49fe-bd61-71df89249bb3",
   "metadata": {},
   "outputs": [],
   "source": [
    "# quick sort\n"
   ]
  },
  {
   "cell_type": "code",
   "execution_count": 4,
   "id": "21604a1f-52b9-47d9-b801-0962af679979",
   "metadata": {},
   "outputs": [
    {
     "name": "stdin",
     "output_type": "stream",
     "text": [
      " 70 34 56 89 12\n"
     ]
    },
    {
     "name": "stdout",
     "output_type": "stream",
     "text": [
      "[12, 34, 56, 70, 89]\n"
     ]
    }
   ],
   "source": [
    "def Quicksort(a, low, high):\n",
    "    if low < high:\n",
    "        pivot = low\n",
    "        i, j = low, high\n",
    "        while i < j:\n",
    "            while i <= high and a[i] <= a[pivot]:\n",
    "                i += 1\n",
    "            while a[j] > a[pivot]:\n",
    "                j -= 1\n",
    "            if i < j:\n",
    "                a[i], a[j] = a[j], a[i]\n",
    "        a[pivot], a[j] = a[j], a[pivot]\n",
    "        Quicksort(a, low, j-1)\n",
    "        Quicksort(a, j+1, high)\n",
    "\n",
    "a = list(map(int, input().split()))\n",
    "Quicksort(a, low=0, high=len(a)-1)\n",
    "print(a)\n"
   ]
  },
  {
   "cell_type": "code",
   "execution_count": null,
   "id": "62f05a19-4efb-4873-8503-dcf4e3ac0b6a",
   "metadata": {},
   "outputs": [],
   "source": []
  }
 ],
 "metadata": {
  "kernelspec": {
   "display_name": "Python 3 (ipykernel)",
   "language": "python",
   "name": "python3"
  },
  "language_info": {
   "codemirror_mode": {
    "name": "ipython",
    "version": 3
   },
   "file_extension": ".py",
   "mimetype": "text/x-python",
   "name": "python",
   "nbconvert_exporter": "python",
   "pygments_lexer": "ipython3",
   "version": "3.12.7"
  }
 },
 "nbformat": 4,
 "nbformat_minor": 5
}
