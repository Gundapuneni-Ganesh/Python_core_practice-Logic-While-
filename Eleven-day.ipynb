{
 "cells": [
  {
   "cell_type": "code",
   "execution_count": 2,
   "id": "101934eb-e485-4d61-8b12-0f4a9c3d3bf7",
   "metadata": {},
   "outputs": [
    {
     "name": "stdin",
     "output_type": "stream",
     "text": [
      " a4k3b2\n"
     ]
    },
    {
     "ename": "AttributeError",
     "evalue": "'str' object has no attribute 'isnum'",
     "output_type": "error",
     "traceback": [
      "\u001b[1;31m---------------------------------------------------------------------------\u001b[0m",
      "\u001b[1;31mAttributeError\u001b[0m                            Traceback (most recent call last)",
      "Cell \u001b[1;32mIn[2], line 14\u001b[0m\n\u001b[0;32m     12\u001b[0m     \u001b[38;5;28;01mreturn\u001b[39;00m ans\n\u001b[0;32m     13\u001b[0m a\u001b[38;5;241m=\u001b[39m\u001b[38;5;28minput\u001b[39m()\n\u001b[1;32m---> 14\u001b[0m b\u001b[38;5;241m=\u001b[39m string_val(a)\n\u001b[0;32m     15\u001b[0m \u001b[38;5;28mprint\u001b[39m(b)\n",
      "Cell \u001b[1;32mIn[2], line 9\u001b[0m, in \u001b[0;36mstring_val\u001b[1;34m(s)\u001b[0m\n\u001b[0;32m      7\u001b[0m     d\u001b[38;5;241m=\u001b[39m\u001b[38;5;28mord\u001b[39m(c)\n\u001b[0;32m      8\u001b[0m     ans \u001b[38;5;241m+\u001b[39m\u001b[38;5;241m=\u001b[39m c\n\u001b[1;32m----> 9\u001b[0m \u001b[38;5;28;01melif\u001b[39;00m i\u001b[38;5;241m.\u001b[39misnum():\n\u001b[0;32m     10\u001b[0m     e \u001b[38;5;241m=\u001b[39m d \u001b[38;5;241m+\u001b[39m \u001b[38;5;28mint\u001b[39m(i)\n\u001b[0;32m     11\u001b[0m     ans \u001b[38;5;241m+\u001b[39m\u001b[38;5;241m=\u001b[39m\u001b[38;5;28mchr\u001b[39m(e)\u001b[38;5;241m.\u001b[39mlower()\n",
      "\u001b[1;31mAttributeError\u001b[0m: 'str' object has no attribute 'isnum'"
     ]
    }
   ],
   "source": [
    "def string_val(s): #a4k3b2 output: AeKnbd\n",
    "    as_val = 97    # x2y3 output: xzye\n",
    "    ans=\" \"\n",
    "    for i in s:\n",
    "        if i.isalpha():\n",
    "            c=i\n",
    "            d=ord(c)\n",
    "            ans += c\n",
    "        elif i.isnum():\n",
    "            e = d + int(i)\n",
    "            ans +=chr(e).lower()\n",
    "    return ans\n",
    "a=input()\n",
    "b= string_val(a)\n",
    "print(b)"
   ]
  },
  {
   "cell_type": "code",
   "execution_count": 5,
   "id": "e22929d2-8672-4fc3-9f42-b64917c9712f",
   "metadata": {},
   "outputs": [
    {
     "name": "stdin",
     "output_type": "stream",
     "text": [
      " x2y3\n"
     ]
    },
    {
     "name": "stdout",
     "output_type": "stream",
     "text": [
      "xzy|\n"
     ]
    }
   ],
   "source": [
    "def string_val(s):     #a4k3b2 output: AeKnbd\n",
    "    as_val = 97        # x2y3 output: xzye\n",
    "    ans=\" \"\n",
    "    for i in s:\n",
    "        if i.isalpha():\n",
    "            c=i\n",
    "            d=ord(c)\n",
    "            ans += c\n",
    "        elif i.isdigit():   # <--- MISTAKE! should be isdigit()\n",
    "            e = d + int(i)\n",
    "            ans +=chr(e).lower()\n",
    "    return ans\n",
    "a=input()\n",
    "b= string_val(a).strip()\n",
    "print(b) \n"
   ]
  },
  {
   "cell_type": "code",
   "execution_count": 6,
   "id": "ed935f21-961e-414b-bc0b-64bcb3fa2fa0",
   "metadata": {},
   "outputs": [
    {
     "name": "stdout",
     "output_type": "stream",
     "text": [
      "0 5\n",
      "1 15\n",
      "2 35\n",
      "3 8\n",
      "4 98\n"
     ]
    }
   ],
   "source": [
    "a=[5,15,35,8,98]\n",
    "for i in range(0,len(a)):\n",
    "    print(i , a[i])"
   ]
  },
  {
   "cell_type": "code",
   "execution_count": 7,
   "id": "56fac188-c1de-4b06-9202-99b3698388c9",
   "metadata": {},
   "outputs": [
    {
     "name": "stdout",
     "output_type": "stream",
     "text": [
      "[1, 2, 3, 4, 5]\n"
     ]
    }
   ],
   "source": [
    "a = [1, 2, 3, 5, 4]\n",
    "for i in range(len(a)):\n",
    "    for j in range(i+1, len(a)):\n",
    "        if a[i] > a[j]:\n",
    "            a[i], a[j] = a[j], a[i]\n",
    "print(a)\n"
   ]
  },
  {
   "cell_type": "code",
   "execution_count": null,
   "id": "f8dfdbb1-b9fb-4f98-bfd6-f5fa7a086913",
   "metadata": {},
   "outputs": [],
   "source": [
    "a = [2, 4, 3, 5, 7]\n",
    "\n",
    "def is_sublist(main_list, sub_list):\n",
    "    n = len(main_list)\n",
    "    m = len(sub_list)\n",
    "    \n",
    "    for i in range(n - m + 1):\n",
    "        # Slice the main list from i to i+m and check if it equals the sub_list\n",
    "        if main_list[i:i+m] == sub_list:\n",
    "            return True\n",
    "    return False\n",
    "\n",
    "sublist1 = [4, 3]\n",
    "sublist2 = [3, 7]\n",
    "\n",
    "print(is_sublist(a, sublist1))  # True\n",
    "print(is_sublist(a, sublist2))  # False\n"
   ]
  },
  {
   "cell_type": "code",
   "execution_count": null,
   "id": "747c3fdf-976e-4181-bbc6-9cc3aa08f368",
   "metadata": {},
   "outputs": [],
   "source": [
    "class Solution:\n",
    "    def isHappy(self, n: int) -> bool:\n",
    "        se = set()  # to store numbers already seen\n",
    "        \n",
    "        while n != 1 and n not in seen:\n",
    "            se.add(n)\n",
    "            sun = 0\n",
    "            for di in str(n):\n",
    "                sun += int(di) ** 2  \n",
    "            n = sun\n",
    "        \n",
    "        return n == 1\n"
   ]
  }
 ],
 "metadata": {
  "kernelspec": {
   "display_name": "Python 3 (ipykernel)",
   "language": "python",
   "name": "python3"
  },
  "language_info": {
   "codemirror_mode": {
    "name": "ipython",
    "version": 3
   },
   "file_extension": ".py",
   "mimetype": "text/x-python",
   "name": "python",
   "nbconvert_exporter": "python",
   "pygments_lexer": "ipython3",
   "version": "3.13.5"
  }
 },
 "nbformat": 4,
 "nbformat_minor": 5
}
