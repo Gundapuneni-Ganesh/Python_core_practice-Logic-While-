{
 "cells": [
  {
   "cell_type": "code",
   "execution_count": null,
   "id": "ca5469af-8fb1-4ee0-ae39-604e9faa4a7f",
   "metadata": {},
   "outputs": [
    {
     "name": "stdout",
     "output_type": "stream",
     "text": [
      "  **** \n",
      " *     \n",
      " *     \n",
      " * ****\n",
      " *    *\n",
      " *     \n",
      "  **** \n"
     ]
    }
   ],
   "source": [
    "\n",
    "rows = 7\n",
    "cols = 7\n",
    "\n",
    "for i in range(rows):\n",
    "    for j in range(cols):\n",
    "        # Logic for G: outline, opening and inner bar\n",
    "        if ((i == 0 and 1 < j < cols-1) or                # Top bar\n",
    "            (j == 1 and 0 < i < rows-1) or                # Left bar (except top and bottom row)\n",
    "            (i == rows-1 and 1 < j < cols-1) or           # Bottom bar\n",
    "            (j == cols-1 and 2 < i < rows-2) or           # Right stroke\n",
    "            (i == rows//2 and j >= cols//2)):             # Middle bar\n",
    "            print(\"*\", end=\"\")\n",
    "        else:\n",
    "            print(\" \", end=\"\")\n",
    "    print()"
   ]
  },
  {
   "cell_type": "code",
   "execution_count": null,
   "id": "3cba9248-68e1-4f22-a291-9015c0b4e082",
   "metadata": {},
   "outputs": [],
   "source": []
  }
 ],
 "metadata": {
  "kernelspec": {
   "display_name": "Python 3 (ipykernel)",
   "language": "python",
   "name": "python3"
  },
  "language_info": {
   "codemirror_mode": {
    "name": "ipython",
    "version": 3
   },
   "file_extension": ".py",
   "mimetype": "text/x-python",
   "name": "python",
   "nbconvert_exporter": "python",
   "pygments_lexer": "ipython3",
   "version": "3.13.5"
  }
 },
 "nbformat": 4,
 "nbformat_minor": 5
}
