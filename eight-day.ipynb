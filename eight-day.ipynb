{
 "cells": [
  {
   "cell_type": "code",
   "execution_count": 44,
   "id": "1a435422-9935-4ff7-b42f-d08ac3ef1ceb",
   "metadata": {},
   "outputs": [
    {
     "name": "stdout",
     "output_type": "stream",
     "text": [
      "* * *   * * *   * * *   * * * \n",
      "*         *     *         *   \n",
      "*         *     * * *     *   \n",
      "*         *     *         *   \n",
      "* * *   * * *   * * *     *   \n"
     ]
    }
   ],
   "source": [
    "r = 5\n",
    "c = 3\n",
    "co=65\n",
    "for i in range(r):\n",
    "    \n",
    "    for j in range(c):\n",
    "        if i == 0 or i == r-1 or j == 0:\n",
    "            print(\"*\", end=\" \")\n",
    "            co+=1\n",
    "        else:\n",
    "            print(\" \", end=\" \")\n",
    "    \n",
    "    print(\"  \", end=\"\")  # Space between letters\n",
    "    \n",
    "    \n",
    "    for k in range(c):\n",
    "        if i == 0 or i == r-1 or k == c//2:\n",
    "            print(\"*\", end=\" \")\n",
    "            co+=1\n",
    "        else:\n",
    "            print(\" \", end=\" \")\n",
    "    \n",
    "    print(\" \",end=\" \")  # Move to next line\n",
    "\n",
    "\n",
    "    for j in range(0,c):\n",
    "        if i==0 or i==2 or j==0 or i==4:\n",
    "            print(\"*\",end=\" \")\n",
    "            co+=1\n",
    "        else:\n",
    "            print(\" \",end=\" \")\n",
    "    print(\" \",end=\" \") \n",
    "\n",
    "    for j in range(0,c):\n",
    "        if i==0 or j==1:\n",
    "            print(\"*\",end=\" \")\n",
    "            co+=1\n",
    "        else:\n",
    "            print(\" \",end=\" \")\n",
    "    print()"
   ]
  },
  {
   "cell_type": "code",
   "execution_count": 3,
   "id": "78e7c4f5-8e57-477d-bdea-532ce8afbe4c",
   "metadata": {},
   "outputs": [
    {
     "name": "stdout",
     "output_type": "stream",
     "text": [
      "Manner\n",
      "Good \n"
     ]
    }
   ],
   "source": [
    " s=\"Good Manner\"\n",
    "print(s[5:])\n",
    "print(s[:5])"
   ]
  },
  {
   "cell_type": "code",
   "execution_count": 8,
   "id": "9f1a4c59-238f-4cf5-9696-61dd2d652523",
   "metadata": {},
   "outputs": [
    {
     "name": "stdout",
     "output_type": "stream",
     "text": [
      "Good manner\n"
     ]
    }
   ],
   "source": [
    "a=\"good Manner\"\n",
    "b= a.capitalize()\n",
    "print(b)\n",
    "# print(s[:5])"
   ]
  },
  {
   "cell_type": "code",
   "execution_count": 10,
   "id": "3d765d78-4e15-45e6-8aa1-2f44f97fb846",
   "metadata": {},
   "outputs": [
    {
     "name": "stdout",
     "output_type": "stream",
     "text": [
      "$$$$good Manner$$$$$\n",
      "20\n"
     ]
    }
   ],
   "source": [
    "a=\"good Manner\"\n",
    "b= a.center(20,\"$\")\n",
    "print(b)\n",
    "print(len(b))"
   ]
  },
  {
   "cell_type": "code",
   "execution_count": 11,
   "id": "603150ec-903e-480f-a352-efee6bdb2111",
   "metadata": {},
   "outputs": [
    {
     "name": "stdout",
     "output_type": "stream",
     "text": [
      "3\n"
     ]
    }
   ],
   "source": [
    "a=(1,2,3,2,3,2,4,5)\n",
    "b= a.count(2)\n",
    "print(b)"
   ]
  },
  {
   "cell_type": "code",
   "execution_count": 27,
   "id": "bbe34cd8-a493-4a45-8663-c46b8cf8f6e6",
   "metadata": {},
   "outputs": [
    {
     "name": "stdout",
     "output_type": "stream",
     "text": [
      "0\n"
     ]
    }
   ],
   "source": [
    "n=[23,43,1,24,2,0]\n",
    "temp = n[0] # smallest value \n",
    "for i in n:\n",
    "    if i < temp:\n",
    "        temp =i\n",
    "print(temp)\n"
   ]
  },
  {
   "cell_type": "code",
   "execution_count": 18,
   "id": "b9969cf1-e4ad-4b97-855a-37aeac8f882e",
   "metadata": {},
   "outputs": [
    {
     "name": "stdout",
     "output_type": "stream",
     "text": [
      "2\n"
     ]
    }
   ],
   "source": [
    "a=(2,3,4,5,6,7,8)\n",
    "print(a.index(4))"
   ]
  },
  {
   "cell_type": "code",
   "execution_count": 24,
   "id": "0974eca6-729b-44fa-afb6-345bdf8081c5",
   "metadata": {},
   "outputs": [
    {
     "name": "stdout",
     "output_type": "stream",
     "text": [
      "4\n"
     ]
    }
   ],
   "source": [
    "a=(2,3,5,4,6,7,8) # checking position number of given element  in the tuple\n",
    "for i in range(0,len(a)+1):\n",
    "    if a[i] == 4:\n",
    "        pos = i\n",
    "        break\n",
    "print(pos+1)\n",
    "        "
   ]
  },
  {
   "cell_type": "code",
   "execution_count": 28,
   "id": "bab530fc-52da-4997-98a3-29823743ac3b",
   "metadata": {},
   "outputs": [
    {
     "name": "stdout",
     "output_type": "stream",
     "text": [
      "no\n"
     ]
    }
   ],
   "source": [
    "a=\"Hell0 45\"\n",
    "if a.isalnum(): # checking all letters are numbers\n",
    "    print(\"all letter are numerical\")\n",
    "else:\n",
    "    print(\"no\")\n"
   ]
  },
  {
   "cell_type": "code",
   "execution_count": 37,
   "id": "98724089-da26-4885-83e5-6df2df1db77b",
   "metadata": {},
   "outputs": [
    {
     "name": "stdout",
     "output_type": "stream",
     "text": [
      "False\n",
      "True\n",
      "hello , world\n",
      " kello , world \n",
      "[' hello ', ' world ']\n"
     ]
    }
   ],
   "source": [
    "a=\" hello , world \"\n",
    "print(a.isupper()) # checks capital letters are not \n",
    "print(a.islower())  # checks small letters are not \n",
    "print(a.strip())   # removes the spaces \n",
    "print(a.replace(\"h\",\"k\")) # replace the characters\n",
    "print(a.split(\",\")) # splits with comma and return in the form of array"
   ]
  },
  {
   "cell_type": "code",
   "execution_count": 38,
   "id": "38223b83-1b61-4653-bd08-8476d9a236d0",
   "metadata": {},
   "outputs": [
    {
     "name": "stdout",
     "output_type": "stream",
     "text": [
      "2\n"
     ]
    }
   ],
   "source": [
    "a=\"Dear Students@ 8585\"\n",
    "c=0\n",
    "for i in a:\n",
    "    if i.isupper(): # checking how many capital letters are there in string\n",
    "        c+=1\n",
    "print(c)"
   ]
  },
  {
   "cell_type": "code",
   "execution_count": 39,
   "id": "2b1bcf1c-6bff-4b2f-94b9-c26ba954d3e8",
   "metadata": {},
   "outputs": [
    {
     "name": "stdout",
     "output_type": "stream",
     "text": [
      "LinkedList: C -> B -> A -> \n",
      "Peek:  C\n",
      "Pop:  C\n",
      "LinkedList after Pop: B -> A -> \n",
      "isEmpty:  False\n",
      "Size:  2\n"
     ]
    }
   ],
   "source": [
    "class Node:\n",
    "  def __init__(self, value):\n",
    "    self.value = value\n",
    "    self.next = None\n",
    "\n",
    "class Stack:\n",
    "  def __init__(self):\n",
    "    self.head = None\n",
    "    self.size = 0\n",
    "\n",
    "  def push(self, value):\n",
    "    new_node = Node(value)\n",
    "    if self.head:\n",
    "      new_node.next = self.head\n",
    "    self.head = new_node\n",
    "    self.size += 1\n",
    "\n",
    "  def pop(self):\n",
    "    if self.isEmpty():\n",
    "      return \"Stack is empty\"\n",
    "    popped_node = self.head\n",
    "    self.head = self.head.next\n",
    "    self.size -= 1\n",
    "    return popped_node.value\n",
    "\n",
    "  def peek(self):\n",
    "    if self.isEmpty():\n",
    "      return \"Stack is empty\"\n",
    "    return self.head.value\n",
    "\n",
    "  def isEmpty(self):\n",
    "    return self.size == 0\n",
    "\n",
    "  def stackSize(self):\n",
    "    return self.size\n",
    "\n",
    "  def traverseAndPrint(self):\n",
    "    currentNode = self.head\n",
    "    while currentNode:\n",
    "      print(currentNode.value, end=\" -> \")\n",
    "      currentNode = currentNode.next\n",
    "    print()\n",
    "\n",
    "myStack = Stack()\n",
    "myStack.push('A')\n",
    "myStack.push('B')\n",
    "myStack.push('C')\n",
    "\n",
    "print(\"LinkedList: \", end=\"\")\n",
    "myStack.traverseAndPrint()\n",
    "print(\"Peek: \", myStack.peek())\n",
    "print(\"Pop: \", myStack.pop())\n",
    "print(\"LinkedList after Pop: \", end=\"\")\n",
    "myStack.traverseAndPrint()\n",
    "print(\"isEmpty: \", myStack.isEmpty())\n",
    "print(\"Size: \", myStack.stackSize())"
   ]
  },
  {
   "cell_type": "code",
   "execution_count": 42,
   "id": "bf3c7866-7f69-4282-aa86-5e0a4cfd1b29",
   "metadata": {},
   "outputs": [
    {
     "name": "stdout",
     "output_type": "stream",
     "text": [
      "lower value : 10\n",
      "upper value : 2\n",
      "space value : 2\n",
      "numbers  value : 4\n"
     ]
    }
   ],
   "source": [
    "a=\"Dear Students@ 8585\"\n",
    "low=0\n",
    "up=0\n",
    "sp=0\n",
    "num=0\n",
    "for i in a:\n",
    "    if i.islower(): # checking how many capital letters are there in string\n",
    "        low+=1\n",
    "    elif i.isupper():\n",
    "        up+=1\n",
    "    elif i.isspace():\n",
    "        sp+=1\n",
    "    elif i.isalnum():\n",
    "        num+=1\n",
    "    \n",
    "print(f\"lower value : {low}\")\n",
    "print(f\"upper value : {up}\")\n",
    "print(f\"space value : {sp}\")\n",
    "print(f\"numbers  value : {num}\")"
   ]
  },
  {
   "cell_type": "code",
   "execution_count": 14,
   "id": "38daf76c-73e1-43d4-a8a4-abec3b2e778c",
   "metadata": {},
   "outputs": [
    {
     "name": "stdin",
     "output_type": "stream",
     "text": [
      " abcb\n"
     ]
    },
    {
     "name": "stdout",
     "output_type": "stream",
     "text": [
      "['a', 'ab', 'abc', 'abcb', 'b', 'bc', 'bcb', 'c', 'cb', 'b']\n"
     ]
    }
   ],
   "source": [
    "s=input()\n",
    "#  output : a,ab,abc,abcd,b,bc,bcd,c,cd,d\n",
    "ar=[]\n",
    "for i in range(0,len(s)+1):\n",
    "    for j in range(i+1,len(s)+1):\n",
    "        tem=''\n",
    "        for k in range(i,j):\n",
    "            tem += s[k]\n",
    "        ar.append(tem)\n",
    "print(ar)\n",
    "\n"
   ]
  },
  {
   "cell_type": "code",
   "execution_count": 12,
   "id": "c479467f-282f-4912-9c46-80ebdc7a392f",
   "metadata": {},
   "outputs": [
    {
     "name": "stdout",
     "output_type": "stream",
     "text": [
      "a,ab,abc,abcd,b,bc,bcd,c,cd,d,"
     ]
    }
   ],
   "source": [
    "ar=[]\n",
    "l=0\n",
    "for i in range(0,len(s)+1):\n",
    "    for j in range(i+1,len(s)+1):\n",
    "        print(s[i:j],end=\",\")\n",
    "\n"
   ]
  },
  {
   "cell_type": "code",
   "execution_count": null,
   "id": "f76b12e1-a501-498e-a35f-c0109ff456f7",
   "metadata": {},
   "outputs": [],
   "source": [
    " class node:\n",
    "     def __init__(self,value):\n",
    "         self.value = value \n",
    "         self.next = None\n",
    " class stack:\n",
    "     def __init__(self,head):\n",
    "         self.head = None\n",
    "         self.size= 0\n",
    "    def insert(self,element):\n",
    "        new_node = node(element)\n",
    "        "
   ]
  },
  {
   "cell_type": "code",
   "execution_count": 5,
   "id": "512acd71-c483-44f3-9356-94d20c498c2d",
   "metadata": {},
   "outputs": [
    {
     "name": "stdin",
     "output_type": "stream",
     "text": [
      " banana\\\n"
     ]
    },
    {
     "name": "stdout",
     "output_type": "stream",
     "text": [
      "['b', 'ba', 'ban', 'bana', 'banan', 'banana', 'banana\\\\', 'a', 'an', 'ana', 'anan', 'anana', 'anana\\\\', 'n', 'na', 'nan', 'nana', 'nana\\\\', 'a', 'an', 'ana', 'ana\\\\', 'n', 'na', 'na\\\\', 'a', 'a\\\\', '\\\\']\n",
      "['b', 'a', 'ana', 'anana', 'n', 'nan', 'a', 'ana', 'n', 'a', '\\\\']\n",
      "5\n",
      "anana\n"
     ]
    }
   ],
   "source": [
    "# Online Python compiler (interpreter) to run Python online.\n",
    "# Write Python 3 code in this online editor and run it.\n",
    "s=input()\n",
    "#  output : a,ab,abc,abcd,b,bc,bcd,c,cd,d\n",
    "ar=[]\n",
    "for i in range(0,len(s)+1):\n",
    "    for j in range(i+1,len(s)+1):\n",
    "        tem=''\n",
    "        for k in range(i,j):\n",
    "            tem += s[k]\n",
    "        ar.append(tem)\n",
    "print(ar)\n",
    "f =[]\n",
    "ans =0\n",
    "for i in ar:\n",
    "    c=i\n",
    "    d=c[::-1]\n",
    "    if d == i:\n",
    "        f.append(i)\n",
    "        # e = len(i)\n",
    "        # ans =max(ans,e)\n",
    "print(f)\n",
    "\n",
    "for j in f:\n",
    "    e = len(j)\n",
    "    ans =max(ans,e)\n",
    "print(ans)\n",
    "\n",
    "for k in f:\n",
    "    g = len(k)\n",
    "    if g == ans:\n",
    "        print(k)\n",
    "        break\n",
    "    \n",
    "        "
   ]
  },
  {
   "cell_type": "code",
   "execution_count": null,
   "id": "aeea0f37-b53a-4060-aa4d-af6beb978276",
   "metadata": {},
   "outputs": [],
   "source": []
  }
 ],
 "metadata": {
  "kernelspec": {
   "display_name": "Python 3 (ipykernel)",
   "language": "python",
   "name": "python3"
  },
  "language_info": {
   "codemirror_mode": {
    "name": "ipython",
    "version": 3
   },
   "file_extension": ".py",
   "mimetype": "text/x-python",
   "name": "python",
   "nbconvert_exporter": "python",
   "pygments_lexer": "ipython3",
   "version": "3.13.5"
  }
 },
 "nbformat": 4,
 "nbformat_minor": 5
}
