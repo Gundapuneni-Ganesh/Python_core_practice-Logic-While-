{
 "cells": [
  {
   "cell_type": "raw",
   "id": "28b77b55-7520-4819-8476-e394ced5ed27",
   "metadata": {},
   "source": [
    "=> stack\n",
    "    # stack is linar data structure in which elements are inserted fron one end and delete fron same end\n",
    "    LIFO\n",
    "    `\n"
   ]
  },
  {
   "cell_type": "code",
   "execution_count": 4,
   "id": "47e2b476-25ff-4977-ae85-1b13efc8a5cb",
   "metadata": {},
   "outputs": [
    {
     "name": "stdout",
     "output_type": "stream",
     "text": [
      "stack elements :  [10, 20, 30, 40]\n",
      "peek element are :  40\n",
      "Delete  element :  40\n",
      "stack elements :  [10, 20, 30]\n"
     ]
    }
   ],
   "source": [
    "# easy method to implement in stack\n",
    "\n",
    "class stack:\n",
    "    def __init__(self):\n",
    "        self.stack= []\n",
    "    def push(self,val):\n",
    "        return self.stack.append(val)\n",
    "    def pop(self):\n",
    "        return self.stack.pop()\n",
    "    def display(self):\n",
    "        return self.stack\n",
    "    def peek(self):\n",
    "        return self.stack[-1]\n",
    "ob = stack()\n",
    "ob.push(10)\n",
    "ob.push(20)\n",
    "ob.push(30)\n",
    "ob.push(40)\n",
    "print(\"stack elements : \",ob.display())\n",
    "print(\"peek element are : \",ob.peek())\n",
    "print(\"Delete  element : \",ob.pop())\n",
    "print(\"stack elements : \",ob.display())"
   ]
  },
  {
   "cell_type": "code",
   "execution_count": 8,
   "id": "8b693df7-927e-442c-9700-9039c43d8e55",
   "metadata": {},
   "outputs": [
    {
     "name": "stdout",
     "output_type": "stream",
     "text": [
      "Stack elements : [10, 20, 30, 40, None]\n",
      "Peek element : 40\n",
      "Delete element : 40\n",
      "Delete element : 30\n",
      "Stack elements : [10, 20, None, None, None]\n"
     ]
    }
   ],
   "source": [
    "class Stack:\n",
    "    def __init__(self, n):\n",
    "        self.max_size = n\n",
    "        self.stack = [None] * self.max_size\n",
    "        self.top = -1\n",
    "    def push(self, val):\n",
    "        if self.top == self.max_size - 1:\n",
    "            print(\"Stack is full\")\n",
    "        else:\n",
    "            self.top += 1\n",
    "            self.stack[self.top] = val\n",
    "    def pop(self):\n",
    "        if self.top == -1:\n",
    "            print(\"Stack is empty\")\n",
    "            return None\n",
    "        else:\n",
    "            temp = self.stack[self.top]\n",
    "            self.stack[self.top] = None\n",
    "            self.top -= 1\n",
    "            return temp\n",
    "    def display(self):\n",
    "        if self.top == -1:\n",
    "            print(\"Stack is empty\")\n",
    "            return []\n",
    "        else:\n",
    "            return self.stack\n",
    "    def peek(self):\n",
    "        if self.top == -1:\n",
    "            print(\"Stack is empty\")\n",
    "            return None\n",
    "        else:\n",
    "            return self.stack[self.top]\n",
    "\n",
    "ob = Stack(5)\n",
    "ob.push(10)\n",
    "ob.push(20)\n",
    "ob.push(30)\n",
    "ob.push(40)\n",
    "print(\"Stack elements :\", ob.display())\n",
    "print(\"Peek element :\", ob.peek())\n",
    "print(\"Delete element :\", ob.pop())\n",
    "print(\"Delete element :\", ob.pop())\n",
    "print(\"Stack elements :\", ob.display())\n"
   ]
  },
  {
   "cell_type": "code",
   "execution_count": null,
   "id": "116d7037-953b-4705-b64d-ad2a236ffd2f",
   "metadata": {},
   "outputs": [],
   "source": []
  }
 ],
 "metadata": {
  "kernelspec": {
   "display_name": "Python 3 (ipykernel)",
   "language": "python",
   "name": "python3"
  },
  "language_info": {
   "codemirror_mode": {
    "name": "ipython",
    "version": 3
   },
   "file_extension": ".py",
   "mimetype": "text/x-python",
   "name": "python",
   "nbconvert_exporter": "python",
   "pygments_lexer": "ipython3",
   "version": "3.12.7"
  }
 },
 "nbformat": 4,
 "nbformat_minor": 5
}
