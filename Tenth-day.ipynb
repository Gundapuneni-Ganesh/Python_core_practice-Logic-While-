{
 "cells": [
  {
   "cell_type": "code",
   "execution_count": 2,
   "id": "359396ee-6889-4cd4-9864-3eb0d2a13dbe",
   "metadata": {},
   "outputs": [
    {
     "name": "stdin",
     "output_type": "stream",
     "text": [
      " this is ganesh chowdary\n"
     ]
    },
    {
     "name": "stdout",
     "output_type": "stream",
     "text": [
      "siht si hsenag yradwohc\n"
     ]
    }
   ],
   "source": [
    "# reverse the each word in the string \n",
    "def rev(s):\n",
    "    wo = s.split()\n",
    "    revwo = [w[::-1] for w in wo]\n",
    "    return \" \".join(revwo)\n",
    "a=input()\n",
    "print(rev(a))"
   ]
  },
  {
   "cell_type": "code",
   "execution_count": null,
   "id": "14b853e2-4536-48fa-846d-5f563cb35a8b",
   "metadata": {},
   "outputs": [],
   "source": [
    "s=\"harhtautuargjy\"\n",
    "print(len([ch for ch in s if ch == \"a\"]))"
   ]
  },
  {
   "cell_type": "code",
   "execution_count": 5,
   "id": "c9c63f66-2611-4055-97ef-0b9495cd499a",
   "metadata": {},
   "outputs": [
    {
     "name": "stdin",
     "output_type": "stream",
     "text": [
      "Enter the range value :  4\n",
      "Enter the range value :  23\n",
      "Enter the range value :  32\n",
      "Enter the range value :  34\n",
      "Enter the range value :  45\n"
     ]
    },
    {
     "name": "stdout",
     "output_type": "stream",
     "text": [
      "[23, 32, 34, 45]\n",
      "2\n"
     ]
    }
   ],
   "source": [
    "a=[]\n",
    "v= int(input(\"Enter the range value : \"))\n",
    "for i in range(0,v):\n",
    "    vl= int(input(\"Enter the range value : \"))\n",
    "    a.append(vl)\n",
    "print(a)\n",
    "print(a.index(34))\n"
   ]
  },
  {
   "cell_type": "code",
   "execution_count": 8,
   "id": "57ba4635-e20c-4c46-befd-6d6714a62cf4",
   "metadata": {},
   "outputs": [
    {
     "name": "stdout",
     "output_type": "stream",
     "text": [
      "[2, 3, 63, 6, 4]\n",
      "[]\n"
     ]
    }
   ],
   "source": [
    "a=[2,3,6,4]\n",
    "a.insert(2,63)\n",
    "print(a)\n",
    "a.clear() # remove all elements in the list\n",
    "print(a)"
   ]
  },
  {
   "cell_type": "code",
   "execution_count": 9,
   "id": "30da83f2-c149-4e3a-ae6c-aa8f1570c604",
   "metadata": {},
   "outputs": [
    {
     "name": "stdout",
     "output_type": "stream",
     "text": [
      "[6, 4, 3, 2]\n"
     ]
    }
   ],
   "source": [
    "a=[2,3,6,4]\n",
    "a.sort(reverse = True)\n",
    "print(a)\n",
    "a.remove(6) # keeping the value or keeping the index value is \" a.remove(a[2]) \"\n",
    "print(a)"
   ]
  },
  {
   "cell_type": "code",
   "execution_count": null,
   "id": "4cc9cb16-b3fb-4d8f-8cd3-6410a7d4a050",
   "metadata": {},
   "outputs": [],
   "source": [
    "a=[]\n",
    "v= int(input(\"Enter the range value : \"))\n",
    "for i in range(0,v):\n",
    "    vl= eval(input(\"Enter the range value : \")) # it will take all type of data types \n",
    "    a.append(vl)\n",
    "print(a)\n",
    "print(a.index(34))\n"
   ]
  },
  {
   "cell_type": "code",
   "execution_count": null,
   "id": "9ec96f15-26ae-4f9a-8d23-11f83cca8117",
   "metadata": {},
   "outputs": [],
   "source": [
    "class Node:\n",
    "  def __init__(self, value):\n",
    "    self.value = value\n",
    "    self.next = None\n",
    "\n",
    "class Stack:\n",
    "  def __init__(self):\n",
    "    self.head = None\n",
    "    self.size = 0\n",
    "\n",
    "  def push(self,value):\n",
    "      new_node = Node(value)\n",
    "      if self.head:\n",
    "          new_node.next = self.head\n",
    "      self.head = new_node\n",
    "      self.size +=1\n",
    "      "
   ]
  },
  {
   "cell_type": "code",
   "execution_count": null,
   "id": "05d00418-92e2-43b7-8a89-95397d8ba024",
   "metadata": {},
   "outputs": [],
   "source": [
    "class Node:\n",
    "  def __init__(self, value):\n",
    "    self.value = value\n",
    "    self.next = None\n",
    "\n",
    "class Stack:\n",
    "  def __init__(self):\n",
    "    self.head = None\n",
    "    self.size = 0\n",
    "\n",
    "  def push(self, value):\n",
    "    new_node = Node(value)\n",
    "    if self.head:\n",
    "      new_node.next = self.head\n",
    "    self.head = new_node\n",
    "    self.size += 1\n",
    "\n",
    "  def pop(self):\n",
    "    if self.isEmpty():\n",
    "      return \"Stack is empty\"\n",
    "    popped_node = self.head\n",
    "    self.head = self.head.next\n",
    "    self.size -= 1\n",
    "    return popped_node.value\n",
    "\n",
    "  def peek(self):\n",
    "    if self.isEmpty():\n",
    "      return \"Stack is empty\"\n",
    "    return self.head.value\n",
    "\n",
    "  def isEmpty(self):\n",
    "    return self.size == 0\n",
    "\n",
    "  def stackSize(self):\n",
    "    return self.size\n",
    "\n",
    "  def traverseAndPrint(self):\n",
    "    currentNode = self.head\n",
    "    while currentNode:\n",
    "      print(currentNode.value, end=\" -> \")\n",
    "      currentNode = currentNode.next\n",
    "    print()\n",
    "\n",
    "myStack = Stack()\n",
    "myStack.push('A')\n",
    "myStack.push('B')\n",
    "myStack.push('C')\n",
    "\n",
    "print(\"LinkedList: \", end=\"\")\n",
    "myStack.traverseAndPrint()\n",
    "print(\"Peek: \", myStack.peek())\n",
    "print(\"Pop: \", myStack.pop())\n",
    "print(\"LinkedList after Pop: \", end=\"\")\n",
    "myStack.traverseAndPrint()\n",
    "print(\"isEmpty: \", myStack.isEmpty())\n",
    "print(\"Size: \", myStack.stackSize())"
   ]
  }
 ],
 "metadata": {
  "kernelspec": {
   "display_name": "Python 3 (ipykernel)",
   "language": "python",
   "name": "python3"
  },
  "language_info": {
   "codemirror_mode": {
    "name": "ipython",
    "version": 3
   },
   "file_extension": ".py",
   "mimetype": "text/x-python",
   "name": "python",
   "nbconvert_exporter": "python",
   "pygments_lexer": "ipython3",
   "version": "3.13.5"
  }
 },
 "nbformat": 4,
 "nbformat_minor": 5
}
