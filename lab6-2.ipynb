{
 "cells": [
  {
   "cell_type": "code",
   "execution_count": 3,
   "id": "f670f607-11bf-4eaa-adff-460b1f292c56",
   "metadata": {},
   "outputs": [
    {
     "name": "stdin",
     "output_type": "stream",
     "text": [
      " 56676\n"
     ]
    },
    {
     "name": "stdout",
     "output_type": "stream",
     "text": [
      "18\n"
     ]
    }
   ],
   "source": [
    "a =int(input())\n",
    "b = str(a)\n",
    "sum =0\n",
    "for i in b:\n",
    "    if int(i) % 2 == 0:\n",
    "        sum += int(i)\n",
    "    else:\n",
    "        pass\n",
    "print(sum)"
   ]
  },
  {
   "cell_type": "code",
   "execution_count": null,
   "id": "fd387d65-c59d-4f5a-8492-11e3378eb478",
   "metadata": {},
   "outputs": [],
   "source": [
    "a =int(input())\n",
    "sum =0\n",
    "while a >0:\n",
    "    r = a %10\n",
    "    if r %2 ==0:\n",
    "        sum +=r\n",
    "    a = a//10\n",
    "print(sum)"
   ]
  },
  {
   "cell_type": "code",
   "execution_count": 8,
   "id": "683755eb-ddfb-43c8-939b-293a7f87e741",
   "metadata": {},
   "outputs": [
    {
     "name": "stdin",
     "output_type": "stream",
     "text": [
      " 5465789\n"
     ]
    },
    {
     "name": "stdout",
     "output_type": "stream",
     "text": [
      "468\n"
     ]
    }
   ],
   "source": [
    "n=int(input())\n",
    "sum = ''\n",
    "while n > 0:\n",
    "    r = n%10\n",
    "    if r% 2 ==0:\n",
    "        sum = sum + str(r)\n",
    "    n = n // 10\n",
    "print(sum[::-1])"
   ]
  },
  {
   "cell_type": "code",
   "execution_count": 18,
   "id": "04507718-26ad-4eb5-8d0e-d4eabd222815",
   "metadata": {},
   "outputs": [
    {
     "name": "stdin",
     "output_type": "stream",
     "text": [
      " 98789\n"
     ]
    },
    {
     "name": "stdout",
     "output_type": "stream",
     "text": [
      "The given number 98789 is jumping \n"
     ]
    }
   ],
   "source": [
    "a=int(input())\n",
    "b = str(a)\n",
    "flag = True\n",
    "diff = 1\n",
    "for i in range(1,len(b)):\n",
    "    if abs(int(b[i]) - int(b[i-1])) != diff:\n",
    "        flag = False\n",
    "        break\n",
    "if flag:\n",
    "    print(f\"The given number {a} is jumping \")\n",
    "else:\n",
    "    print(\"not jumping number\")\n",
    "    \n",
    "    "
   ]
  },
  {
   "cell_type": "code",
   "execution_count": 23,
   "id": "898dce60-88ed-4d9f-972b-30e2a5e86793",
   "metadata": {},
   "outputs": [
    {
     "name": "stdin",
     "output_type": "stream",
     "text": [
      " 123456\n"
     ]
    },
    {
     "name": "stdout",
     "output_type": "stream",
     "text": [
      "111\n"
     ]
    }
   ],
   "source": [
    "n=int(input())\n",
    "sum1=sum2=0\n",
    "place1=place2=1\n",
    "while n>0:\n",
    "    digit=n%10\n",
    "    if digit%2==0:\n",
    "        sum1=digit*place1+sum1\n",
    "        place1*=10\n",
    "    else:\n",
    "        sum2=digit*place2+sum2\n",
    "        place2*=10\n",
    "    n=n//10\n",
    "print(sum1-sum2)\n",
    "    "
   ]
  },
  {
   "cell_type": "code",
   "execution_count": 24,
   "id": "3d014386-8134-40f4-be7b-9ad4d890dd93",
   "metadata": {},
   "outputs": [
    {
     "name": "stdin",
     "output_type": "stream",
     "text": [
      " 6\n",
      " 28\n"
     ]
    },
    {
     "name": "stdout",
     "output_type": "stream",
     "text": [
      "Friendly pair\n"
     ]
    }
   ],
   "source": [
    "n1=int(input())\n",
    "n2=int(input())\n",
    "s1=s2=0\n",
    "for i in range(1,n1+1):\n",
    "    if n1%i==0:\n",
    "        s=s1+i\n",
    "for i in range(1,n2+1):\n",
    "    if n2%i==0:\n",
    "        s=s2+i\n",
    "if (s1//n1)==(s2//n2):\n",
    "    print(\"Friendly pair\")\n",
    "else:\n",
    "    print(\"Not a friendly pair\")\n"
   ]
  },
  {
   "cell_type": "code",
   "execution_count": null,
   "id": "facb3879-ae9c-4837-9203-ca07a2e07154",
   "metadata": {},
   "outputs": [],
   "source": []
  },
  {
   "cell_type": "code",
   "execution_count": null,
   "id": "1a058c70-dd85-4bb7-94e0-411c17c70a5b",
   "metadata": {},
   "outputs": [],
   "source": []
  }
 ],
 "metadata": {
  "kernelspec": {
   "display_name": "Python 3 (ipykernel)",
   "language": "python",
   "name": "python3"
  },
  "language_info": {
   "codemirror_mode": {
    "name": "ipython",
    "version": 3
   },
   "file_extension": ".py",
   "mimetype": "text/x-python",
   "name": "python",
   "nbconvert_exporter": "python",
   "pygments_lexer": "ipython3",
   "version": "3.12.7"
  }
 },
 "nbformat": 4,
 "nbformat_minor": 5
}
