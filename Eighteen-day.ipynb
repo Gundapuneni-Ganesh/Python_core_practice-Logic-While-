{
 "cells": [
  {
   "cell_type": "code",
   "execution_count": 2,
   "id": "c30ea9a3-bb06-43b5-b293-fe1ad97a3999",
   "metadata": {},
   "outputs": [
    {
     "name": "stdin",
     "output_type": "stream",
     "text": [
      " 30\n"
     ]
    },
    {
     "name": "stdout",
     "output_type": "stream",
     "text": [
      "2 3 5 7 11 13 17 19 23 29\n"
     ]
    }
   ],
   "source": [
    "# prime numbers upto given numbers\n",
    "\n",
    "n=int(input())\n",
    "ar = []\n",
    "for i in range(1,n+1):\n",
    "    prime = True\n",
    "    if i >1:\n",
    "        for j in range(2,i):\n",
    "            if i %j == 0:\n",
    "                prime =False\n",
    "        if prime == True:\n",
    "            ar.append(i)\n",
    "print(*ar)"
   ]
  },
  {
   "cell_type": "code",
   "execution_count": null,
   "id": "e064f3b3-d8cf-4b2a-bbe1-562fbe54082a",
   "metadata": {},
   "outputs": [],
   "source": [
    "# dictionary : it is a collection of pairs (key and value)\n",
    "# keys & values  are heterogenous elements  .but keys are unique elements\n",
    "# it is unordered and mutable ( we can add , remove and update values )\n"
   ]
  },
  {
   "cell_type": "code",
   "execution_count": 25,
   "id": "48679dde-970a-4f82-bda1-a2517d66bb4a",
   "metadata": {},
   "outputs": [
    {
     "name": "stdout",
     "output_type": "stream",
     "text": [
      "nuvve\n",
      "{100: 'common', 200: 'common', 300: 'common'}\n",
      "dict_items([(100, 'evaro'), (200, 'nene'), (300, 'nuvve')])\n",
      "(300, 'nuvve')\n",
      "{100: 'evaro', 200: 'nene', 500: 'heroine'}\n",
      "dict_keys([100, 200, 500])\n",
      "dict_values(['evaro', 'nene', 'heroine'])\n"
     ]
    }
   ],
   "source": [
    "d={100:\"evaro\",200:\"nene\",300:\"nuvve\"}\n",
    "# f =dict()\n",
    "# print(d[400]) gets erroe of key value error\n",
    "print(d[300])\n",
    "\n",
    "# d.clear()                         # removes all items in dictionary\n",
    "\n",
    "# f = d.copy()                           #copies all items from dictionary\n",
    "\n",
    "# print(d.get(100))                      # it will return value of that key\n",
    "\n",
    "# print(d.setdefault(500,\"something\"))     # if key exists then return a value . if not it creates that key along with default value\n",
    "\n",
    "print(d.fromkeys(d,\"common\"))            # we get all keys with None values,if we mention value . it will replace every key value with the value mention\n",
    "\n",
    "print(d.items())                         # it will return in the form of tuple format of key, value all in the list\n",
    "\n",
    "#for keys,values in d.items():            it will return in the keys and values by using foor loop\n",
    " #   print(keys,values)\n",
    "\n",
    "#print(d.pop(100))                      # it will delete the item with the key\n",
    "\n",
    "print(d.popitem())                     # it will delete any item in the dictionary and return \n",
    "\n",
    "d.update({500:\"heroine\"})             # it will update the dictionary with new item (key & value)\n",
    "print(d)\n",
    "\n",
    "print(d.keys())                                # it will return all keys from dictionary\n",
    "\n",
    "print(d.values())                                 # it will return all values from dictionary"
   ]
  },
  {
   "cell_type": "code",
   "execution_count": 26,
   "id": "9389e4b2-ea6f-428b-86e1-b3327d15767c",
   "metadata": {},
   "outputs": [
    {
     "name": "stdout",
     "output_type": "stream",
     "text": [
      "frozenset({'banana', 'apple', 'cherry'})\n"
     ]
    }
   ],
   "source": [
    "mylist = ['apple', 'banana', 'cherry']\n",
    "x = frozenset(mylist)\n",
    "print(x)"
   ]
  },
  {
   "cell_type": "code",
   "execution_count": 30,
   "id": "9b80e4b6-dd7f-46b4-b1af-b085d0b8e759",
   "metadata": {},
   "outputs": [
    {
     "name": "stdin",
     "output_type": "stream",
     "text": [
      " 1 2 3\n",
      " ganesh ramesh mahesh\n"
     ]
    },
    {
     "name": "stdout",
     "output_type": "stream",
     "text": [
      "{1: 'ganesh', 2: 'ramesh', 3: 'mahesh'}\n",
      "dict_items([(1, 'ganesh'), (2, 'ramesh'), (3, 'mahesh')])\n",
      "dict_keys([1, 2, 3])\n",
      "dict_values(['ganesh', 'ramesh', 'mahesh'])\n"
     ]
    }
   ],
   "source": [
    "# write a program to take input fron user for rollno and name in a dictionary and print on output\n",
    "\n",
    "rol=list(map(int,input().split()))\n",
    "name = list(map(str,input().split()))\n",
    "dici= {}\n",
    "for i in range(len(rol)):\n",
    "    temp = rol[i]\n",
    "    nm = name[i]\n",
    "    dici[temp] = nm\n",
    "    \n",
    "print(dici)\n",
    "print(dici.items())\n",
    "print(dici.keys())\n",
    "print(dici.values())"
   ]
  },
  {
   "cell_type": "code",
   "execution_count": null,
   "id": "b8be326c-98ee-4a58-afc4-5598a36c65f3",
   "metadata": {},
   "outputs": [],
   "source": [
    "# write a program to print occurance of each character in a string\n",
    "\n",
    "# a=input()\n",
    "# dici ={}\n",
    "# for i in a:\n",
    "#     d = a.count(i)\n",
    "#     dici[i] = d\n",
    "# print(dici)\n",
    "\n",
    "a=input()\n",
    "dici ={}\n",
    "for i in a:\n",
    "    dici[i] = dici.get(i,0)+1\n",
    "print(dici)\n",
    "\n",
    "# write a program to print occurance in the string\n",
    "\n",
    "a=input().lower()\n",
    "b=[\"a\",\"e\",\"i\",\"o\",\"u\"]\n",
    "di ={}\n",
    "for i in a:\n",
    "    if i in b:\n",
    "        di[i] = a.count(i)\n",
    "print(di)"
   ]
  },
  {
   "cell_type": "code",
   "execution_count": 39,
   "id": "0f92cb59-4898-4881-9ca5-87dad0178bbf",
   "metadata": {},
   "outputs": [
    {
     "name": "stdin",
     "output_type": "stream",
     "text": [
      " 10 11 10 11 12 5 6 9 11\n"
     ]
    },
    {
     "name": "stdout",
     "output_type": "stream",
     "text": [
      "2\n"
     ]
    }
   ],
   "source": [
    "# write a program to print number of duplicate in a list\n",
    "a=list(map(int,input().split()))\n",
    "di ={}\n",
    "c=0\n",
    "for i in a:\n",
    "    if i not in di:\n",
    "        di[i] = 1\n",
    "    else:\n",
    "        di[i] +=1\n",
    "for i,j in di.items():\n",
    "    if j >1:\n",
    "        c+=1\n",
    "print(c)\n"
   ]
  },
  {
   "cell_type": "code",
   "execution_count": 40,
   "id": "186c81b8-81f1-4305-98e0-d123a0a4b202",
   "metadata": {},
   "outputs": [
    {
     "name": "stdin",
     "output_type": "stream",
     "text": [
      "enter n x n matrix :  3\n",
      " 1 2 3\n",
      " 4 5 6\n",
      " 7 8 9\n"
     ]
    },
    {
     "name": "stdout",
     "output_type": "stream",
     "text": [
      "[[1, 2, 3], [4, 5, 6], [7, 8, 9]]\n"
     ]
    }
   ],
   "source": [
    "# write a program to scan 3 x 3 matrix \n",
    "\n",
    "# a =[[],[],[]]\n",
    "mtx =[]\n",
    "n =int(input(\"enter n x n matrix : \"))\n",
    "for i in range(n):\n",
    "    mtx.append(list(map(int,input().split())))\n",
    "print(mtx)\n"
   ]
  },
  {
   "cell_type": "code",
   "execution_count": 43,
   "id": "a671e37e-4049-47a5-baa0-f7c08051a340",
   "metadata": {},
   "outputs": [
    {
     "name": "stdin",
     "output_type": "stream",
     "text": [
      "enter n x n matrix :  3\n",
      " 1 2 3 \n",
      " 4 5 6\n",
      " 7 8 9\n"
     ]
    },
    {
     "name": "stdout",
     "output_type": "stream",
     "text": [
      "[[1, 2, 3], [4, 5, 6], [7, 8, 9]]\n",
      "1 4 7 \n",
      "2 5 8 \n",
      "3 6 9 \n"
     ]
    }
   ],
   "source": [
    "# we are printing inverse of matrix\n",
    "\n",
    "mtx =[]\n",
    "n =int(input(\"enter n x n matrix : \"))\n",
    "for i in range(n):\n",
    "    mtx.append(list(map(int,input().split())))\n",
    "print(mtx)\n",
    "\n",
    "for i in range(n):\n",
    "    for j in range(n):\n",
    "        print(mtx[j][i],end=\" \")\n",
    "    print()"
   ]
  },
  {
   "cell_type": "code",
   "execution_count": 45,
   "id": "e32d8fa4-5990-43ec-a54f-a3e1b7908ed8",
   "metadata": {},
   "outputs": [
    {
     "name": "stdin",
     "output_type": "stream",
     "text": [
      "enter n x n matrix :  3\n",
      " 1\n",
      " 1\n",
      " 2\n",
      " 2\n",
      " 1 2 3\n",
      " 4 5 6\n",
      " 7 8 9\n"
     ]
    },
    {
     "name": "stdout",
     "output_type": "stream",
     "text": [
      "[[1, 2, 3], [4, 5, 6], [7, 8, 9]]\n",
      "28\n"
     ]
    }
   ],
   "source": [
    "mtx =[]\n",
    "n =int(input(\"enter n x n matrix : \"))\n",
    "i =int(input())\n",
    "j =int(input())\n",
    "k =int(input())\n",
    "l =int(input())\n",
    "for p in range(n):\n",
    "    mtx.append(list(map(int,input().split())))\n",
    "print(mtx)\n",
    "sum =0\n",
    "for a in range(i,k+1):\n",
    "    for b in range(j,l+1):\n",
    "        sum +=mtx[a][b]\n",
    "print(sum)\n",
    "        \n"
   ]
  },
  {
   "cell_type": "code",
   "execution_count": null,
   "id": "4c69bf49-7379-4d3f-8c13-fda1e46f9b29",
   "metadata": {},
   "outputs": [],
   "source": []
  }
 ],
 "metadata": {
  "kernelspec": {
   "display_name": "Python 3 (ipykernel)",
   "language": "python",
   "name": "python3"
  },
  "language_info": {
   "codemirror_mode": {
    "name": "ipython",
    "version": 3
   },
   "file_extension": ".py",
   "mimetype": "text/x-python",
   "name": "python",
   "nbconvert_exporter": "python",
   "pygments_lexer": "ipython3",
   "version": "3.13.5"
  }
 },
 "nbformat": 4,
 "nbformat_minor": 5
}
