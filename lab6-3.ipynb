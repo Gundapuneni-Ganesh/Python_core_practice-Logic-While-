{
 "cells": [
  {
   "cell_type": "code",
   "execution_count": 3,
   "id": "cb61c2a2-b070-4169-abad-c0cca19c4db7",
   "metadata": {},
   "outputs": [
    {
     "name": "stdin",
     "output_type": "stream",
     "text": [
      " 7\n"
     ]
    },
    {
     "name": "stdout",
     "output_type": "stream",
     "text": [
      " NO neon number \n"
     ]
    }
   ],
   "source": [
    " # Neon number or not \n",
    "\n",
    "a=int(input())\n",
    "b = a ** 2\n",
    "c = str(b)\n",
    "sum =0\n",
    "for i in c:\n",
    "    sum =sum + int(i)\n",
    "if sum == a:\n",
    "    print(f\"Neon number {a}\")\n",
    "else:\n",
    "    print(\" NO neon number \")"
   ]
  },
  {
   "cell_type": "code",
   "execution_count": 9,
   "id": "a6343845-3a40-4824-9877-49af47d41b13",
   "metadata": {},
   "outputs": [
    {
     "name": "stdin",
     "output_type": "stream",
     "text": [
      " 1124\n"
     ]
    },
    {
     "name": "stdout",
     "output_type": "stream",
     "text": [
      "Spy number of these two numbers  1124 = 8 and 8\n"
     ]
    }
   ],
   "source": [
    "a = int(input())\n",
    "b = str(a)\n",
    "sum =0\n",
    "pro =1\n",
    "for i in b:\n",
    "    sum = sum + int(i)\n",
    "    pro = pro * int(i)\n",
    "if pro == sum :\n",
    "    print(f\"Spy number of these two numbers  {a} = {sum} and {pro}\")\n",
    "else:\n",
    "    print(\"not spy number\")\n"
   ]
  },
  {
   "cell_type": "code",
   "execution_count": 12,
   "id": "54390ae4-e53c-45a6-813b-d69c51a1354d",
   "metadata": {},
   "outputs": [
    {
     "name": "stdin",
     "output_type": "stream",
     "text": [
      "Enter first number:  15 \n",
      "Enter second number:  12\n"
     ]
    },
    {
     "name": "stdout",
     "output_type": "stream",
     "text": [
      "LCM of two numbers 15 and 12 is = 60\n"
     ]
    }
   ],
   "source": [
    "# lcm of two numberss\n",
    "\n",
    "a = int(input(\"Enter first number: \"))\n",
    "b = int(input(\"Enter second number: \"))\n",
    "pro =1\n",
    "if a >b:\n",
    "    greater = a\n",
    "else:\n",
    "    greater = b\n",
    "\n",
    "while True:\n",
    "    if (greater % a == 0) and (greater % b == 0):\n",
    "        print(f\"LCM of two numbers {a} and {b} is = {greater}\")\n",
    "        break\n",
    "    greater += 1\n",
    "\n",
    "    "
   ]
  },
  {
   "cell_type": "code",
   "execution_count": 17,
   "id": "e96228cd-21af-4f22-b063-87312e3946c5",
   "metadata": {},
   "outputs": [
    {
     "name": "stdin",
     "output_type": "stream",
     "text": [
      "Enter the given range upto :  1000\n"
     ]
    },
    {
     "name": "stdout",
     "output_type": "stream",
     "text": [
      "6 28 496\n",
      "[6, 28, 496]\n"
     ]
    }
   ],
   "source": [
    "# perfect number in range of given number\n",
    "\n",
    "n = int(input(\"Enter the given range upto : \"))\n",
    "arr =[]\n",
    "for i in range(1,n+1):\n",
    "    sum = 0\n",
    "    for j in range(1,i):\n",
    "        if i %j == 0 :\n",
    "            sum = sum +  j \n",
    "        else:\n",
    "            pass\n",
    "    if sum == i :\n",
    "        arr.append(i)\n",
    "print(*arr)\n",
    "# print(arr)"
   ]
  },
  {
   "cell_type": "code",
   "execution_count": 18,
   "id": "d1878106-0cdc-42bb-8cda-74d82f3655e6",
   "metadata": {},
   "outputs": [
    {
     "name": "stdout",
     "output_type": "stream",
     "text": [
      "1.Deposit\n",
      "2.Withdraw\n",
      "3.Bal Enquiry\n",
      "4.exit\n"
     ]
    },
    {
     "name": "stdin",
     "output_type": "stream",
     "text": [
      " choose options :  1\n",
      "Enter the amount to deposit :  2000\n"
     ]
    },
    {
     "name": "stdout",
     "output_type": "stream",
     "text": [
      "Your account balance is :  7000\n",
      "1.Deposit\n",
      "2.Withdraw\n",
      "3.Bal Enquiry\n",
      "4.exit\n"
     ]
    },
    {
     "name": "stdin",
     "output_type": "stream",
     "text": [
      " choose options :  4\n"
     ]
    },
    {
     "name": "stdout",
     "output_type": "stream",
     "text": [
      "Thanks for using CIET ATM\n"
     ]
    }
   ],
   "source": [
    "def deposit(bal):\n",
    "    amount = int(input(\"Enter the amount to deposit : \"))\n",
    "    if amount >0 and amount <= 50000:\n",
    "        bal += amount\n",
    "    else:\n",
    "        print(\"Invalid amount\")\n",
    "    bal_enquiry(bal)\n",
    "    return bal\n",
    "    \n",
    "def withdraw(bal):\n",
    "    amount = int(input(\"Enter the amount to withdraw : \"))\n",
    "    if amount >0 and amount <= 10000:\n",
    "        bal -= amount\n",
    "    else:\n",
    "        print(\"Invalid amount\")\n",
    "    bal_enquiry(bal)\n",
    "    return bal\n",
    "    \n",
    "def bal_enquiry(bal):\n",
    "    print(\"Your account balance is : \",bal)\n",
    "    \n",
    "bal = 5000\n",
    "while True:\n",
    "    print(\"1.Deposit\\n2.Withdraw\\n3.Bal Enquiry\\n4.exit\")\n",
    "    op = int(input(\" choose options : \"))\n",
    "    if op == 1:\n",
    "        bal = deposit(bal)\n",
    "    elif op == 2:\n",
    "        bal = withdraw(bal)\n",
    "    elif op == 3:\n",
    "        bal_enquiry(bal)\n",
    "    elif op == 4:\n",
    "        print(\"Thanks for using CIET ATM\")\n",
    "        break\n",
    "    else:\n",
    "        print(\"Invalid option\")\n",
    "    "
   ]
  },
  {
   "cell_type": "code",
   "execution_count": 36,
   "id": "c3b9fef4-2cc0-4382-bf11-9462347195b1",
   "metadata": {},
   "outputs": [
    {
     "name": "stdout",
     "output_type": "stream",
     "text": [
      "\n",
      "1.Super_Luxury - 550\n",
      "2.Indra_ac - 680\n",
      "3.Vennala_Ac - 1150\n",
      "4.exit\n",
      "\n"
     ]
    },
    {
     "name": "stdin",
     "output_type": "stream",
     "text": [
      "Choose options :  1\n",
      "Enter the number of passengers to travell :  6\n"
     ]
    },
    {
     "name": "stdout",
     "output_type": "stream",
     "text": [
      " GST amount for price : 158.895\n",
      " Toll prices amount for price : 63.558\n",
      "amount with out discount 3300 \n",
      "amount with out discount with addition og GST and TOLL 3531.0 \n",
      "the amount for tickets of 6 persons  After dicount of 10% is = 3177.9\n",
      "\n",
      "1.Super_Luxury - 550\n",
      "2.Indra_ac - 680\n",
      "3.Vennala_Ac - 1150\n",
      "4.exit\n",
      "\n"
     ]
    },
    {
     "name": "stdin",
     "output_type": "stream",
     "text": [
      "Choose options :  4\n"
     ]
    },
    {
     "name": "stdout",
     "output_type": "stream",
     "text": [
      "Thanks for using APSRTC Service \n",
      "\n"
     ]
    }
   ],
   "source": [
    " def Super_Luxury():\n",
    "    n = int(input(\"Enter the number of passengers to travell : \"))\n",
    "    if n <=6:\n",
    "        amt = 550 * n\n",
    "        val = amt + gst(amt) + toll(amt)\n",
    "        if val > 1000:\n",
    "            dic = val *0.1\n",
    "            f_val = val - dic\n",
    "            print_gst_val(f_val)\n",
    "            print(f\"amount with out discount {amt} \")\n",
    "            print(f\"amount with out discount with addition og GST and TOLL {val} \")\n",
    "            print(f\"the amount for tickets of {n} persons  After dicount of 10% is = {f_val}\")\n",
    "        else:\n",
    "            print_gst_val(f_val)\n",
    "            print(f\"the amount for tickets of {n} persons is = {val}\")\n",
    "    else:\n",
    "        print(\"your not able to took more than 6 members\")\n",
    "\n",
    "def gst(amt):\n",
    "    return (amt/100)*5\n",
    "def toll(amt):\n",
    "    return (amt/100)*2\n",
    "def print_gst_val(f_val):\n",
    "    print(f\" GST amount for price : {gst(f_val)}\")\n",
    "    print(f\" Toll prices amount for price : {toll(f_val)}\")\n",
    "\n",
    "    \n",
    "def Indra_ac():\n",
    "    n = int(input(\"Enter the number of passengers to travell : \"))\n",
    "    if n <=6:\n",
    "        amt = 680 * n\n",
    "        val = amt + gst(amt) + toll(amt)\n",
    "        if val > 1000:\n",
    "            dic = val *0.1\n",
    "            f_val = val - dic\n",
    "            print_gst_val(f_val)\n",
    "            print(f\"amount with out discount {amt} \")\n",
    "            print(f\"amount with out discount with addition og GST and TOLL {val} \")\n",
    "            print(f\"the amount for tickets of {n} persons  After dicount of 10% is = {f_val}\")\n",
    "        else:\n",
    "            print_gst_val(f_val)\n",
    "            print(f\"the amount for tickets of {n} persons is = {val}\")\n",
    "    else:\n",
    "        print(\"your not able to took more than 6 members\")\n",
    "        \n",
    "def Vennala_Ac():\n",
    "    n = int(input(\"Enter the number of passengers to travell : \"))\n",
    "    if n <=6:\n",
    "        amt = 1150 * n\n",
    "        val = amt + gst(amt) + toll(amt)\n",
    "        if val > 1000:\n",
    "            dic = val *0.1\n",
    "            f_val = val - dic\n",
    "            print_gst_val(f_val)\n",
    "            print(f\"amount with out discount {amt} \")\n",
    "            print(f\"amount with out discount with addition og GST and TOLL {val} \")\n",
    "            print(f\"the amount for tickets of {n} persons  After dicount of 10% is = {f_val}\")\n",
    "        else:\n",
    "            print_gst_val(f_val)\n",
    "            print(f\"the amount for tickets of {n} persons is = {val}\")\n",
    "    else:\n",
    "        print(\"your not able to took more than 6 members\")\n",
    "        \n",
    "while True:\n",
    "    print()\n",
    "    print(\"1.Super_Luxury - 550\\n2.Indra_ac - 680\\n3.Vennala_Ac - 1150\\n4.exit\\n\")\n",
    "    op = int(input(\"Choose options : \"))\n",
    "    if op == 1:\n",
    "        Super_Luxury()\n",
    "    elif op == 2:\n",
    "        Indra_ac()\n",
    "    elif op == 3:\n",
    "        Vennala_Ac()\n",
    "    elif op == 4:\n",
    "        print(\"Thanks for using APSRTC Service \")\n",
    "        print()\n",
    "        break\n",
    "    else:\n",
    "        print(\"Invalid option\")\n",
    "        "
   ]
  },
  {
   "cell_type": "code",
   "execution_count": 35,
   "id": "0c5786e5-5ee4-4de4-a172-98801770cb53",
   "metadata": {},
   "outputs": [
    {
     "name": "stdout",
     "output_type": "stream",
     "text": [
      "5\n"
     ]
    }
   ],
   "source": [
    "def addtwo(n, m):\n",
    "    if m == 0:\n",
    "        return n\n",
    "    else:\n",
    "        return addtwo(n + 1, m - 1)\n",
    "\n",
    "print(addtwo(2, 3))\n"
   ]
  },
  {
   "cell_type": "code",
   "execution_count": null,
   "id": "a31e2d62-c5f2-4ca7-8c23-c6fca7a7408e",
   "metadata": {},
   "outputs": [],
   "source": []
  }
 ],
 "metadata": {
  "kernelspec": {
   "display_name": "Python 3 (ipykernel)",
   "language": "python",
   "name": "python3"
  },
  "language_info": {
   "codemirror_mode": {
    "name": "ipython",
    "version": 3
   },
   "file_extension": ".py",
   "mimetype": "text/x-python",
   "name": "python",
   "nbconvert_exporter": "python",
   "pygments_lexer": "ipython3",
   "version": "3.12.7"
  }
 },
 "nbformat": 4,
 "nbformat_minor": 5
}
