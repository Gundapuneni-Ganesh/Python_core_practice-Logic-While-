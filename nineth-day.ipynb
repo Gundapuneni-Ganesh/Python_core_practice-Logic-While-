{
 "cells": [
  {
   "cell_type": "code",
   "execution_count": 1,
   "id": "552e8312-f919-4fd2-b7ea-5d3ea0f189a6",
   "metadata": {},
   "outputs": [
    {
     "name": "stdout",
     "output_type": "stream",
     "text": [
      "[[Python]]\n",
      "{{PHP}}\n"
     ]
    }
   ],
   "source": [
    "def insert_in_middle(s, word):\n",
    "    mid = len(s) // 2\n",
    "    # Insert 'word' at the midpoint of s\n",
    "    return s[:mid] + word + s[mid:]\n",
    "\n",
    "# Example usage:\n",
    "print(insert_in_middle('[[]]', 'Python'))  # Output: [[Python]]\n",
    "print(insert_in_middle('{{}}', 'PHP'))     # Output: {{PHP}}\n"
   ]
  },
  {
   "cell_type": "code",
   "execution_count": null,
   "id": "47244f6a-2236-4689-b0ea-6adb7947a03b",
   "metadata": {},
   "outputs": [],
   "source": [
    "a = [str(i) for i in input().split(\",\")]  # Get two strings via input, separated by comma\n",
    "inp = a[0]\n",
    "val = a[1]\n",
    "mid = len(inp) // 2\n",
    "\n",
    "# Insert val into the middle of inp\n",
    "temp = inp[:mid] + val + inp[mid:]\n",
    "print(temp)\n"
   ]
  },
  {
   "cell_type": "code",
   "execution_count": 1,
   "id": "5f22e00a-927b-4515-8185-a50c8921a485",
   "metadata": {},
   "outputs": [
    {
     "name": "stdin",
     "output_type": "stream",
     "text": [
      " a4b5c1\n"
     ]
    },
    {
     "name": "stdout",
     "output_type": "stream",
     "text": [
      " aaaabbbbbc\n"
     ]
    }
   ],
   "source": [
    "a=input() # a2b2c3\n",
    "output = '' \n",
    "st = \" \"\n",
    "for i in a:\n",
    "    if i.isalpha():\n",
    "        temp =i\n",
    "    elif i.isnumeric():\n",
    "        st +=temp *int(i)\n",
    "print(st)\n",
    "        \n",
    "        "
   ]
  },
  {
   "cell_type": "code",
   "execution_count": 12,
   "id": "4961ccdf-2531-4b1c-8b84-b8e419a471bb",
   "metadata": {},
   "outputs": [
    {
     "name": "stdin",
     "output_type": "stream",
     "text": [
      " bbbcddzzx\n"
     ]
    },
    {
     "name": "stdout",
     "output_type": "stream",
     "text": [
      " b3c1d2z2x1\n"
     ]
    }
   ],
   "source": [
    "a=input() # aabbcxy\n",
    "temp = \" \"\n",
    "i=0\n",
    "while i < len(a):\n",
    "    count = 1\n",
    "    for j in range(i+1,len(a)):\n",
    "        if a[j]==a[i]:\n",
    "            count +=1\n",
    "        else:\n",
    "            break\n",
    "    temp += a[i]+str(count)\n",
    "    i+=count\n",
    "\n",
    "print(temp)"
   ]
  },
  {
   "cell_type": "code",
   "execution_count": 16,
   "id": "1af211e6-15b6-4529-ac94-86628570345c",
   "metadata": {},
   "outputs": [
    {
     "name": "stdin",
     "output_type": "stream",
     "text": [
      " aabbcxy\n"
     ]
    },
    {
     "name": "stdout",
     "output_type": "stream",
     "text": [
      " a2b2c1x1y1\n"
     ]
    }
   ],
   "source": [
    "a=input() # aabbcxy\n",
    "temp = \" \"\n",
    "\n",
    "dici ={}\n",
    "for i in a:\n",
    "    if i not in dici:\n",
    "        dici[i] = 1\n",
    "    else:\n",
    "        dici[i] += 1\n",
    "for i,j in dici.items():\n",
    "    temp += i + str(j)\n",
    "print(temp)\n"
   ]
  },
  {
   "cell_type": "code",
   "execution_count": null,
   "id": "36bc6419-ffa6-4df2-aa70-cc54ba1fd13b",
   "metadata": {},
   "outputs": [],
   "source": []
  }
 ],
 "metadata": {
  "kernelspec": {
   "display_name": "Python 3 (ipykernel)",
   "language": "python",
   "name": "python3"
  },
  "language_info": {
   "codemirror_mode": {
    "name": "ipython",
    "version": 3
   },
   "file_extension": ".py",
   "mimetype": "text/x-python",
   "name": "python",
   "nbconvert_exporter": "python",
   "pygments_lexer": "ipython3",
   "version": "3.13.5"
  }
 },
 "nbformat": 4,
 "nbformat_minor": 5
}
