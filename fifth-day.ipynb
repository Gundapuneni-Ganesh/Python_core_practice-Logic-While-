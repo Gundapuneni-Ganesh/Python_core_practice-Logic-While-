{
 "cells": [
  {
   "cell_type": "code",
   "execution_count": 2,
   "id": "1cf0a325-7515-4ff4-901a-1b419f53f7cc",
   "metadata": {},
   "outputs": [
    {
     "name": "stdout",
     "output_type": "stream",
     "text": [
      "2\n",
      "5\n",
      "8\n",
      "11\n",
      "14\n",
      "17\n",
      "20\n",
      "23\n",
      "26\n",
      "29\n"
     ]
    }
   ],
   "source": [
    "for i in range(2,30,3):\n",
    "    print(i)"
   ]
  },
  {
   "cell_type": "code",
   "execution_count": 3,
   "id": "94bfc732-3a59-4b4e-b5d4-314c626b59fe",
   "metadata": {},
   "outputs": [
    {
     "name": "stdout",
     "output_type": "stream",
     "text": [
      "red   apple\n",
      "red   banana\n",
      "red   cherry\n",
      "big   apple\n",
      "big   banana\n",
      "big   cherry\n",
      "tasty   apple\n",
      "tasty   banana\n",
      "tasty   cherry\n"
     ]
    }
   ],
   "source": [
    "adjective = [\"red\", \"big\", \"tasty\"]\n",
    "fruits = [\"apple\", \"banana\", \"cherry\"]\n",
    "for i in adjective:\n",
    "    for j in fruits:\n",
    "        print(i ,\" \", j)"
   ]
  },
  {
   "cell_type": "code",
   "execution_count": 4,
   "id": "6b0cfa01-5e85-4278-a972-a050f869681b",
   "metadata": {},
   "outputs": [
    {
     "name": "stdin",
     "output_type": "stream",
     "text": [
      "enter the rows to print :  5\n"
     ]
    },
    {
     "name": "stdout",
     "output_type": "stream",
     "text": [
      "*****\n",
      "*****\n",
      "*****\n",
      "*****\n",
      "*****\n"
     ]
    }
   ],
   "source": [
    "r = int(input(\"enter the rows to print : \"))\n",
    "for i in range(r):\n",
    "    for j in range(5):\n",
    "        print(\"*\",end= \"\")\n",
    "    print()\n"
   ]
  },
  {
   "cell_type": "code",
   "execution_count": 14,
   "id": "9557b509-bc98-47e4-aeab-048b018b4b5d",
   "metadata": {},
   "outputs": [
    {
     "name": "stdin",
     "output_type": "stream",
     "text": [
      "enter the rows to print :  6\n"
     ]
    },
    {
     "name": "stdout",
     "output_type": "stream",
     "text": [
      "0\n",
      "11\n",
      "222\n",
      "3333\n",
      "44444\n",
      "555555\n"
     ]
    }
   ],
   "source": [
    "r = int(input(\"enter the rows to print : \"))\n",
    "for i in range(r):\n",
    "    for j in range(0,i+1):\n",
    "        # print(\"*\",end= \"\")\n",
    "        print(i,end= \"\")\n",
    "    print()\n"
   ]
  },
  {
   "cell_type": "code",
   "execution_count": 11,
   "id": "e6e31328-a4b6-4f95-8813-1ba1787444ec",
   "metadata": {},
   "outputs": [
    {
     "name": "stdin",
     "output_type": "stream",
     "text": [
      "enter the rows to print :  5\n"
     ]
    },
    {
     "name": "stdout",
     "output_type": "stream",
     "text": [
      "    0\n",
      "   11\n",
      "  222\n",
      " 3333\n",
      "44444\n"
     ]
    }
   ],
   "source": [
    "r = int(input(\"enter the rows to print : \"))\n",
    "for i in range(r):\n",
    "    for j in range(r-i-1):\n",
    "        print(\" \",end= \"\")\n",
    "    for j in range(0,i+1):\n",
    "        print(i,end= \"\")\n",
    "    print()"
   ]
  },
  {
   "cell_type": "code",
   "execution_count": 52,
   "id": "6e6932f1-c195-4d27-9a9d-bc00c6b89ea6",
   "metadata": {},
   "outputs": [
    {
     "name": "stdin",
     "output_type": "stream",
     "text": [
      "enter the rows to print :  4\n"
     ]
    },
    {
     "name": "stdout",
     "output_type": "stream",
     "text": [
      "      * \n",
      "    * * \n",
      "  * * * \n",
      "* * * * \n"
     ]
    }
   ],
   "source": [
    "r = int(input(\"enter the rows to print : \"))\n",
    "for i in range(0,r):\n",
    "    for j in range(0,r):\n",
    "       if((i+j)<r-1):\n",
    "           print(\" \",end=\" \")\n",
    "       else:\n",
    "           print(\"*\",end= ' ')\n",
    "    print()\n",
    "\n"
   ]
  },
  {
   "cell_type": "code",
   "execution_count": 56,
   "id": "0ab4164e-c51e-4232-bd3c-21aff7d5d360",
   "metadata": {},
   "outputs": [
    {
     "name": "stdout",
     "output_type": "stream",
     "text": [
      "g\n",
      "ga\n",
      "gan\n",
      "gane\n",
      "ganes\n",
      "ganesh\n",
      "ganes\n",
      "gane\n",
      "gan\n",
      "ga\n",
      "g\n"
     ]
    }
   ],
   "source": [
    "s=\"ganesh\"\n",
    "n= \"\"\n",
    "\n",
    "for i in s:\n",
    "    n +=i\n",
    "    print(n)\n",
    "l=len(s)-1\n",
    "while l>0:\n",
    "   print(s[0:l])\n",
    "   l-=1\n",
    "    \n",
    "    \n",
    "    "
   ]
  },
  {
   "cell_type": "code",
   "execution_count": 57,
   "id": "d42c1c16-be45-4337-a5b5-519cfcca0940",
   "metadata": {},
   "outputs": [
    {
     "name": "stdout",
     "output_type": "stream",
     "text": [
      "* * * * \n",
      "*     * \n",
      "*     * \n",
      "* * * * \n"
     ]
    }
   ],
   "source": [
    "r=4\n",
    "c=4\n",
    "for i in range(r):\n",
    "    for j in range(c):\n",
    "        if i==0 or i==r-1 or j==0 or j== c-1  :\n",
    "            print('*',end=\" \")\n",
    "        else:\n",
    "            print(\" \",end=\" \")\n",
    "    print()"
   ]
  },
  {
   "cell_type": "code",
   "execution_count": 58,
   "id": "8745382f-0f9e-43ce-bbb8-294a465accf4",
   "metadata": {},
   "outputs": [
    {
     "name": "stdin",
     "output_type": "stream",
     "text": [
      "enter the rows to print :  5\n"
     ]
    },
    {
     "name": "stdout",
     "output_type": "stream",
     "text": [
      "* * * * * \n",
      "* * * *   \n",
      "* * *     \n",
      "* *       \n",
      "*         \n"
     ]
    }
   ],
   "source": [
    "r = int(input(\"enter the rows to print : \"))\n",
    "for i in range(0,r):\n",
    "    for j in range(0,r):\n",
    "       if((i+j)>r-1):\n",
    "           print(\" \",end=\" \")\n",
    "       else:\n",
    "           print(\"*\",end= ' ')\n",
    "    print()\n"
   ]
  },
  {
   "cell_type": "code",
   "execution_count": 60,
   "id": "1fb8273d-d6bd-4509-b550-4a4c51a7e099",
   "metadata": {},
   "outputs": [
    {
     "name": "stdin",
     "output_type": "stream",
     "text": [
      "enter the rows to print :  7\n"
     ]
    },
    {
     "name": "stdout",
     "output_type": "stream",
     "text": [
      "1 \n",
      "2 3 \n",
      "4 5 6 \n",
      "7 8 9 10 \n",
      "11 12 13 14 15 \n",
      "16 17 18 19 20 21 \n",
      "22 23 24 25 26 27 28 \n"
     ]
    }
   ],
   "source": [
    "r = int(input(\"enter the rows to print : \"))\n",
    "c=1\n",
    "for i in range(0,r):\n",
    "    for j in range(0,i+1):\n",
    "        print(c,end=\" \")\n",
    "        c+=1\n",
    "        \n",
    "        \n",
    "    print()\n"
   ]
  },
  {
   "cell_type": "code",
   "execution_count": 63,
   "id": "7d8543fe-c8b4-4cc1-a66a-6e9b87ae1046",
   "metadata": {},
   "outputs": [
    {
     "name": "stdin",
     "output_type": "stream",
     "text": [
      "enter the rows to print :  7\n"
     ]
    },
    {
     "name": "stdout",
     "output_type": "stream",
     "text": [
      "       *\n",
      "      * *\n",
      "     * * *\n",
      "    * * * *\n",
      "   * * * * *\n",
      "  * * * * * *\n",
      " * * * * * * *\n"
     ]
    }
   ],
   "source": [
    "r = int(input(\"enter the rows to print : \"))\n",
    "for i in range(0,r):\n",
    "    for j in range(0,r):\n",
    "       if((i+j)<r-1):\n",
    "           print(\" \",end=\"\")\n",
    "       else:\n",
    "           print(\" *\",end= '')\n",
    "    print()\n"
   ]
  },
  {
   "cell_type": "code",
   "execution_count": 84,
   "id": "ac9f3887-3ff4-4d4d-a577-7f83e22d683b",
   "metadata": {},
   "outputs": [
    {
     "name": "stdin",
     "output_type": "stream",
     "text": [
      "enter the rows to print :  5\n"
     ]
    },
    {
     "name": "stdout",
     "output_type": "stream",
     "text": [
      "*@*@*\n",
      "@*@*@\n",
      "*@*@*\n",
      "@*@*@\n",
      "*@*@*\n"
     ]
    }
   ],
   "source": [
    "r = int(input(\"enter the rows to print : \"))\n",
    "for i in range(0,r):\n",
    "    for j in range(0,r):\n",
    "        if (i+j)%2 == 0:\n",
    "            print(\"*\",end= \"\")\n",
    "        else:\n",
    "            print(\"@\",end=\"\")\n",
    "    print()"
   ]
  },
  {
   "cell_type": "code",
   "execution_count": 83,
   "id": "95bb7ce7-c01c-4e12-9a3e-8d3fd4b9fb96",
   "metadata": {},
   "outputs": [
    {
     "name": "stdin",
     "output_type": "stream",
     "text": [
      "enter the rows to print :  5\n"
     ]
    },
    {
     "name": "stdout",
     "output_type": "stream",
     "text": [
      "      \n",
      "     * \n",
      "    * * \n",
      "   * * * \n",
      "  * * * * \n",
      " * * * * * \n",
      " * * * * * \n",
      "  * * * * \n",
      "   * * * \n",
      "    * * \n",
      "     * \n"
     ]
    }
   ],
   "source": [
    "r = int(input(\"enter the rows to print : \"))\n",
    "for i in range(0,r+1):\n",
    "    for j in range(0,r+1):\n",
    "       if((i+j)<=r):\n",
    "           print(end=\" \")\n",
    "       else:\n",
    "           print(\"*\",end=\" \")\n",
    "    print()\n",
    "\n",
    "for i in range(r,0,-1):\n",
    "    for j in range(0,r+1):\n",
    "       if((i+j)<r+1):\n",
    "           print(end=\" \")\n",
    "       else:\n",
    "           print(\"*\",end=\" \")\n",
    "    print()\n"
   ]
  },
  {
   "cell_type": "code",
   "execution_count": null,
   "id": "a372ca22-2c55-4d62-99c8-e54514ba915e",
   "metadata": {},
   "outputs": [],
   "source": []
  }
 ],
 "metadata": {
  "kernelspec": {
   "display_name": "Python 3 (ipykernel)",
   "language": "python",
   "name": "python3"
  },
  "language_info": {
   "codemirror_mode": {
    "name": "ipython",
    "version": 3
   },
   "file_extension": ".py",
   "mimetype": "text/x-python",
   "name": "python",
   "nbconvert_exporter": "python",
   "pygments_lexer": "ipython3",
   "version": "3.13.5"
  }
 },
 "nbformat": 4,
 "nbformat_minor": 5
}
