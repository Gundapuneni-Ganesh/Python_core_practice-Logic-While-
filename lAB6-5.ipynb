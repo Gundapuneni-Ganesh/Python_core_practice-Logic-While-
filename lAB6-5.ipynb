{
 "cells": [
  {
   "cell_type": "raw",
   "id": "0dca9469-b69f-4c87-ab3c-6b0c0295d96c",
   "metadata": {},
   "source": [
    "# Encapsulation = * data Hiding\n",
    "#                * wraping of variables and methods into a single method\n",
    "#                * protects data from being accessed or modified accidently\n",
    "\n",
    "                => we had different type of variables  in class\n",
    "                    1) public = the variable which defined like \"self.sname\"\n",
    "                    2) private= the variable which defined like \"self._batch\" . it is declared with single underscore \"_\" . this is only acess within                                     the class only\n",
    "                    3) protected= the variable which defined like \"self.__course\" . this is dec;ared with double underscore \"__\" . this can accesss                                        but limited acess\n",
    "           "
   ]
  },
  {
   "cell_type": "code",
   "execution_count": 3,
   "id": "e810c096-0921-463f-b9ac-55b9003872fa",
   "metadata": {},
   "outputs": [
    {
     "name": "stdout",
     "output_type": "stream",
     "text": [
      "ganesh\n",
      "Morning\n",
      "Mern Stack Developer\n",
      "SAP Developer\n"
     ]
    }
   ],
   "source": [
    "class logicwhile:\n",
    "    def __init__(self,sname,course):\n",
    "        self.sname = sname  # public variable\n",
    "        self.__course = course  # protected variable\n",
    "        self._batch = \"Morning\"  # private variable\n",
    "\n",
    "    def get_course(self):\n",
    "        return self.__course\n",
    "\n",
    "    def set_course(self,course):\n",
    "        if course != \"\":\n",
    "            self.__course=course\n",
    "        else:\n",
    "            print(\"Invalid Course !\")\n",
    "            \n",
    "ob = logicwhile(\"ganesh\",\"Mern Stack Developer\")\n",
    "print(ob.sname)\n",
    "print(ob._batch)\n",
    "print(ob.get_course())\n",
    "ob.set_course(\"SAP Developer\")\n",
    "print(ob.get_course())"
   ]
  },
  {
   "cell_type": "raw",
   "id": "de17d2ae-645c-420e-8d6d-8c10b72ce491",
   "metadata": {},
   "source": [
    "# Inheritance \n",
    "              => advantages   \n",
    "                 Resulability of code or avoid rewriting the same code\n",
    "                 existing classes acn be extended with new features \n",
    "                 easier to manage and update\n",
    "         => Types \n",
    "            #     single\n",
    "            #     multiple\n",
    "            #     multilevel\n",
    "            #     hirerachy\n",
    "            #     hybrid = combination of any two inheritance \n",
    "\n",
    "        => Super() method\n",
    "           1) acess a constructor\n",
    "           2)access variables\n",
    "           3)access mathod\n",
    "\n",
    "\n",
    "\n"
   ]
  },
  {
   "cell_type": "code",
   "execution_count": null,
   "id": "d97e3a75-5c7c-4525-9451-454211265cde",
   "metadata": {},
   "outputs": [],
   "source": [
    "class logicwhile:\n",
    "    def __init__(self,sname,course):\n",
    "        self.sname = sname  # public variable\n",
    "        self.__course = course  # protected variable\n",
    "        self._batch = \"Morning\"  # private variable\n",
    "        \n",
    "    @property  # @property says that we directly call the method like variable and passing the value to the method is like assing a value to variable  \n",
    "    def course(self):\n",
    "        return self.__course\n",
    "        \n",
    "    @course.setter \n",
    "    def course(self,value):\n",
    "        if value != \"\":\n",
    "            self.__course=value\n",
    "        else:\n",
    "            print(\"Invalid Course !\")\n",
    "            \n",
    "ob = logicwhile(\"ganesh\",\"Mern Stack Developer\")\n",
    "print(ob.sname)\n",
    "print(ob._batch)\n",
    "print(ob.course)\n",
    "ob.course = \"SAP Developer\"\n",
    "print(ob.course)"
   ]
  },
  {
   "cell_type": "code",
   "execution_count": 13,
   "id": "d6eda901-0622-4667-9fa7-2264c193a0b3",
   "metadata": {},
   "outputs": [
    {
     "name": "stdout",
     "output_type": "stream",
     "text": [
      "Employee works\n",
      "Manager manages team\n"
     ]
    }
   ],
   "source": [
    "                                                         # Employee Example with Inheritance\n",
    "\n",
    "#1. Single Inheritance\n",
    "class Employee:\n",
    "   def work(self):\n",
    "       print(\"Employee works\")\n",
    "class Manager(Employee):\n",
    "   def manage(self):\n",
    "       print(\"Manager manages team\")\n",
    "m = Manager()\n",
    "m.work()\n",
    "m.manage()\n"
   ]
  },
  {
   "cell_type": "code",
   "execution_count": 14,
   "id": "0d19e96e-7c02-4b72-927f-ec3693c57a97",
   "metadata": {},
   "outputs": [
    {
     "name": "stdout",
     "output_type": "stream",
     "text": [
      "Person details\n",
      "Company details\n",
      "Employee details\n"
     ]
    }
   ],
   "source": [
    "                                              # Employee Example with Inheritance\n",
    "# 2. Multiple Inheritance\n",
    "class Person:\n",
    "   def personal_details(self):\n",
    "       print(\"Person details\")\n",
    "class Company:\n",
    "   def company_details(self):\n",
    "       print(\"Company details\")\n",
    "class Employee(Person, Company):\n",
    "   def employee_details(self):\n",
    "       print(\"Employee details\")\n",
    "e = Employee()\n",
    "e.personal_details()\n",
    "e.company_details()\n",
    "e.employee_details()"
   ]
  },
  {
   "cell_type": "code",
   "execution_count": 15,
   "id": "80756541-7be1-4447-a7ee-372055483476",
   "metadata": {},
   "outputs": [
    {
     "name": "stdout",
     "output_type": "stream",
     "text": [
      "Person details\n",
      "Employee works\n",
      "Manager manages team\n"
     ]
    }
   ],
   "source": [
    "                                                         # Employee Example with Inheritance\n",
    "# 3. Multilevel Inheritance\n",
    "class Person:\n",
    "   def personal_details(self):\n",
    "       print(\"Person details\")\n",
    "class Employee(Person):\n",
    "   def work(self):\n",
    "       print(\"Employee works\")\n",
    "class Manager(Employee):\n",
    "   def manage(self):\n",
    "       print(\"Manager manages team\")\n",
    "m = Manager()\n",
    "m.personal_details()\n",
    "m.work()\n",
    "m.manage()"
   ]
  },
  {
   "cell_type": "code",
   "execution_count": null,
   "id": "ac3d9dbc-c0ae-4ca4-9d47-0729c3e156f7",
   "metadata": {},
   "outputs": [],
   "source": [
    "                                                          # Employee Example with Inheritance\n",
    "# 4. Hierarchical Inheritance\n",
    "class Employee:\n",
    "   def work(self):\n",
    "       print(\"Employee works\")\n",
    "class Developer(Employee):\n",
    "   def code(self):\n",
    "       print(\"Developer writes code\")\n",
    "class Tester(Employee):\n",
    "   def test(self):\n",
    "       print(\"Tester tests software\")\n",
    "d = Developer()\n",
    "t = Tester()\n",
    "d.work()\n",
    "d.code()\n",
    "t.work()\n",
    "t.test()"
   ]
  },
  {
   "cell_type": "code",
   "execution_count": 16,
   "id": "8b49946a-dbdb-4eab-8ce1-6cc5235214fe",
   "metadata": {},
   "outputs": [
    {
     "name": "stdout",
     "output_type": "stream",
     "text": [
      "Person details\n",
      "Employee works\n",
      "Trainer trains employees\n",
      "Manager manages team\n"
     ]
    }
   ],
   "source": [
    "                                                         # Employee Example with Inheritance\n",
    "# 5. Hybrid Inheritance\n",
    "class Person:\n",
    "   def personal_details(self):\n",
    "       print(\"Person details\")\n",
    "class Employee(Person):\n",
    "   def work(self):\n",
    "       print(\"Employee works\")\n",
    "class Trainer(Person):\n",
    "   def train(self):\n",
    "       print(\"Trainer trains employees\")\n",
    "class Manager(Employee, Trainer):\n",
    "   def manage(self):\n",
    "       print(\"Manager manages team\")\n",
    "m = Manager()\n",
    "m.personal_details()\n",
    "m.work()\n",
    "m.train()\n",
    "m.manage()"
   ]
  },
  {
   "cell_type": "code",
   "execution_count": 21,
   "id": "72c0f6f2-2287-4a05-b3d0-7c6e72234744",
   "metadata": {},
   "outputs": [
    {
     "name": "stdout",
     "output_type": "stream",
     "text": [
      "Institue : Chalapathi institue of engineering nd technology\n",
      "Student Name :  subbu\n",
      "course : MERN full stack\n",
      "Admissions are open for : MERN full stack\n",
      "\n",
      "Student subbu has took the admission\n"
     ]
    }
   ],
   "source": [
    "# how we use super() method in a class \n",
    "\n",
    "class logicwhile:\n",
    "    ins_name = \"Chalapathi institue of engineering nd technology\"\n",
    "\n",
    "    def __init__(self,course):\n",
    "        self.course = course\n",
    "\n",
    "    def admis_details(self):\n",
    "        print(\"Admissions are open for :\",self.course)\n",
    "\n",
    "class student(logicwhile):\n",
    "    def __init__(self,name,course):\n",
    "        super().__init__(course)\n",
    "        self.name = name\n",
    "    def show_details(self):\n",
    "        print(\"Institue :\",super().ins_name)\n",
    "        print(\"Student Name : \",self.name)\n",
    "        print(\"course :\",self.course)\n",
    "    def admission_details(self):\n",
    "        super().admis_details()\n",
    "        print()\n",
    "        print(\"Student\",self.name,\"has took the admission\")\n",
    "s= student(\"subbu\",\"MERN full stack\")\n",
    "s.show_details()\n",
    "s.admission_details()\n",
    "    \n"
   ]
  },
  {
   "cell_type": "raw",
   "id": "604f09cb-17e4-4431-bc97-cdeaaa43c270",
   "metadata": {},
   "source": [
    "# polymorphism\n",
    "\n",
    "    => method  overriding = it occurs when a subclass  provides it own version of a method\n",
    "                            * same method name\n",
    "                            * same parameter \n",
    "                            * different behaviour in th sub class\n"
   ]
  },
  {
   "cell_type": "code",
   "execution_count": 1,
   "id": "4a2e9105-e547-45bd-a587-fa67ad8babd4",
   "metadata": {},
   "outputs": [
    {
     "name": "stdout",
     "output_type": "stream",
     "text": [
      "6\n",
      "5\n",
      "2\n"
     ]
    }
   ],
   "source": [
    "# function polymorphism\n",
    "print(len(\"python\"))\n",
    "print(len([1,2,3,4,5]))\n",
    "print(len({1:\"a\",2:\"b\"}))\n",
    "      "
   ]
  },
  {
   "cell_type": "code",
   "execution_count": 2,
   "id": "4325de61-e126-4b7c-b432-bee315df2659",
   "metadata": {},
   "outputs": [
    {
     "name": "stdout",
     "output_type": "stream",
     "text": [
      "30\n",
      "hiHello\n",
      "[1, 2, 3, 4, 5]\n"
     ]
    }
   ],
   "source": [
    "# operator Polymorphism\n",
    "print(10+20)\n",
    "print(\"hi\"+\"Hello\")\n",
    "print([1,2]+[3,4,5])"
   ]
  },
  {
   "cell_type": "code",
   "execution_count": 3,
   "id": "3b9ee261-1766-4bfa-949d-e6d61ca9d467",
   "metadata": {},
   "outputs": [
    {
     "name": "stdout",
     "output_type": "stream",
     "text": [
      "Logic while offers :  Python programming\n",
      "Student Name : Subbu\n",
      "Enrolled Course : Data structures\n"
     ]
    }
   ],
   "source": [
    "# method polymorphism\n",
    "\n",
    "class logicwhile:\n",
    "    def __init__(self,course):\n",
    "        self.course = course\n",
    "    def display(self):\n",
    "        print(\"Logic while offers : \",self.course)\n",
    "       \n",
    "\n",
    "class student:\n",
    "    def __init__(self,name,course):\n",
    "        self.course = course\n",
    "        self.name = name\n",
    "    def display(self):\n",
    "        print(\"Student Name :\",self.name)\n",
    "        print(\"Enrolled Course :\",self.course)\n",
    "        \n",
    "l = logicwhile(\"Python programming\")\n",
    "s = student(\"Subbu\",\"Data structures\")\n",
    "l.display()\n",
    "s.display()"
   ]
  },
  {
   "cell_type": "code",
   "execution_count": 1,
   "id": "a7517fbc-8d39-4eda-833c-8a002797ecbb",
   "metadata": {},
   "outputs": [
    {
     "name": "stdout",
     "output_type": "stream",
     "text": [
      "welcome logicwhile\n",
      "welcome  student to logicwhile\n",
      "python full stack is good for furter\n",
      "Mern stack is good for seniors\n"
     ]
    }
   ],
   "source": [
    "# => method  overriding\n",
    "\n",
    "class logicwhile:\n",
    "    def display(self):\n",
    "        print(\"welcome logicwhile\")\n",
    "    def course(self,course_name):\n",
    "        print(course_name,\"is good for furter\")\n",
    "       \n",
    "\n",
    "class student(logicwhile):\n",
    "    def display(self):\n",
    "        print(\"welcome  student to logicwhile\")\n",
    "    def course(self,course_name):\n",
    "        print(course_name,\"is good for seniors\")\n",
    "        \n",
    "l = logicwhile()\n",
    "s = student()\n",
    "l.display()\n",
    "s.display()\n",
    "l.course(\"python full stack\")\n",
    "s.course(\"Mern stack\")"
   ]
  },
  {
   "cell_type": "raw",
   "id": "c8e3cad2-a228-42cb-a63c-2847863eed01",
   "metadata": {},
   "source": [
    "Duck typing in python means that python does not check the type of object ."
   ]
  },
  {
   "cell_type": "code",
   "execution_count": 3,
   "id": "2b41778d-2a26-467e-b9a9-925ad3099d54",
   "metadata": {},
   "outputs": [
    {
     "name": "stdout",
     "output_type": "stream",
     "text": [
      "welcome logicwhile\n",
      "python full stack is good for furter\n",
      "welcome  student to logicwhile\n",
      "python full stack is good for seniors\n"
     ]
    }
   ],
   "source": [
    "# => Duck typing ex:\n",
    "\n",
    "class logicwhile:\n",
    "    def display(self):\n",
    "        print(\"welcome logicwhile\")\n",
    "    def course(self,course_name):\n",
    "        print(course_name,\"is good for furter\")\n",
    "       \n",
    "\n",
    "class student(logicwhile):\n",
    "    def display(self):\n",
    "        print(\"welcome  student to logicwhile\")\n",
    "    def course(self,course_name):\n",
    "        print(course_name,\"is good for seniors\")\n",
    "def show(e):\n",
    "    e.display()\n",
    "    e.course(\"python full stack\")\n",
    "    # e.course(\"Mern stack\")\n",
    "    \n",
    "        \n",
    "l = logicwhile()\n",
    "s = student()\n",
    "show(l)\n",
    "show(s)\n"
   ]
  },
  {
   "cell_type": "raw",
   "id": "db17034d-8b39-492b-997c-02d4efadd9a8",
   "metadata": {},
   "source": [
    " # Abstraction is the concept of hiding the internal details of an object \n",
    "\n",
    "=> ABSTRACT CLASS\n",
    "    an abstract class cannot be instantiated\n",
    "    can contains abstract methods and regular methods\n",
    "    child classes must implemented all abstract methods\n",
    "\n",
    "=> ABSTRACT METHOD\n",
    "    an abstract method is declared in a abstract class"
   ]
  },
  {
   "cell_type": "code",
   "execution_count": 6,
   "id": "5be5d24b-8fe4-40c0-a8e3-77504db2c997",
   "metadata": {},
   "outputs": [
    {
     "name": "stdout",
     "output_type": "stream",
     "text": [
      "IT students are well \n",
      "CIET\n",
      "AIML students are well\n"
     ]
    }
   ],
   "source": [
    "# ex  Abstract (abstract class and abstract method)\n",
    "\n",
    "from abc import ABC , abstractmethod\n",
    "\n",
    "class collage(ABC):  # abstract class (it is combination of abstract method and normal method is known as abstract class)\n",
    "                    # for abstract class we wont declared any object to the class\n",
    "    def display(self): # normal method\n",
    "        print(\"CIET\")\n",
    "        \n",
    "    @abstractmethod # this is complusory should declared while writing abstract method\n",
    "    def branch(self): # abstract method (in this method we dont declares anything . we write code by creating same method in the sub class)\n",
    "        pass\n",
    "        \n",
    "class CSE(collage):\n",
    "    def branch(self):\n",
    "        print(\"IT students are well \")\n",
    "        \n",
    "class AIML(collage):\n",
    "    def branch(self):\n",
    "        print(\"AIML students are well\")\n",
    "        \n",
    "c1=CSE()\n",
    "a1=AIML()\n",
    "c1.branch()\n",
    "c1.display()\n",
    "a1.branch()\n"
   ]
  },
  {
   "cell_type": "code",
   "execution_count": 7,
   "id": "9789fb7b-5cfe-4f2b-831c-eef8a030873d",
   "metadata": {},
   "outputs": [
    {
     "name": "stdout",
     "output_type": "stream",
     "text": [
      "student enrolled in logicwhile\n",
      "Trainer teaching at logicwhile\n"
     ]
    }
   ],
   "source": [
    "# =>  ex:\n",
    "from abc import ABC , abstractmethod\n",
    "\n",
    "class logicwhile(ABC):\n",
    "    @abstractmethod  # decorator\n",
    "    def display(self):\n",
    "        pass\n",
    "\n",
    "class student(logicwhile):\n",
    "    def display(self):\n",
    "        print(\"student enrolled in logicwhile\")\n",
    "        \n",
    "class trainer(logicwhile):\n",
    "    def display(self): \n",
    "        print(\"Trainer teaching at logicwhile\")\n",
    "        \n",
    "s = student()\n",
    "t = trainer()\n",
    "s.display()\n",
    "t.display()"
   ]
  },
  {
   "cell_type": "raw",
   "id": "e6bc18a8-6e60-475d-a9b4-1db9f64963be",
   "metadata": {},
   "source": [
    "An interface is a class that only defines only abstract methods is called interface"
   ]
  },
  {
   "cell_type": "code",
   "execution_count": 8,
   "id": "b34c3d85-cff0-424f-9b0e-71981bd119c1",
   "metadata": {},
   "outputs": [
    {
     "name": "stdout",
     "output_type": "stream",
     "text": [
      "python full stack development\n",
      "6 months\n"
     ]
    }
   ],
   "source": [
    "# =>  ex: of interface\n",
    "from abc import ABC , abstractmethod\n",
    "\n",
    "class logicwhile(ABC): # this class is called interface . \n",
    "                        # inthis class all are abstract methods so it is class as interface . remaining all functionality are same of abstract like\n",
    "                        # we wont create an object to that class\n",
    "    \n",
    "    @abstractmethod  # decorator\n",
    "    def course_name(self):\n",
    "        pass\n",
    "    @abstractmethod  # decorator\n",
    "    def duration(self):\n",
    "        pass\n",
    "\n",
    "class python_full_stack(logicwhile):\n",
    "    def course_name(self):\n",
    "        print(\"python full stack development\")\n",
    "    def duration(self):\n",
    "        print(\"6 months\")\n",
    "        \n",
    "class java_full_stack(logicwhile):\n",
    "    def course_name(self):\n",
    "        print(\"java full stack development\")\n",
    "    def duration(self):\n",
    "        print(\"6 months\")\n",
    "        \n",
    "s = python_full_stack()\n",
    "t = java_full_stack()\n",
    "s.course_name()\n",
    "s.duration()\n",
    "t.course_name()\n",
    "t.duration()"
   ]
  },
  {
   "cell_type": "code",
   "execution_count": null,
   "id": "ff8558ac-b4ee-4534-9f83-e4bd239147e6",
   "metadata": {},
   "outputs": [],
   "source": []
  }
 ],
 "metadata": {
  "kernelspec": {
   "display_name": "Python 3 (ipykernel)",
   "language": "python",
   "name": "python3"
  },
  "language_info": {
   "codemirror_mode": {
    "name": "ipython",
    "version": 3
   },
   "file_extension": ".py",
   "mimetype": "text/x-python",
   "name": "python",
   "nbconvert_exporter": "python",
   "pygments_lexer": "ipython3",
   "version": "3.12.7"
  }
 },
 "nbformat": 4,
 "nbformat_minor": 5
}
