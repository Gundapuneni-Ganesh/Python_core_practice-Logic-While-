{
 "cells": [
  {
   "cell_type": "code",
   "execution_count": null,
   "id": "9548144a-2e6a-4d9e-bcf1-703ed4618e57",
   "metadata": {},
   "outputs": [],
   "source": [
    "\n",
    "x = [('item1', '29.20'), ('item2', '49.10'), ('item3', '33.5')]  \n",
    "def get_second_item(t):\n",
    "    return t[1]\n",
    "\n",
    "sorted_x = tuple(sorted(x, key=get_second_item))\n",
    "\n",
    "print(sorted_x)"
   ]
  },
  {
   "cell_type": "code",
   "execution_count": null,
   "id": "957e0ba3-7900-4f21-a560-fb3e3fe89731",
   "metadata": {},
   "outputs": [],
   "source": [
    "# 1. Write a Python program to unzip a list of tuples into individual lists.\n",
    "#     Data:\n",
    "#         x = [(1,2), (3,4), (8,9)]\n",
    "#     Expected Output:\n",
    "#         [(1, 3, 8), (2, 4, 9)]\n",
    "\n",
    "# n = int(input(\"enter the range : \"))\n",
    "# r=[]\n",
    "# for i in range(0,n):\n",
    "#     a,b =input().split()\n",
    "#     r.append(int(a),int(b))\n",
    "# l1=[]\n",
    "# l2=[]\n",
    "# for i in r:\n",
    "#     l1.append(i[0])\n",
    "#     l2.append(i[1])\n",
    "# re = tuple(l1),tuple(l2)\n",
    "# print(list(re))\n",
    "+\n",
    "x = [(1, 2), (3, 4), (8, 9)]\n",
    "unzipped = list(zip(*x))\n",
    "print(unzipped)"
   ]
  },
  {
   "cell_type": "code",
   "execution_count": null,
   "id": "141ba312-cca0-483f-9e3c-271e2f7965b2",
   "metadata": {},
   "outputs": [],
   "source": [
    "x = (\"Magnum\", \"Pistah\", \"Strawberry\", \"Vennila\", \"Chocobar\", \"Blackberry\", \"Salad\")\n",
    "a=int(input())\n",
    "if a > 0:\n",
    "    print(x[a:])\n",
    "else:\n",
    "    print(x[a:])"
   ]
  }
 ],
 "metadata": {
  "kernelspec": {
   "display_name": "Python 3 (ipykernel)",
   "language": "python",
   "name": "python3"
  },
  "language_info": {
   "codemirror_mode": {
    "name": "ipython",
    "version": 3
   },
   "file_extension": ".py",
   "mimetype": "text/x-python",
   "name": "python",
   "nbconvert_exporter": "python",
   "pygments_lexer": "ipython3",
   "version": "3.13.5"
  }
 },
 "nbformat": 4,
 "nbformat_minor": 5
}
