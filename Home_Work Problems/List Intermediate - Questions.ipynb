{
 "cells": [
  {
   "cell_type": "markdown",
   "metadata": {},
   "source": [
    "# List Intermediate - Questions"
   ]
  },
  {
   "cell_type": "code",
   "execution_count": 1,
   "metadata": {},
   "outputs": [
    {
     "name": "stdout",
     "output_type": "stream",
     "text": [
      "2\n"
     ]
    }
   ],
   "source": [
    "''' 1. Write a Python program to count the number of strings where the string length is 2 or more and\n",
    "            the first and last characters of a string are same from the given data.\n",
    "        Data:\n",
    "            ['abc', 'xyz', 'aba', '1221']\n",
    "        Expected Output:\n",
    "            2 '''\n",
    "\n",
    "\n",
    "a=['abc', 'xyz', 'aba', '1221']\n",
    "# c=0\n",
    "# b=[]\n",
    "# b = [i for i in a if len(i)>=2 and i[0] == i[-1]]\n",
    "# print(b)\n",
    "# print(len(b))\n",
    "c=0\n",
    "for i in a:\n",
    "    if len(i)>=2 and i[0] == i[-1]:\n",
    "        c+=1\n",
    "print(c)\n",
    "        "
   ]
  },
  {
   "cell_type": "code",
   "execution_count": 15,
   "metadata": {},
   "outputs": [
    {
     "name": "stdin",
     "output_type": "stream",
     "text": [
      " 3,\"The quick brown fox jumps over the lazy dog\"\n"
     ]
    },
    {
     "name": "stdout",
     "output_type": "stream",
     "text": [
      "['quick', 'brown', 'jumps', 'over', 'lazy']\n"
     ]
    }
   ],
   "source": [
    "''' 2. Write a Python function to find the list of words which are longer than the specified length from the given data.\n",
    "        Data:\n",
    "            (3, \"The quick brown fox jumps over the lazy dog\")\n",
    "        Expected Output:\n",
    "            ['quick', 'brown', 'jumps', 'over', 'lazy'] '''\n",
    "a=[eval(i) for i in input().split(\",\")]\n",
    "ar=[]\n",
    "b = a[0]\n",
    "c= a[1].split()\n",
    "for i in c:\n",
    "    if len(i) > b:\n",
    "        ar.append(i)\n",
    "print(ar)\n",
    "\n",
    "\n",
    "\n",
    "        "
   ]
  },
  {
   "cell_type": "code",
   "execution_count": 16,
   "metadata": {},
   "outputs": [
    {
     "name": "stdin",
     "output_type": "stream",
     "text": [
      " 1,2,3,45\n",
      " 2,4,7,8,9\n"
     ]
    },
    {
     "name": "stdout",
     "output_type": "stream",
     "text": [
      "True\n"
     ]
    }
   ],
   "source": [
    "''' 3. Write a Python function that takes two parameters as lists and returns True if they have at least one common element.\n",
    "        Data:\n",
    "            (a, b) = ([1,2,2,4,5], [5,6,6,8,9])\n",
    "            (a, b) = ([1,2,3,5,5], [6,7,9,9])\n",
    "        Expected Output:\n",
    "            True \n",
    "            None '''\n",
    "def tli(a,b):\n",
    "    for i in a:\n",
    "        if i in b:\n",
    "            return True\n",
    "        else:\n",
    "            pass\n",
    "a=[int(i) for i in input().split(\",\")]\n",
    "b=[int(i) for i in input().split(\",\")]\n",
    "print(tli(a,b))\n",
    "                "
   ]
  },
  {
   "cell_type": "code",
   "execution_count": 21,
   "metadata": {},
   "outputs": [
    {
     "name": "stdin",
     "output_type": "stream",
     "text": [
      " 3,4,6\n",
      " *\n"
     ]
    },
    {
     "name": "stdout",
     "output_type": "stream",
     "text": [
      "3*4*6\n"
     ]
    }
   ],
   "source": [
    "# 4. Write a Python program to generate a 3*4*6 3D array whose each element is '*'. \n",
    "\n",
    "a=[int(i) for i in input().split(\",\")]\n",
    "b =input()\n",
    "temp=\"\"\n",
    "for i in a:\n",
    "    temp += str(i)+b\n",
    "\n",
    "c=len(temp)-1\n",
    "print(temp[:c])"
   ]
  },
  {
   "cell_type": "code",
   "execution_count": 5,
   "metadata": {},
   "outputs": [
    {
     "name": "stdin",
     "output_type": "stream",
     "text": [
      " 30\n"
     ]
    },
    {
     "name": "stdout",
     "output_type": "stream",
     "text": [
      "Squares of first 5 numbers between 1 to 30: [1, 4, 9, 16, 25]\n",
      "Squares of last 5 numbers between 1 to 30: [676, 729, 784, 841, 900]\n"
     ]
    }
   ],
   "source": [
    "''' 5. Write a Python program to generate and print a list of first and last 5 elements where the values are square of numbers \n",
    "       between 1 and 30 (both included).\n",
    "    Data:\n",
    "        range(1, 31) \n",
    "    Expected Output:\n",
    "        Squares of first 5 numbers between 1 to 30: [1, 4, 9, 16, 25]\n",
    "        Squares of last 5 numbers between 1 to 30: [676, 729, 784, 841, 900] '''\n",
    "a=int(input())\n",
    "r=5\n",
    "f5=[]\n",
    "l5=[]\n",
    "for i in range(1,a+1):\n",
    "    if i <= 5:\n",
    "        f5.append(i*i)\n",
    "    elif i > a-5:\n",
    "        l5.append(i*i)\n",
    "    else:\n",
    "        pass\n",
    "print(f\"Squares of first 5 numbers between 1 to 30: {f5}\")\n",
    "print(f\"Squares of last 5 numbers between 1 to 30: {l5}\")\n",
    "        \n",
    "    \n",
    "        \n",
    "        "
   ]
  },
  {
   "cell_type": "code",
   "execution_count": 26,
   "metadata": {},
   "outputs": [
    {
     "name": "stdout",
     "output_type": "stream",
     "text": [
      "[-8, -2, -2, 0, 1, 2]\n",
      "-2\n"
     ]
    }
   ],
   "source": [
    "''' 6. Write a Python program to find the second smallest number in a list.\n",
    "        Data:\n",
    "            lt = [1, 2, -8, -2, 0, -2]\n",
    "        Expected output:\n",
    "            -2 '''\n",
    "a = [1, 2, -8, -2, 0, -2]\n",
    "for i in range(len(a)):\n",
    "    for j in range(i+1, len(a)):\n",
    "        if a[i] > a[j]:\n",
    "            a[i], a[j] = a[j], a[i]\n",
    "\n",
    "print(a)\n",
    "# print(a[1])\n",
    "for i in range(1,len(a)):\n",
    "    if a[0] < a[i]:\n",
    "        print(a[i])\n",
    "        break\n",
    "\n",
    "        \n",
    "\n",
    "\n",
    "\n"
   ]
  },
  {
   "cell_type": "code",
   "execution_count": 31,
   "metadata": {},
   "outputs": [
    {
     "name": "stdout",
     "output_type": "stream",
     "text": [
      "[4, 9, 9, 7]\n"
     ]
    }
   ],
   "source": [
    "''' 7. Write a Python program to find the second largest number in a list.\n",
    "        Data:\n",
    "            lt = [1, 2, 3, 5, 4]\n",
    "        Expected output:\n",
    "            4 '''\n",
    "a=[4,9,7,3]\n",
    "large = a[0]\n",
    "for i in range(1,len(a)):\n",
    "    if large >  a[i] :\n",
    "        large , a[i] = a[i],large\n",
    "    else :\n",
    "        large = a[i]\n",
    "print(a)\n",
    "        \n",
    "    \n",
    "    \n"
   ]
  },
  {
   "cell_type": "code",
   "execution_count": 34,
   "metadata": {},
   "outputs": [
    {
     "name": "stdout",
     "output_type": "stream",
     "text": [
      "{10: 4, 20: 3, 30: 2, 40: 2, 50: 2}\n"
     ]
    }
   ],
   "source": [
    "''' 8. Write a Python program to get the frequency of the elements in a list and \n",
    "            print the occurances as a list of dictionary as shown in the expected output.\n",
    "        Data:\n",
    "            Original List :  [10, 10, 10, 10, 20, 20, 20, 30, 40, 40, 50, 50, 30]\n",
    "        Expected Output:\n",
    "            Frequency of the elements in the List :  Counter({10: 4, 20: 3, 30: 2, 40: 2, 50: 2}) '''\n",
    "\n",
    "a=[10, 10, 10, 10, 20, 20, 20, 30, 40, 40, 50, 50, 30]  \n",
    "dici = {}\n",
    "tmp =[]\n",
    "for i in range(0,len(a)):\n",
    "    tmp = a[i]\n",
    "    if tmp not in dici:\n",
    "        dici[tmp] =1\n",
    "    else:\n",
    "        dici[tmp] +=1\n",
    "print(dici)\n",
    "    \n",
    "            "
   ]
  },
  {
   "cell_type": "code",
   "execution_count": 44,
   "metadata": {},
   "outputs": [
    {
     "name": "stdout",
     "output_type": "stream",
     "text": [
      "True\n",
      "False\n"
     ]
    }
   ],
   "source": [
    "''' 9. Write a Python program to check whether a list contains a sublist or not. Return True if present, false if not.\n",
    "        Data:\n",
    "            a = [2,4,3,5,7]\n",
    "            sublist1 = [4,3]\n",
    "            sublist2 = [3,7]\n",
    "        Expected Output:\n",
    "            True\n",
    "            False '''\n",
    "\n",
    "a = [2, 4, 3, 5, 7]\n",
    "def is_sublist(main_list, sub_list):\n",
    "    n = len(main_list)\n",
    "    m = len(sub_list)\n",
    "    for i in range(n - m + 1):\n",
    "        if main_list[i:i+m] == sub_list:\n",
    "            return True\n",
    "    return False\n",
    "\n",
    "sublist1 = [4, 3]\n",
    "sublist2 = [3, 7]\n",
    "print(is_sublist(a, sublist1))\n",
    "print(is_sublist(a, sublist2))  \n",
    "        \n",
    "        "
   ]
  },
  {
   "cell_type": "code",
   "execution_count": 45,
   "metadata": {},
   "outputs": [
    {
     "name": "stdout",
     "output_type": "stream",
     "text": [
      "[[], [10], [20], [10, 20], [30], [10, 30], [20, 30], [10, 20, 30], [40], [10, 40], [20, 40], [10, 20, 40], [30, 40], [10, 30, 40], [20, 30, 40], [10, 20, 30, 40]]\n",
      "[[], ['X'], ['Y'], ['X', 'Y'], ['Z'], ['X', 'Z'], ['Y', 'Z'], ['X', 'Y', 'Z']]\n"
     ]
    }
   ],
   "source": [
    "''' 10. Write a Python program to generate all sublists of a list.\n",
    "        Data:\n",
    "            l1 = [10, 20, 30, 40]\n",
    "            l2 = ['X', 'Y', 'Z']\n",
    "        Expected Output:\n",
    "            [[], [1], [2], [1, 2], [3], [1, 3], [2, 3], [1, 2, 3]]\n",
    "            [[], ['X'], ['Y'], ['X', 'Y'], ['Z'], ['X', 'Z'], ['Y', 'Z'], ['X', 'Y', 'Z']] '''\n",
    "# def rept(ar,l):\n",
    "#     sc=[]\n",
    "#     for i in range(0,len(ar)):\n",
    "#         for j in range(i\n",
    "def generate_sublists(lst):\n",
    "    n = len(lst)\n",
    "    result = []\n",
    "    for i in range(2**n):  # There are 2**n subsets for a list of length n\n",
    "        subset = []\n",
    "        for j in range(n):\n",
    "            if i & (1 << j):  # Check if j-th element is included in the i-th subset\n",
    "                subset.append(lst[j])\n",
    "        result.append(subset)\n",
    "    return result\n",
    "\n",
    "l1 = [10, 20, 30, 40]\n",
    "l2 = ['X', 'Y', 'Z']\n",
    "\n",
    "print(generate_sublists(l1))\n",
    "print(generate_sublists(l2))\n",
    "\n"
   ]
  },
  {
   "cell_type": "code",
   "execution_count": 46,
   "metadata": {},
   "outputs": [
    {
     "name": "stdin",
     "output_type": "stream",
     "text": [
      " 10\n"
     ]
    },
    {
     "name": "stdout",
     "output_type": "stream",
     "text": [
      "3\n",
      "4\n",
      "5\n",
      "5\n",
      "5\n",
      "6\n",
      "6\n",
      "7\n",
      "7\n",
      "7\n",
      "7\n",
      "7\n",
      "8\n",
      "8\n",
      "8\n",
      "8\n",
      "9\n",
      "9\n",
      "9\n",
      "9\n",
      "9\n",
      "9\n"
     ]
    }
   ],
   "source": [
    "''' 11. Write a Python program to print all the prime numbers upto a specified number using Sieve of Eratosthenes method.\n",
    "        Data:\n",
    "            nums(10)\n",
    "        Expected Output:\n",
    "            2\n",
    "            3\n",
    "            5\n",
    "            7\n",
    "            None '''\n",
    "a=int(input())\n",
    "for i in range(2,a):\n",
    "    for j in range (2,i):\n",
    "        if i % j != 0:\n",
    "            print(i)\n",
    "            \n",
    "            \n",
    "     "
   ]
  },
  {
   "cell_type": "code",
   "execution_count": 11,
   "metadata": {},
   "outputs": [],
   "source": [
    "''' 12. Write a Python program to create a list by concatenating a given list which ranges from 1 to n.\n",
    "        Data:\n",
    "            list:['l', 'm']\n",
    "            n = 4\n",
    "        Expected Output:\n",
    "            ['l1', 'm1', 'l2', 'm2', 'l3', 'm3', 'l4', 'm4'] '''\n",
    "\n",
    "        "
   ]
  },
  {
   "cell_type": "code",
   "execution_count": 12,
   "metadata": {},
   "outputs": [],
   "source": [
    "''' 13. Write a Python program to change the position of every n-th value with the (n+1)th in a list.\n",
    "        Data:\n",
    "            list:[0, 1, 2, 3, 4, 5, 6, 7]\n",
    "        Expected Output:\n",
    "            [1, 0, 3, 2, 5, 4, 7, 6] '''\n",
    "        \n",
    "        \n",
    "        \n",
    "        "
   ]
  },
  {
   "cell_type": "code",
   "execution_count": 13,
   "metadata": {},
   "outputs": [],
   "source": [
    "''' 14. Write a Python program to convert a pair of values into a sorted unique array.\n",
    "        Data:\n",
    "            List:  [(1, 2), (3, 4), (5, 6), (7, 8), (1, 2), (3, 4), (7, 8), (7, 8), (9, 10)]   \n",
    "        Expected Output:\n",
    "            Sorted Unique Data: [1, 2, 3, 4, 5, 6, 7, 8, 9, 10] '''\n",
    "                      \n",
    "            "
   ]
  },
  {
   "cell_type": "code",
   "execution_count": 14,
   "metadata": {},
   "outputs": [],
   "source": [
    "''' 15. Write a Python program to sort a list of nested dictionaries.\n",
    "        Data:\n",
    "            Original List: \n",
    "                x = [{'Book': {'Novel': 'Hamlet'}}, {'Book': {'Novel': 'Sherlock Homes'}}, {'Book': {'Novel': 'Alchemist'}}]\n",
    "        Expected Output:\n",
    "            Sorted List: \n",
    "                [{'Book': {'Novel': 'Alchemist'}}, {'Book': {'Novel': 'Hamlet'}}, {'Book': {'Novel': 'Sherlock Homes'}}] '''\n",
    "        \n",
    "        "
   ]
  },
  {
   "cell_type": "code",
   "execution_count": 15,
   "metadata": {},
   "outputs": [],
   "source": [
    "''' 16. Write a Python program to remove duplicates from a list of lists.\n",
    "        Data:\n",
    "            Original List [[10, 30], [40], [30, 56, 23], [10, 20], [33], [40]]\n",
    "        Expected Output:\n",
    "            Unique List [[10, 20], [10, 30], [30, 56, 23], [33], [40]] '''\n",
    "\n",
    "        "
   ]
  },
  {
   "cell_type": "code",
   "execution_count": 16,
   "metadata": {},
   "outputs": [],
   "source": [
    "''' 17. Write a Python program to check whether all dictionaries in a list are empty or not.\n",
    "        Data:\n",
    "            x = [{},{},{}]\n",
    "            y = [{1,2},{},{}]\n",
    "        Expected Output:\n",
    "            True\n",
    "            False '''        \n",
    "        \n",
    "        "
   ]
  },
  {
   "cell_type": "code",
   "execution_count": 17,
   "metadata": {},
   "outputs": [],
   "source": [
    "''' 18. Write a Python program to convert a nested list into a flat list.\n",
    "        Data:\n",
    "            lt = [0, 20, [30, 30], 40, 50, [60, 40, 80], [90, 100, 10, 119]]\n",
    "        Expected Output:\n",
    "            Flat list:[0, 20, 30, 30, 40, 50, 60, 40, 80, 90, 100, 10, 119] '''\n",
    "            \n",
    "    "
   ]
  },
  {
   "cell_type": "code",
   "execution_count": 18,
   "metadata": {},
   "outputs": [],
   "source": [
    "''' 19. Write a Python program to remove only the consecutive duplicates from given list.\n",
    "        Data:\n",
    "            lt = [0, 1, 1, 2, 3, 5, 4, 5, 6, 6, 7, 7, 8, 4, 4, 4]\n",
    "        Expected Output:\n",
    "            After removing consecutive duplicates:\n",
    "                [0, 1, 2, 3, 5, 4, 5, 6, 7, 8, 4] '''\n",
    "        \n",
    "    "
   ]
  },
  {
   "cell_type": "code",
   "execution_count": null,
   "metadata": {},
   "outputs": [],
   "source": [
    "''' 20. Write a Python program to pack consecutive duplicates of a given list into sublists.\n",
    "        Data:\n",
    "            Original list:\n",
    "            [1, 0, 1, 2, 3, 4, 4, 5, 5, 6, 6, 7, 8, 9, 4, 4]\n",
    "        Expected Output:\n",
    "            After packing consecutive duplicates of the said list elements into sublists:\n",
    "                [[1], [0], [1], [2], [3], [4, 4], [5, 5], [6, 6], [7], [8], [9], [4, 4]] '''\n",
    "        \n",
    "        \n",
    "        \n",
    "        "
   ]
  }
 ],
 "metadata": {
  "kernelspec": {
   "display_name": "Python 3 (ipykernel)",
   "language": "python",
   "name": "python3"
  },
  "language_info": {
   "codemirror_mode": {
    "name": "ipython",
    "version": 3
   },
   "file_extension": ".py",
   "mimetype": "text/x-python",
   "name": "python",
   "nbconvert_exporter": "python",
   "pygments_lexer": "ipython3",
   "version": "3.13.5"
  }
 },
 "nbformat": 4,
 "nbformat_minor": 4
}
