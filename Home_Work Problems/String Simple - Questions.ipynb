{
 "cells": [
  {
   "cell_type": "markdown",
   "metadata": {},
   "source": [
    "# String Simple Questions"
   ]
  },
  {
   "cell_type": "code",
   "execution_count": 8,
   "metadata": {},
   "outputs": [
    {
     "name": "stdout",
     "output_type": "stream",
     "text": [
      "6\n"
     ]
    }
   ],
   "source": [
    "# 1. Write a Python program to calculate the length of a given string.\n",
    "#     Data:\n",
    "#         \"Baskar\"\n",
    "#     Expected Output:\n",
    "#         6\n",
    "a= \"Baskar\"        \n",
    "print(len(a))       \n",
    "        \n",
    "        "
   ]
  },
  {
   "cell_type": "code",
   "execution_count": 7,
   "metadata": {},
   "outputs": [
    {
     "name": "stdout",
     "output_type": "stream",
     "text": [
      "ython\n",
      "Pytho\n",
      "Pyton\n"
     ]
    }
   ],
   "source": [
    "# 2. Write a Python program to remove the character of the nth index from a given string. \n",
    "#     Data:\n",
    "#         \"Python\"\n",
    "#     Expected Output:\n",
    "#         ython\n",
    "#         Pyton\n",
    "#         Pytho\n",
    "s=\"Python\"\n",
    "print(s[1:]) # print(s.removeprefix(\"p\"))\n",
    "print(s[0:len(s)-1]) # print(s.removesuffix(\"n\")) \n",
    "k=3\n",
    "r=''\n",
    "for i in range(len(s)):\n",
    "    if (i!=k):\n",
    "        r+=s[i]  \n",
    "print(r)  # print(s.replace(\"h\",\"\"))\n",
    "    \n",
    "    \n",
    "    "
   ]
  },
  {
   "cell_type": "code",
   "execution_count": 18,
   "metadata": {},
   "outputs": [
    {
     "name": "stdin",
     "output_type": "stream",
     "text": [
      " abcd\n"
     ]
    },
    {
     "name": "stdout",
     "output_type": "stream",
     "text": [
      "dbca\n"
     ]
    }
   ],
   "source": [
    "# 3. Write a Python program to interchange the first and last character of a given string.\n",
    "#     Data:\n",
    "#         'abcd'\n",
    "#         '12345'\n",
    "#     Expected Output:\n",
    "#         dbca\n",
    "#         52341\n",
    "s=input()\n",
    "temp=''\n",
    "# b= s.replace(s[0],s[len(s)-1])\n",
    "# print(b)\n",
    "# for i in range(len(s)):\n",
    "#     s[0],s[len(s)-2] =s[len(s)-2],s[0]\n",
    "#     temp +=s[i]\n",
    "# print(temp)\n",
    "a=s[0]\n",
    "b=s[len(s)-1]\n",
    "c= b+s[1:-1]+a\n",
    "print(c)\n",
    "        "
   ]
  },
  {
   "cell_type": "code",
   "execution_count": 21,
   "metadata": {},
   "outputs": [
    {
     "name": "stdin",
     "output_type": "stream",
     "text": [
      " 'python'\n"
     ]
    },
    {
     "name": "stdout",
     "output_type": "stream",
     "text": [
      " 'yhn\n"
     ]
    }
   ],
   "source": [
    "# 4. Write a Python program to remove the values of the odd index from a given string.\n",
    "#     Data:\n",
    "#         'abcdef'\n",
    "#         'python'\n",
    "#     Expected Output:\n",
    "#         ace\n",
    "#         pto\n",
    "a=input()\n",
    "temp = \" \"\n",
    "for i in range(0,len(a)):\n",
    "    if i %2 ==0:\n",
    "        temp +=a [i]\n",
    "    else:\n",
    "        continue\n",
    "print(temp)\n",
    "        \n",
    "        \n",
    "        \n",
    "        "
   ]
  },
  {
   "cell_type": "code",
   "execution_count": 22,
   "metadata": {},
   "outputs": [
    {
     "name": "stdin",
     "output_type": "stream",
     "text": [
      " tamil\n"
     ]
    },
    {
     "name": "stdout",
     "output_type": "stream",
     "text": [
      "TAMIL\n"
     ]
    }
   ],
   "source": [
    "# 5. Write a Python program to get input from the user and print the input back in uppercase.\n",
    "#     Data:\n",
    "#         Whats your favourite language: Tamil\n",
    "#     Expected Output:\n",
    "#         My favourite language is  TAMIL\n",
    "#         My favourite language is  tamil\n",
    "        \n",
    "a=input().upper()\n",
    "print(a)\n",
    "        \n",
    "        "
   ]
  },
  {
   "cell_type": "code",
   "execution_count": 29,
   "metadata": {},
   "outputs": [
    {
     "name": "stdin",
     "output_type": "stream",
     "text": [
      " red, white, black, red, green, black\n"
     ]
    },
    {
     "name": "stdout",
     "output_type": "stream",
     "text": [
      "[' black', ' green', ' red', ' white', 'red']\n"
     ]
    }
   ],
   "source": [
    "# 6. Write a Python program that accepts a comma separated sequence of words as input and print only the unique strings in sorted.\n",
    "#     Data:\n",
    "#         Words : red, white, black, red, green, black\n",
    "#     Expected Output:\n",
    "#         black, green, red, white,red\n",
    "s=[str(i) for i in input().split(\",\")]    \n",
    "se=set()\n",
    "\n",
    "for i in s:\n",
    "    if i not in se:\n",
    "        se.add(i)\n",
    "    \n",
    "print(sorted(se))\n",
    "\n",
    "# words = input(\"Enter comma separated words: \")\n",
    "\n",
    "# # Splitting, removing extra spaces, and removing duplicates via set\n",
    "# unique_words = set(word.strip() for word in words.split(','))\n",
    "\n",
    "# # Sorting the unique words\n",
    "# sorted_unique_words = sorted(unique_words)\n",
    "\n",
    "# # Printing as comma-separated string\n",
    "# print(', '.join(sorted_unique_words))\n",
    "\n",
    "        \n",
    "        "
   ]
  },
  {
   "cell_type": "code",
   "execution_count": 33,
   "metadata": {},
   "outputs": [
    {
     "name": "stdin",
     "output_type": "stream",
     "text": [
      " i,Python\n"
     ]
    },
    {
     "name": "stdout",
     "output_type": "stream",
     "text": [
      "<i>Python</i>\n"
     ]
    }
   ],
   "source": [
    "# 7. Write a Python function to create the HTML string with tags around the string.\n",
    "#     Data:\n",
    "#         ('i', 'Python')\n",
    "#         ('b', 'Python Tutorial')\n",
    "#     Expected Output:\n",
    "#         <i>Python</i>\n",
    "#         <b>Python Tutorial </b>\n",
    "\n",
    "a=[str(i) for i in input().split(\",\")]\n",
    "b =a[0]\n",
    "print(f\"<{b}>{a[1]}</{b}>\")\n",
    "        \n",
    "        \n",
    "        \n",
    "        "
   ]
  },
  {
   "cell_type": "code",
   "execution_count": 39,
   "metadata": {},
   "outputs": [
    {
     "name": "stdin",
     "output_type": "stream",
     "text": [
      " [[]],python\n"
     ]
    },
    {
     "name": "stdout",
     "output_type": "stream",
     "text": [
      "[[python]]\n"
     ]
    }
   ],
   "source": [
    "# 8. Write a Python function to insert the second string in the middle of a first string.\n",
    "#     Data:\n",
    "#         ('[[]]', 'Python')\n",
    "#         ('{{}}', 'PHP')\n",
    "#     Expected Output:\n",
    "#         [[Python]]\n",
    "#         {{PHP}}\n",
    "\n",
    "a = [str(i) for i in input().split(\",\")]\n",
    "inp = a[0]\n",
    "val = a[1]\n",
    "mid = len(inp) // 2\n",
    "\n",
    "temp = ''\n",
    "for i in range(len(inp) + 1):  # +1 to allow for insertion at midpoint\n",
    "    if i == mid:\n",
    "        temp += val  # Insert second string\n",
    "    if i < len(inp):\n",
    "        temp += inp[i]\n",
    "print(temp)\n",
    "\n",
    "\n",
    "\n",
    "        "
   ]
  },
  {
   "cell_type": "code",
   "execution_count": 40,
   "metadata": {},
   "outputs": [
    {
     "name": "stdin",
     "output_type": "stream",
     "text": [
      " a2b2c3\n"
     ]
    },
    {
     "name": "stdout",
     "output_type": "stream",
     "text": [
      " aabbccc\n"
     ]
    }
   ],
   "source": [
    "# 9. Write a Python function to get a string made of 4 copies of the last two characters of a specified string \n",
    "#     (length must be at least 2).\n",
    "#     Data:\n",
    "#         'Python'\n",
    "#     Expected Output:\n",
    "#         onononon\n",
    "a=input() # a2b2c3\n",
    "output = '' \n",
    "st = \" \"\n",
    "for i in a:\n",
    "    if i.isalpha():\n",
    "        temp =i\n",
    "    elif i.isnumeric():\n",
    "        st +=temp *int(i)\n",
    "print(st)\n",
    "        \n",
    "        \n",
    "        \n",
    "        "
   ]
  },
  {
   "cell_type": "code",
   "execution_count": null,
   "metadata": {},
   "outputs": [],
   "source": [
    "# 10. Write a Python function to get a string made of its first three characters of a specified string. \n",
    "#     If the length of the string is less than 3 then return the original string.\n",
    "#     Data:\n",
    "#         'ipy'\n",
    "#         'python'\n",
    "#     Expected Output:\n",
    "#         ipy\n",
    "#         pyt\n",
    "        \n",
    "        \n",
    "        \n",
    "        "
   ]
  },
  {
   "cell_type": "code",
   "execution_count": null,
   "metadata": {},
   "outputs": [],
   "source": [
    "11. Write a Python function to reverse a string if its length is a multiple of 4.\n",
    "    Data:\n",
    "        'abcd'\n",
    "        'python'\n",
    "    Expected Output:\n",
    "        dcba\n",
    "        python\n",
    "        \n",
    "        \n",
    "        \n",
    "        "
   ]
  },
  {
   "cell_type": "code",
   "execution_count": null,
   "metadata": {},
   "outputs": [],
   "source": [
    "12. Write a Python program to get the last part of a string before a specified character.\n",
    "    Data:\n",
    "        str1 = 'https://www.aidinasaur.com/python-exercises/string'\n",
    "    Expected Output:\n",
    "        https://www.aidinasaur.com/python-exercises\n",
    "        https://www.aidinasaur.com/python\n",
    "            \n",
    "            \n",
    "            \n",
    "            "
   ]
  },
  {
   "cell_type": "code",
   "execution_count": null,
   "metadata": {},
   "outputs": [],
   "source": [
    "13. Write a Python program to sort a string lexicographically.\n",
    "    Data:\n",
    "        aidinasaur\n",
    "    Expected Output: \n",
    "        ['a', 'a', 'a', 'd', 'i', 'i', 'n', 'r', 's', 'u']\n",
    "        \n",
    "        \n",
    "    \n",
    "    "
   ]
  },
  {
   "cell_type": "code",
   "execution_count": null,
   "metadata": {},
   "outputs": [],
   "source": [
    "14. Write a Python program to remove a newline in Python.\n",
    "    Data:\n",
    "        'Python Exercises\\n'\n",
    "    Expected Output: \n",
    "        Python Exercises\n",
    "\n",
    "        Python Exercises\n",
    "        \n",
    "        \n",
    "        \n",
    "        "
   ]
  },
  {
   "cell_type": "code",
   "execution_count": 4,
   "metadata": {},
   "outputs": [
    {
     "name": "stdin",
     "output_type": "stream",
     "text": [
      " aidinasaur.com\n"
     ]
    },
    {
     "name": "stdout",
     "output_type": "stream",
     "text": [
      "False\n"
     ]
    }
   ],
   "source": [
    "# 15. Write a Python program to check whether a string starts with specified character.\n",
    "#     Data:\n",
    "#         aidinasaur.com\n",
    "#     Expected Output:\n",
    "#         True\n",
    "a=input()\n",
    "if a[0].isalnum():\n",
    "    print(False)\n",
    "else:\n",
    "    print(True)\n",
    "        \n",
    "        \n",
    "        "
   ]
  },
  {
   "cell_type": "code",
   "execution_count": 10,
   "metadata": {},
   "outputs": [
    {
     "name": "stdin",
     "output_type": "stream",
     "text": [
      " Word to publish Word docs as web pages\n"
     ]
    },
    {
     "name": "stdout",
     "output_type": "stream",
     "text": [
      "2\n"
     ]
    }
   ],
   "source": [
    "# 16. Write a Python program to count the number of occurrences of a substring in a string.\n",
    "#     Data:\n",
    "#         \"Word to publish Word docs as web pages\"\n",
    "#         count = \"word\"\n",
    "#     Expected Output:\n",
    "#         2\n",
    "a=input()\n",
    "b= a.count(\"Word\")\n",
    "print(b)\n",
    "\n",
    "        \n",
    "        \n",
    "        "
   ]
  },
  {
   "cell_type": "code",
   "execution_count": 9,
   "metadata": {},
   "outputs": [
    {
     "name": "stdin",
     "output_type": "stream",
     "text": [
      " Python Exercises.\n"
     ]
    },
    {
     "name": "stdout",
     "output_type": "stream",
     "text": [
      ".sesicrexE nohtyP\n"
     ]
    }
   ],
   "source": [
    "# 17. Write a Python program to reverse a string.\n",
    "#     Data:\n",
    "#         \"abcdef\"\n",
    "#         \"Python Exercises.\"\n",
    "#     Expected Output:\n",
    "#         fedcba\n",
    "        # .sesicrexE nohtyP\n",
    "a=input()\n",
    "b=a[::-1]\n",
    "print(b)\n",
    "        \n",
    "        \n",
    "        "
   ]
  },
  {
   "cell_type": "code",
   "execution_count": 11,
   "metadata": {},
   "outputs": [
    {
     "name": "stdin",
     "output_type": "stream",
     "text": [
      " Word to publish Word docs as web pages\n",
      " 10\n"
     ]
    },
    {
     "name": "stdout",
     "output_type": "stream",
     "text": [
      " word to publish Word docs as web pages\n"
     ]
    }
   ],
   "source": [
    "# 18. Write a Python program to lowercase first n characters in a string.\n",
    "#     Data:\n",
    "#         \"AIDINASAUR.COM\"\n",
    "#     Expected Output:  \n",
    "#         aidiNASAUR.COM\n",
    "a=input()\n",
    "n=int(input())\n",
    "temp =\" \"\n",
    "if n <= len(n):\n",
    "    for i in range(n):\n",
    "        temp +=a[i].lower()\n",
    "    if len(temp)>=len(a):\n",
    "        print(temp)\n",
    "    else:\n",
    "        print(temp + a[n:])\n",
    "else:\n",
    "    print(\"given index is our of range\")\n",
    "\n",
    "        "
   ]
  },
  {
   "cell_type": "code",
   "execution_count": 2,
   "metadata": {},
   "outputs": [
    {
     "name": "stdin",
     "output_type": "stream",
     "text": [
      " 32,054.23\n"
     ]
    },
    {
     "name": "stdout",
     "output_type": "stream",
     "text": [
      "32.054,23\n"
     ]
    }
   ],
   "source": [
    "# 19. Write a Python program to swap comma and dot in a string.\n",
    "#     Data:\n",
    "#         \"32.054,23\"\n",
    "#     Expected Output:\n",
    "#         \"32,054.23\"\n",
    "\n",
    "        \n",
    "a=input()\n",
    "temp = \"\"\n",
    "for i in a:\n",
    "    if i == \",\":\n",
    "        temp+=\".\"\n",
    "    elif i == \".\":\n",
    "        temp+=\",\"\n",
    "    else:\n",
    "        temp+=i\n",
    "print(temp)\n",
    "\n",
    "        \n",
    "        "
   ]
  },
  {
   "cell_type": "code",
   "execution_count": 1,
   "metadata": {},
   "outputs": [
    {
     "name": "stdin",
     "output_type": "stream",
     "text": [
      " AIDINASAUR.COM\n"
     ]
    },
    {
     "name": "stdout",
     "output_type": "stream",
     "text": [
      "7\n"
     ]
    }
   ],
   "source": [
    "# 20. Write a Python program to count and display the vowels of a given text.\n",
    "#     Data:\n",
    "#         \"AIDINASAUR.COM\"\n",
    "#     Expected Output:\n",
    "#         7\n",
    "#         ['A', 'I', 'I', 'A', 'A', 'U', 'O']\n",
    "a=input().upper()\n",
    "ovwels = [\"A\",\"E\",\"I\",\"O\",\"U\"]\n",
    "c=0\n",
    "for i in a:\n",
    "    if i in ovwels:\n",
    "        c+=1\n",
    "    \n",
    "print(c)\n",
    "        "
   ]
  },
  {
   "cell_type": "code",
   "execution_count": null,
   "metadata": {},
   "outputs": [],
   "source": []
  }
 ],
 "metadata": {
  "kernelspec": {
   "display_name": "Python 3 (ipykernel)",
   "language": "python",
   "name": "python3"
  },
  "language_info": {
   "codemirror_mode": {
    "name": "ipython",
    "version": 3
   },
   "file_extension": ".py",
   "mimetype": "text/x-python",
   "name": "python",
   "nbconvert_exporter": "python",
   "pygments_lexer": "ipython3",
   "version": "3.13.5"
  }
 },
 "nbformat": 4,
 "nbformat_minor": 4
}
