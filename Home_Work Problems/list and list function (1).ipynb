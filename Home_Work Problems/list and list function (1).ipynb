{
 "cells": [
  {
   "cell_type": "markdown",
   "id": "3eb1802a",
   "metadata": {},
   "source": [
    "# list"
   ]
  },
  {
   "cell_type": "code",
   "execution_count": 1,
   "id": "eea3b669",
   "metadata": {},
   "outputs": [
    {
     "name": "stdout",
     "output_type": "stream",
     "text": [
      "<class 'list'>\n",
      "<class 'tuple'>\n",
      "<class 'set'>\n",
      "<class 'dict'>\n"
     ]
    }
   ],
   "source": [
    "a = [123,213,311,31231]\n",
    "b = (34,34,11,244,121)\n",
    "c = {31,44,653,2341,11}\n",
    "d = {'a':10,'b':20,'c':30}\n",
    "print(type(a))\n",
    "print(type(b))\n",
    "print(type(c))\n",
    "print(type(d))"
   ]
  },
  {
   "cell_type": "code",
   "execution_count": 4,
   "id": "3ebfefa3",
   "metadata": {},
   "outputs": [
    {
     "data": {
      "text/plain": [
       "['__add__',\n",
       " '__class__',\n",
       " '__class_getitem__',\n",
       " '__contains__',\n",
       " '__delattr__',\n",
       " '__delitem__',\n",
       " '__dir__',\n",
       " '__doc__',\n",
       " '__eq__',\n",
       " '__format__',\n",
       " '__ge__',\n",
       " '__getattribute__',\n",
       " '__getitem__',\n",
       " '__gt__',\n",
       " '__hash__',\n",
       " '__iadd__',\n",
       " '__imul__',\n",
       " '__init__',\n",
       " '__init_subclass__',\n",
       " '__iter__',\n",
       " '__le__',\n",
       " '__len__',\n",
       " '__lt__',\n",
       " '__mul__',\n",
       " '__ne__',\n",
       " '__new__',\n",
       " '__reduce__',\n",
       " '__reduce_ex__',\n",
       " '__repr__',\n",
       " '__reversed__',\n",
       " '__rmul__',\n",
       " '__setattr__',\n",
       " '__setitem__',\n",
       " '__sizeof__',\n",
       " '__str__',\n",
       " '__subclasshook__',\n",
       " 'append',\n",
       " 'clear',\n",
       " 'copy',\n",
       " 'count',\n",
       " 'extend',\n",
       " 'index',\n",
       " 'insert',\n",
       " 'pop',\n",
       " 'remove',\n",
       " 'reverse',\n",
       " 'sort']"
      ]
     },
     "execution_count": 4,
     "metadata": {},
     "output_type": "execute_result"
    }
   ],
   "source": [
    "dir(list)"
   ]
  },
  {
   "cell_type": "code",
   "execution_count": 1,
   "id": "300e7aed",
   "metadata": {},
   "outputs": [
    {
     "name": "stdout",
     "output_type": "stream",
     "text": [
      "2\n",
      "3.14\n",
      "hellow\n"
     ]
    }
   ],
   "source": [
    "a=2\n",
    "b=3.14\n",
    "c=\"hellow\"\n",
    "print(a)\n",
    "print(b)\n",
    "print(c)"
   ]
  },
  {
   "cell_type": "code",
   "execution_count": 1,
   "id": "18fb2fbd",
   "metadata": {},
   "outputs": [
    {
     "name": "stdout",
     "output_type": "stream",
     "text": [
      "[2, 3.14, 'hellow']\n",
      "<class 'list'>\n",
      "3\n"
     ]
    }
   ],
   "source": [
    "a=[2,3.14,\"hellow\"]\n",
    "print(a)\n",
    "print(type(a))\n",
    "print(len(a))"
   ]
  },
  {
   "cell_type": "code",
   "execution_count": 2,
   "id": "1e9d4796",
   "metadata": {},
   "outputs": [
    {
     "name": "stdout",
     "output_type": "stream",
     "text": [
      "2\n",
      "3.14\n",
      "hellow\n",
      "hellow\n",
      "3.14\n",
      "2\n"
     ]
    }
   ],
   "source": [
    "a=[2,3.14,\"hellow\"]\n",
    "print(a[0])\n",
    "print(a[1])\n",
    "print(a[2])\n",
    "print(a[-1])\n",
    "print(a[-2])\n",
    "print(a[-3])"
   ]
  },
  {
   "cell_type": "code",
   "execution_count": 3,
   "id": "a660008a",
   "metadata": {},
   "outputs": [
    {
     "name": "stdout",
     "output_type": "stream",
     "text": [
      "[20, 3]\n",
      "[3, 4, 5, 6, 7, 8, 9]\n",
      "[4, 5, 6, 7, 8]\n",
      "[20, 3, 4, 5, 6, 7, 8]\n",
      "[5, 6, 7, 8, 9]\n",
      "[20, 4, 6, 8]\n"
     ]
    }
   ],
   "source": [
    "a=[20,3,4,5,6,7,8,9]\n",
    "print(a[:2])\n",
    "print(a[1:])\n",
    "print(a[-6:-1])\n",
    "print(a[:-1])\n",
    "print(a[3:])\n",
    "print(a[::2])"
   ]
  },
  {
   "cell_type": "code",
   "execution_count": 7,
   "id": "7756c3eb",
   "metadata": {},
   "outputs": [
    {
     "name": "stdout",
     "output_type": "stream",
     "text": [
      "9\n",
      "[6, 7, 8]\n",
      "[6, 7, 8, 9]\n",
      "[3, 4, 5, 6, 7, 8, 9]\n"
     ]
    }
   ],
   "source": [
    "a=[2,3,4,5,6,7,8,9]\n",
    "print(a[-1])\n",
    "print(a[-4:-1])\n",
    "print(a[-4:])\n",
    "print(a[1:])"
   ]
  },
  {
   "cell_type": "code",
   "execution_count": 7,
   "id": "11353f1d",
   "metadata": {},
   "outputs": [
    {
     "name": "stdout",
     "output_type": "stream",
     "text": [
      "2\n",
      "3\n",
      "4\n",
      "5\n",
      "6\n",
      "7\n",
      "8\n",
      "9\n"
     ]
    }
   ],
   "source": [
    "a=[2,3,4,5,6,7,8,9]\n",
    "for i in a:\n",
    "    print(i)"
   ]
  },
  {
   "cell_type": "code",
   "execution_count": 4,
   "id": "ad6fe956",
   "metadata": {},
   "outputs": [
    {
     "name": "stdout",
     "output_type": "stream",
     "text": [
      "yes\n"
     ]
    }
   ],
   "source": [
    "a=[2,3,4,5,6,7,8,9]\n",
    "if 6 in a :\n",
    "    print(\"yes\")\n",
    "else:\n",
    "    print(\"No\")"
   ]
  },
  {
   "cell_type": "code",
   "execution_count": 23,
   "id": "7d1892ff",
   "metadata": {},
   "outputs": [
    {
     "name": "stdout",
     "output_type": "stream",
     "text": [
      "2\n",
      "3\n",
      "4\n",
      "5\n",
      "6\n",
      "7\n",
      "8\n",
      "9\n"
     ]
    }
   ],
   "source": [
    "\n"
   ]
  },
  {
   "cell_type": "code",
   "execution_count": null,
   "id": "e588f922",
   "metadata": {},
   "outputs": [],
   "source": []
  },
  {
   "cell_type": "code",
   "execution_count": 7,
   "id": "289f6420",
   "metadata": {},
   "outputs": [
    {
     "name": "stdout",
     "output_type": "stream",
     "text": [
      "Enter the range value :5\n",
      "Enter the value :10\n",
      "[10]\n",
      "Enter the value :20\n",
      "[10, 20]\n",
      "Enter the value :30\n",
      "[10, 20, 30]\n",
      "Enter the value :40\n",
      "[10, 20, 30, 40]\n",
      "Enter the value :50\n",
      "[10, 20, 30, 40, 50]\n",
      "Enter the choice :40\n",
      "Manual founded index : 3\n"
     ]
    }
   ],
   "source": [
    "#Create the list\n",
    "r = int(input(\"Enter the range value :\"))\n",
    "l = []\n",
    "for i in range(r):\n",
    "    e = int(input(\"Enter the value :\"))\n",
    "    l.append(e)\n",
    "    print(l)\n",
    "ch = int(input(\"Enter the choice :\"))\n",
    "#print(l.index(ch))\n",
    "k = 0\n",
    "for i in range(r):\n",
    "    if ch == l[i]:\n",
    "        print(\"Manual founded index :\",k)\n",
    "        break\n",
    "    k += 1"
   ]
  },
  {
   "cell_type": "code",
   "execution_count": null,
   "id": "5a01783e",
   "metadata": {},
   "outputs": [],
   "source": []
  },
  {
   "cell_type": "code",
   "execution_count": null,
   "id": "e0d4e0be",
   "metadata": {},
   "outputs": [],
   "source": []
  },
  {
   "cell_type": "code",
   "execution_count": null,
   "id": "6c24052b",
   "metadata": {},
   "outputs": [],
   "source": []
  },
  {
   "cell_type": "code",
   "execution_count": null,
   "id": "73c25fbc",
   "metadata": {},
   "outputs": [],
   "source": []
  },
  {
   "cell_type": "code",
   "execution_count": 7,
   "id": "0492b1d0",
   "metadata": {},
   "outputs": [
    {
     "name": "stdout",
     "output_type": "stream",
     "text": [
      "yes\n"
     ]
    }
   ],
   "source": [
    "a=[2,3,4,5,6,7,8,9]\n",
    "if 2 in a:\n",
    "    print(\"yes\")\n",
    "else:\n",
    "    print(\"no\")"
   ]
  },
  {
   "cell_type": "markdown",
   "id": "ce9868e1",
   "metadata": {},
   "source": [
    "# List function "
   ]
  },
  {
   "cell_type": "code",
   "execution_count": 8,
   "id": "3b92e5b8",
   "metadata": {},
   "outputs": [
    {
     "name": "stdout",
     "output_type": "stream",
     "text": [
      "[2, 3, 4, 10]\n"
     ]
    }
   ],
   "source": [
    "a=[2,3,4]\n",
    "a.append(10)\n",
    "print(a)"
   ]
  },
  {
   "cell_type": "code",
   "execution_count": 9,
   "id": "fb1013e7",
   "metadata": {},
   "outputs": [
    {
     "name": "stdout",
     "output_type": "stream",
     "text": [
      "[3, 4, 5, 6, 100]\n"
     ]
    }
   ],
   "source": [
    "a=[3,4,5,6]\n",
    "a.append(100)\n",
    "print(a)"
   ]
  },
  {
   "cell_type": "code",
   "execution_count": 10,
   "id": "632d265c",
   "metadata": {},
   "outputs": [
    {
     "name": "stdout",
     "output_type": "stream",
     "text": [
      "[3, 'hello', 4, 5, 6]\n"
     ]
    }
   ],
   "source": [
    "a=[3,4,5,6]\n",
    "a.insert(1,\"hello\")\n",
    "print(a)"
   ]
  },
  {
   "cell_type": "code",
   "execution_count": 1,
   "id": "06e94739",
   "metadata": {},
   "outputs": [
    {
     "name": "stdout",
     "output_type": "stream",
     "text": [
      "[4, 5, 6, 'Saran', 7, 8]\n"
     ]
    }
   ],
   "source": [
    "a=[4,5,6,7,8]\n",
    "a.insert(3,\"Saran\")\n",
    "print(a)"
   ]
  },
  {
   "cell_type": "code",
   "execution_count": 15,
   "id": "53795f36",
   "metadata": {},
   "outputs": [
    {
     "name": "stdout",
     "output_type": "stream",
     "text": [
      "[]\n"
     ]
    }
   ],
   "source": [
    "a=[]   #empty list\n",
    "print(a)"
   ]
  },
  {
   "cell_type": "code",
   "execution_count": 16,
   "id": "60020c8c",
   "metadata": {},
   "outputs": [
    {
     "name": "stdout",
     "output_type": "stream",
     "text": [
      "[]\n"
     ]
    }
   ],
   "source": [
    "a=[2,3,4,5]\n",
    "a.clear()\n",
    "print(a)"
   ]
  },
  {
   "cell_type": "code",
   "execution_count": 6,
   "id": "45649f8e",
   "metadata": {},
   "outputs": [
    {
     "name": "stdout",
     "output_type": "stream",
     "text": [
      "[9, 8, 6, 5, 4]\n"
     ]
    }
   ],
   "source": [
    "a=[5,9,6,4,8]\n",
    "a.sort(reverse = True)\n",
    "print(a)"
   ]
  },
  {
   "cell_type": "code",
   "execution_count": 10,
   "id": "b2bbcbcb",
   "metadata": {},
   "outputs": [
    {
     "name": "stdout",
     "output_type": "stream",
     "text": [
      "[9, 8, 6, 5, 4]\n"
     ]
    }
   ],
   "source": [
    "a=[5,9,6,4,8]\n",
    "a.sort(reverse=True)\n",
    "print(a)"
   ]
  },
  {
   "cell_type": "code",
   "execution_count": 21,
   "id": "7b1afe51",
   "metadata": {},
   "outputs": [
    {
     "name": "stdout",
     "output_type": "stream",
     "text": [
      "[2, 3, 4]\n"
     ]
    }
   ],
   "source": [
    "a=[2,3,4,5]\n",
    "a.pop()\n",
    "print(a)"
   ]
  },
  {
   "cell_type": "code",
   "execution_count": 8,
   "id": "d754c77b",
   "metadata": {},
   "outputs": [
    {
     "name": "stdout",
     "output_type": "stream",
     "text": [
      "[8, 4, 6, 9, 5]\n",
      "[9, 8, 6, 5, 4]\n"
     ]
    }
   ],
   "source": [
    "a=[5,9,6,4,8]\n",
    "a.reverse()\n",
    "print(a)\n",
    "b=[5,9,6,4,8]\n",
    "b.sort(reverse = True)\n",
    "print(b)"
   ]
  },
  {
   "cell_type": "code",
   "execution_count": 16,
   "id": "6ec6ac42",
   "metadata": {},
   "outputs": [
    {
     "name": "stdout",
     "output_type": "stream",
     "text": [
      "[2, 4, 8]\n"
     ]
    }
   ],
   "source": [
    "a=[2,4,6,8]\n",
    "a.remove(6)\n",
    "print(a)"
   ]
  },
  {
   "cell_type": "code",
   "execution_count": 23,
   "id": "6991ee8c",
   "metadata": {},
   "outputs": [
    {
     "name": "stdout",
     "output_type": "stream",
     "text": [
      "Enter the range value :3\n",
      "Enter the value :10\n",
      "Enter the value :99.9\n",
      "Enter the value :\"Star\"\n",
      "[10, 99.9, 'Star']\n"
     ]
    }
   ],
   "source": [
    "r = int(input(\"Enter the range value :\"))\n",
    "l = []\n",
    "for i in range(r):\n",
    "    v = eval(input(\"Enter the value :\"))\n",
    "    l.append(v)\n",
    "print(l)\n",
    "#print(l.index(30))  \n"
   ]
  },
  {
   "cell_type": "code",
   "execution_count": null,
   "id": "77475d68",
   "metadata": {},
   "outputs": [],
   "source": []
  },
  {
   "cell_type": "code",
   "execution_count": null,
   "id": "3e09872a",
   "metadata": {},
   "outputs": [],
   "source": []
  },
  {
   "cell_type": "code",
   "execution_count": null,
   "id": "48391212",
   "metadata": {},
   "outputs": [],
   "source": []
  },
  {
   "cell_type": "code",
   "execution_count": null,
   "id": "3a8420c6",
   "metadata": {},
   "outputs": [],
   "source": []
  },
  {
   "cell_type": "code",
   "execution_count": null,
   "id": "9d6ea465",
   "metadata": {},
   "outputs": [],
   "source": []
  },
  {
   "cell_type": "code",
   "execution_count": 17,
   "id": "134143a6",
   "metadata": {},
   "outputs": [
    {
     "name": "stdout",
     "output_type": "stream",
     "text": [
      "Enter the range value:5\n",
      "0 Enter the value :\n",
      "10\n",
      "[10]\n",
      "1 Enter the value :\n",
      "20\n",
      "[10, 20]\n",
      "2 Enter the value :\n",
      "30\n",
      "[10, 20, 30]\n",
      "3 Enter the value :\n",
      "40\n",
      "[10, 20, 30, 40]\n",
      "4 Enter the value :\n",
      "50\n",
      "[10, 20, 30, 40, 50]\n",
      "Enter the choice :30\n",
      "2\n"
     ]
    }
   ],
   "source": [
    "r = int(input(\"Enter the range value:\"))\n",
    "l = []\n",
    "for i in range(r):\n",
    "    print(i,\"Enter the value :\")\n",
    "    e = int(input())\n",
    "    l.append(e)\n",
    "    print(l)\n",
    "ch = int(input(\"Enter the choice :\"))\n",
    "#Manualy to find index \n",
    "k=0\n",
    "for j in l:\n",
    "    if ch == j:\n",
    "        print(k)\n",
    "        break\n",
    "    k += 1"
   ]
  },
  {
   "cell_type": "code",
   "execution_count": 26,
   "id": "a3b7f831",
   "metadata": {},
   "outputs": [
    {
     "name": "stdout",
     "output_type": "stream",
     "text": [
      "[]\n",
      "['Aim', 'fix', 'be', 'Excecute']\n",
      "['Goal']\n",
      "['Aim', 'fix', 'be']\n",
      "['Goal', 'positive', 'fix', 'be', 'Excecute']\n"
     ]
    }
   ],
   "source": [
    "list1 = [\"Goal\",\"Aim\",\"fix\",\"be\",\"Excecute\"]\n",
    "print(list1[:0])\n",
    "print(list1[1:])\n",
    "print(list1[:1])\n",
    "print(list1[1:4])\n",
    "list1[1] = \"positive\"\n",
    "print(list1)"
   ]
  },
  {
   "cell_type": "code",
   "execution_count": 27,
   "id": "8b50c80e",
   "metadata": {},
   "outputs": [
    {
     "name": "stdout",
     "output_type": "stream",
     "text": [
      "mr/mrs Uma\n",
      "mr/mrs Sneka\n",
      "mr/mrs Ramesh\n",
      "mr/mrs Mukesh\n"
     ]
    }
   ],
   "source": [
    "list2 = [\"Uma\",\"Sneka\",\"Ramesh\",\"Mukesh\"]\n",
    "for i in list2:\n",
    "    print(\"mr/mrs\",i)"
   ]
  },
  {
   "cell_type": "code",
   "execution_count": 39,
   "id": "5fc4550a",
   "metadata": {},
   "outputs": [
    {
     "name": "stdout",
     "output_type": "stream",
     "text": [
      "Name is not available\n"
     ]
    }
   ],
   "source": [
    "list2 = [\"Uma\",\"Neha\",\"sree\",\"Mukesh\"]\n",
    "for i in list2:\n",
    "    if (\"Reshma\" == i):\n",
    "        print(\"Name is taken\")\n",
    "        break\n",
    "else:\n",
    "    print(\"Name is not available\")"
   ]
  },
  {
   "cell_type": "code",
   "execution_count": 40,
   "id": "f1a5db78",
   "metadata": {},
   "outputs": [
    {
     "name": "stdout",
     "output_type": "stream",
     "text": [
      "Name is not available\n"
     ]
    }
   ],
   "source": [
    "list2 = [\"Uma\",\"Neha\",\"sree\",\"Mukesh\"]\n",
    "if \"Reshma\" in list2:\n",
    "    print(\"Name is taken\")\n",
    "else:\n",
    "    print(\"Name is not available\")"
   ]
  },
  {
   "cell_type": "markdown",
   "id": "0fd3166e",
   "metadata": {},
   "source": [
    "# Nested list"
   ]
  },
  {
   "cell_type": "code",
   "execution_count": 54,
   "id": "f75b7a93",
   "metadata": {},
   "outputs": [
    {
     "name": "stdout",
     "output_type": "stream",
     "text": [
      "[5, 6, [7, 8]]\n",
      "6\n",
      "[7, 8]\n",
      "7\n",
      "[5, 6]\n"
     ]
    }
   ],
   "source": [
    "a = [2,3,4,[5,6,[7,8]]]\n",
    "print(a[3])\n",
    "print(a[3][1])\n",
    "print(a[3][2])\n",
    "print(a[3][2][0])\n",
    "print(a[3][0:2])"
   ]
  },
  {
   "cell_type": "code",
   "execution_count": 73,
   "id": "dafdd9a5",
   "metadata": {},
   "outputs": [
    {
     "ename": "SyntaxError",
     "evalue": "invalid syntax (674330254.py, line 2)",
     "output_type": "error",
     "traceback": [
      "\u001b[1;36m  Input \u001b[1;32mIn [73]\u001b[1;36m\u001b[0m\n\u001b[1;33m    a[3][].sort()\u001b[0m\n\u001b[1;37m         ^\u001b[0m\n\u001b[1;31mSyntaxError\u001b[0m\u001b[1;31m:\u001b[0m invalid syntax\n"
     ]
    }
   ],
   "source": [
    "a = [2,1,4,[6,1,[9,8]]]\n",
    "a[3][].sort()\n",
    "print(a)"
   ]
  },
  {
   "cell_type": "code",
   "execution_count": 12,
   "id": "c354656a",
   "metadata": {},
   "outputs": [
    {
     "name": "stdout",
     "output_type": "stream",
     "text": [
      "Enter the range value :5\n",
      "Enter the value :10\n",
      "[10]\n",
      "Enter the value :20\n",
      "[10, 20]\n",
      "Enter the value :30\n",
      "[10, 20, 30]\n",
      "Enter the value :4\n",
      "[10, 20, 30, 4]\n",
      "Enter the value :50\n",
      "[10, 20, 30, 4, 50]\n",
      "Enter the choice :4\n",
      "3\n"
     ]
    }
   ],
   "source": [
    "r = int(input(\"Enter the range value :\"))\n",
    "l = []\n",
    "for i in range(r):\n",
    "    e = int(input(\"Enter the value :\"))\n",
    "    l.append(e)\n",
    "    print(l)\n",
    "ch = int(input(\"Enter the choice :\"))\n",
    "k = 0\n",
    "for j in l:\n",
    "    if ch == j:\n",
    "        print(k)\n",
    "        break\n",
    "    k += 1"
   ]
  },
  {
   "cell_type": "markdown",
   "id": "0f65f7fe",
   "metadata": {},
   "source": [
    "# List comprehension"
   ]
  },
  {
   "cell_type": "code",
   "execution_count": 14,
   "id": "3ef01f0b",
   "metadata": {},
   "outputs": [
    {
     "name": "stdout",
     "output_type": "stream",
     "text": [
      "[]\n"
     ]
    }
   ],
   "source": [
    "a = [2,3,4,5,6,7,8]\n",
    "b = []\n",
    "print(b)"
   ]
  },
  {
   "cell_type": "code",
   "execution_count": 10,
   "id": "9d418908",
   "metadata": {},
   "outputs": [
    {
     "name": "stdout",
     "output_type": "stream",
     "text": [
      "[4, 6, 8, 10, 12, 14, 16]\n"
     ]
    }
   ],
   "source": [
    "a = [2,3,4,5,6,7,8]\n",
    "b = []\n",
    "for saran in a:\n",
    "    x = saran*2\n",
    "    b.append(x)\n",
    "print(b)"
   ]
  },
  {
   "cell_type": "code",
   "execution_count": 2,
   "id": "82ed9f3e",
   "metadata": {},
   "outputs": [
    {
     "name": "stdout",
     "output_type": "stream",
     "text": [
      "[10, 12, 14, 16]\n"
     ]
    }
   ],
   "source": [
    "a = [2,3,4,5,6,7,8]\n",
    "b = [i*2 for i in a if i >= 5]\n",
    "print(b)"
   ]
  },
  {
   "cell_type": "code",
   "execution_count": 7,
   "id": "dc77b167",
   "metadata": {},
   "outputs": [
    {
     "name": "stdout",
     "output_type": "stream",
     "text": [
      "Enter the range value :5\n",
      "Enter the value :10\n",
      "[10]\n",
      "Enter the value :20\n",
      "[10, 20]\n",
      "Enter the value :30\n",
      "[10, 20, 30]\n",
      "Enter the value :40\n",
      "[10, 20, 30, 40]\n",
      "Enter the value :50\n",
      "[10, 20, 30, 40, 50]\n",
      "[40, 60, 80, 100]\n",
      "Enter the choice :80\n",
      "2\n",
      "2\n"
     ]
    }
   ],
   "source": [
    "r = int(input(\"Enter the range value :\"))\n",
    "l = []\n",
    "for i in range(r):\n",
    "    v = int(input(\"Enter the value :\"))\n",
    "    l.append(v)\n",
    "    print(l)\n",
    "b = [i*2 for i in l if i >= 20]\n",
    "print(b)\n",
    "\n",
    "ch = int(input(\"Enter the choice :\"))\n",
    "k = 0\n",
    "for i in b:\n",
    "    if i == ch:\n",
    "        print(k)\n",
    "        break\n",
    "    k += 1\n",
    "    \n",
    "print(b.index(ch))"
   ]
  },
  {
   "cell_type": "markdown",
   "id": "55b10407",
   "metadata": {},
   "source": [
    "# Tuple"
   ]
  },
  {
   "cell_type": "code",
   "execution_count": 26,
   "id": "1c88c1e4",
   "metadata": {},
   "outputs": [
    {
     "data": {
      "text/plain": [
       "['__add__',\n",
       " '__class__',\n",
       " '__class_getitem__',\n",
       " '__contains__',\n",
       " '__delattr__',\n",
       " '__dir__',\n",
       " '__doc__',\n",
       " '__eq__',\n",
       " '__format__',\n",
       " '__ge__',\n",
       " '__getattribute__',\n",
       " '__getitem__',\n",
       " '__getnewargs__',\n",
       " '__gt__',\n",
       " '__hash__',\n",
       " '__init__',\n",
       " '__init_subclass__',\n",
       " '__iter__',\n",
       " '__le__',\n",
       " '__len__',\n",
       " '__lt__',\n",
       " '__mul__',\n",
       " '__ne__',\n",
       " '__new__',\n",
       " '__reduce__',\n",
       " '__reduce_ex__',\n",
       " '__repr__',\n",
       " '__rmul__',\n",
       " '__setattr__',\n",
       " '__sizeof__',\n",
       " '__str__',\n",
       " '__subclasshook__',\n",
       " 'count',\n",
       " 'index']"
      ]
     },
     "execution_count": 26,
     "metadata": {},
     "output_type": "execute_result"
    }
   ],
   "source": [
    "dir(tuple)"
   ]
  },
  {
   "cell_type": "code",
   "execution_count": 27,
   "id": "9490f3f1",
   "metadata": {},
   "outputs": [
    {
     "data": {
      "text/plain": [
       "3"
      ]
     },
     "execution_count": 27,
     "metadata": {},
     "output_type": "execute_result"
    }
   ],
   "source": [
    "a = (6,7,3,7,6,8,2,7,6)\n",
    "a.count(7)"
   ]
  },
  {
   "cell_type": "code",
   "execution_count": 7,
   "id": "6c40e250",
   "metadata": {},
   "outputs": [
    {
     "data": {
      "text/plain": [
       "3"
      ]
     },
     "execution_count": 7,
     "metadata": {},
     "output_type": "execute_result"
    }
   ],
   "source": [
    "a = (2,3,4,5,6)\n",
    "a.index(5)"
   ]
  },
  {
   "cell_type": "markdown",
   "id": "6286dc7e",
   "metadata": {},
   "source": [
    "# Difference between list and tuple"
   ]
  },
  {
   "cell_type": "code",
   "execution_count": 29,
   "id": "4c9d8996",
   "metadata": {},
   "outputs": [
    {
     "name": "stdout",
     "output_type": "stream",
     "text": [
      "[2, 3, 4, 10]\n",
      "[2, 4, 10]\n"
     ]
    }
   ],
   "source": [
    "a = [2,3,4]\n",
    "a.append(10)\n",
    "print(a)\n",
    "a.remove(3)\n",
    "print(a)"
   ]
  },
  {
   "cell_type": "code",
   "execution_count": 18,
   "id": "9ffee116",
   "metadata": {},
   "outputs": [
    {
     "name": "stdout",
     "output_type": "stream",
     "text": [
      "[33, 12, 44, 55, 10]\n",
      "[33, 44, 55, 10]\n",
      "(33, 44, 55, 10)\n"
     ]
    }
   ],
   "source": [
    "a = (33,12,44,55)\n",
    "b = list(a)\n",
    "b.append(10)\n",
    "print(b)\n",
    "b.remove(12)\n",
    "print(b)\n",
    "print(tuple(b))"
   ]
  },
  {
   "cell_type": "code",
   "execution_count": 28,
   "id": "22ed1968",
   "metadata": {},
   "outputs": [
    {
     "name": "stdout",
     "output_type": "stream",
     "text": [
      "[2, 3, 10]\n",
      "(2, 3, 10)\n"
     ]
    }
   ],
   "source": [
    "a = (2,3,4)\n",
    "b = list(a)\n",
    "b.append(10)\n",
    "b.remove(4)\n",
    "print(b)\n",
    "a = tuple(b)\n",
    "print(a)"
   ]
  },
  {
   "cell_type": "markdown",
   "id": "38be8a27",
   "metadata": {},
   "source": [
    "# Nested tuple"
   ]
  },
  {
   "cell_type": "code",
   "execution_count": 40,
   "id": "8c2b9f6b",
   "metadata": {},
   "outputs": [
    {
     "name": "stdout",
     "output_type": "stream",
     "text": [
      "(20, 30, 40, (50, 60, (70, 80)))\n",
      "(50, 60, (70, 80))\n",
      "60\n",
      "80\n"
     ]
    }
   ],
   "source": [
    "a = (20,30,40,(50,60,(70,80)))\n",
    "print(a)\n",
    "print(a[3])\n",
    "print(a[3][1])\n",
    "print(a[3][2][1])"
   ]
  },
  {
   "cell_type": "code",
   "execution_count": 38,
   "id": "996f227f",
   "metadata": {},
   "outputs": [
    {
     "data": {
      "text/plain": [
       "80"
      ]
     },
     "execution_count": 38,
     "metadata": {},
     "output_type": "execute_result"
    }
   ],
   "source": [
    "a[3]\n",
    "a[3][1]\n",
    "a[3][2][1]"
   ]
  },
  {
   "cell_type": "markdown",
   "id": "8dfd6295",
   "metadata": {},
   "source": [
    "# List comprehension"
   ]
  },
  {
   "cell_type": "code",
   "execution_count": 12,
   "id": "6a8dd17f",
   "metadata": {},
   "outputs": [
    {
     "name": "stdout",
     "output_type": "stream",
     "text": [
      "[4, 6, 8, 10, 12, 14, 16]\n"
     ]
    }
   ],
   "source": [
    "a = [2,3,4,5,6,7,8]\n",
    "b = []\n",
    "for i in a:\n",
    "    x = i*2\n",
    "    b.append(x)\n",
    "print(b)"
   ]
  },
  {
   "cell_type": "code",
   "execution_count": 13,
   "id": "000f8f44",
   "metadata": {},
   "outputs": [
    {
     "name": "stdout",
     "output_type": "stream",
     "text": [
      "[4, 6, 8, 10, 12, 14, 16]\n"
     ]
    }
   ],
   "source": [
    "a = [2,3,4,5,6,7,8]\n",
    "b = [i*2 for i in a]\n",
    "print(b)"
   ]
  },
  {
   "cell_type": "code",
   "execution_count": 5,
   "id": "891dbd02",
   "metadata": {},
   "outputs": [
    {
     "name": "stdout",
     "output_type": "stream",
     "text": [
      "Enter the range value :5\n",
      "Enter the value :10\n",
      "[10]\n",
      "Enter the value :20\n",
      "[10, 20]\n",
      "Enter the value :30\n",
      "[10, 20, 30]\n",
      "Enter the value :40\n",
      "[10, 20, 30, 40]\n",
      "Enter the value :50\n",
      "[10, 20, 30, 40, 50]\n",
      "[40, 10, 12, 14, 16, 18]\n"
     ]
    }
   ],
   "source": [
    "l = []\n",
    "r = int(input(\"Enter the range value :\"))\n",
    "for i in range(r):\n",
    "    v = int(input(\"Enter the value :\"))\n",
    "    l.append(v)\n",
    "    print(l)\n",
    "b = [i*2 for i in a if i>=5]\n",
    "print(b)"
   ]
  },
  {
   "cell_type": "code",
   "execution_count": 12,
   "id": "dc5f3370",
   "metadata": {},
   "outputs": [
    {
     "name": "stdout",
     "output_type": "stream",
     "text": [
      "Enter the range :5\n",
      "Enter the value :10\n",
      "Enter the value :20\n",
      "Enter the value :30\n",
      "Enter the value :40\n",
      "Enter the value :50\n",
      "[10, 20, 30, 40, 50]\n",
      "(10, 20, 30, 40, 50)\n",
      "[20, 40, 60, 80, 100]\n",
      "(20, 40, 60, 80, 100)\n"
     ]
    }
   ],
   "source": [
    "l = []\n",
    "r = int(input(\"Enter the range :\"))\n",
    "for i in range(r):\n",
    "    v = int(input(\"Enter the value :\"))\n",
    "    l.append(v)\n",
    "    t = tuple(l)\n",
    "print(l)\n",
    "print(t)\n",
    "b = tuple(i*2 for i in t if i>=5)\n",
    "print(b)"
   ]
  },
  {
   "cell_type": "markdown",
   "id": "f7e88322",
   "metadata": {},
   "source": [
    "# Range Function in list"
   ]
  },
  {
   "cell_type": "code",
   "execution_count": 19,
   "id": "80532c67",
   "metadata": {},
   "outputs": [
    {
     "name": "stdout",
     "output_type": "stream",
     "text": [
      "[0, 1, 2, 3, 4, 5, 6, 7, 8, 9]\n",
      "[2, 3, 4, 5, 6, 7, 8, 9, 10, 11]\n"
     ]
    }
   ],
   "source": [
    "r = list(range(10))\n",
    "print(r)\n",
    "r = list(range(2,11+1))\n",
    "print(r)"
   ]
  },
  {
   "cell_type": "markdown",
   "id": "cd3d343b",
   "metadata": {},
   "source": [
    "# tuple"
   ]
  },
  {
   "cell_type": "code",
   "execution_count": 19,
   "id": "d3f9aee5",
   "metadata": {},
   "outputs": [
    {
     "data": {
      "text/plain": [
       "['__add__',\n",
       " '__class__',\n",
       " '__class_getitem__',\n",
       " '__contains__',\n",
       " '__delattr__',\n",
       " '__dir__',\n",
       " '__doc__',\n",
       " '__eq__',\n",
       " '__format__',\n",
       " '__ge__',\n",
       " '__getattribute__',\n",
       " '__getitem__',\n",
       " '__getnewargs__',\n",
       " '__gt__',\n",
       " '__hash__',\n",
       " '__init__',\n",
       " '__init_subclass__',\n",
       " '__iter__',\n",
       " '__le__',\n",
       " '__len__',\n",
       " '__lt__',\n",
       " '__mul__',\n",
       " '__ne__',\n",
       " '__new__',\n",
       " '__reduce__',\n",
       " '__reduce_ex__',\n",
       " '__repr__',\n",
       " '__rmul__',\n",
       " '__setattr__',\n",
       " '__sizeof__',\n",
       " '__str__',\n",
       " '__subclasshook__',\n",
       " 'count',\n",
       " 'index']"
      ]
     },
     "execution_count": 19,
     "metadata": {},
     "output_type": "execute_result"
    }
   ],
   "source": [
    "dir(tuple)"
   ]
  },
  {
   "cell_type": "code",
   "execution_count": 20,
   "id": "d35d593e",
   "metadata": {},
   "outputs": [
    {
     "data": {
      "text/plain": [
       "3"
      ]
     },
     "execution_count": 20,
     "metadata": {},
     "output_type": "execute_result"
    }
   ],
   "source": [
    "a = (6,7,9,3,4,9,3,8,9)\n",
    "a.count(9)"
   ]
  },
  {
   "cell_type": "code",
   "execution_count": 21,
   "id": "43e29a20",
   "metadata": {},
   "outputs": [
    {
     "data": {
      "text/plain": [
       "4"
      ]
     },
     "execution_count": 21,
     "metadata": {},
     "output_type": "execute_result"
    }
   ],
   "source": [
    "a = (2,3,4,5,6)\n",
    "a.index(6)"
   ]
  },
  {
   "cell_type": "markdown",
   "id": "7d147fe1",
   "metadata": {},
   "source": [
    "# Difference between list and tuple"
   ]
  },
  {
   "cell_type": "code",
   "execution_count": 22,
   "id": "44bb6eb6",
   "metadata": {},
   "outputs": [
    {
     "name": "stdout",
     "output_type": "stream",
     "text": [
      "[2, 3, 4, 10]\n",
      "[2, 3, 10]\n"
     ]
    }
   ],
   "source": [
    "a = [2,3,4]\n",
    "a.append(10)\n",
    "print(a)\n",
    "a.remove(4)\n",
    "print(a)"
   ]
  },
  {
   "cell_type": "code",
   "execution_count": 8,
   "id": "4d5ca645",
   "metadata": {},
   "outputs": [
    {
     "ename": "AttributeError",
     "evalue": "'tuple' object has no attribute 'append'",
     "output_type": "error",
     "traceback": [
      "\u001b[1;31m---------------------------------------------------------------------------\u001b[0m",
      "\u001b[1;31mAttributeError\u001b[0m                            Traceback (most recent call last)",
      "Input \u001b[1;32mIn [8]\u001b[0m, in \u001b[0;36m<cell line: 2>\u001b[1;34m()\u001b[0m\n\u001b[0;32m      1\u001b[0m a \u001b[38;5;241m=\u001b[39m (\u001b[38;5;241m2\u001b[39m,\u001b[38;5;241m3\u001b[39m,\u001b[38;5;241m4\u001b[39m)\n\u001b[1;32m----> 2\u001b[0m \u001b[43ma\u001b[49m\u001b[38;5;241;43m.\u001b[39;49m\u001b[43mappend\u001b[49m(\u001b[38;5;241m10\u001b[39m)\n\u001b[0;32m      3\u001b[0m \u001b[38;5;28mprint\u001b[39m(a)\n\u001b[0;32m      4\u001b[0m a\u001b[38;5;241m.\u001b[39mremove(\u001b[38;5;241m4\u001b[39m)\n",
      "\u001b[1;31mAttributeError\u001b[0m: 'tuple' object has no attribute 'append'"
     ]
    }
   ],
   "source": [
    "a = (2,3,4)\n",
    "a.append(10)\n",
    "print(a)\n",
    "a.remove(4)\n",
    "print(a)"
   ]
  },
  {
   "cell_type": "code",
   "execution_count": 29,
   "id": "85dce077",
   "metadata": {},
   "outputs": [
    {
     "name": "stdout",
     "output_type": "stream",
     "text": [
      "[2, 1, 4, 10]\n",
      "(2, 1, 4, 10)\n"
     ]
    }
   ],
   "source": [
    "a = (2,1,4)\n",
    "b = list(a)\n",
    "b.append(10)\n",
    "\n",
    "print(b)\n",
    "a = tuple(b)\n",
    "print(a)"
   ]
  },
  {
   "cell_type": "code",
   "execution_count": 20,
   "id": "d12dcb8e",
   "metadata": {},
   "outputs": [
    {
     "name": "stdout",
     "output_type": "stream",
     "text": [
      "33\n"
     ]
    }
   ],
   "source": [
    "l = [2,9,7,6,5,4]\n",
    "total = 0\n",
    "for element in range(0,len(l)):\n",
    "    total = total + l[element]\n",
    "print(total)"
   ]
  },
  {
   "cell_type": "code",
   "execution_count": 8,
   "id": "9126a767",
   "metadata": {},
   "outputs": [
    {
     "name": "stdout",
     "output_type": "stream",
     "text": [
      "33\n"
     ]
    }
   ],
   "source": [
    "l = [2,9,7,6,5,4]\n",
    "s = sum(l)\n",
    "print(s)"
   ]
  },
  {
   "cell_type": "code",
   "execution_count": 9,
   "id": "e7ba9c42",
   "metadata": {},
   "outputs": [
    {
     "name": "stdout",
     "output_type": "stream",
     "text": [
      "[9, 6, 4, 3, 2]\n"
     ]
    }
   ],
   "source": [
    "d = [4,6,3,9,2]\n",
    "d.sort(reverse = True)\n",
    "print(d)"
   ]
  },
  {
   "cell_type": "code",
   "execution_count": 8,
   "id": "efc720af",
   "metadata": {},
   "outputs": [
    {
     "name": "stdout",
     "output_type": "stream",
     "text": [
      "[9, 6, 4, 3, 2]\n"
     ]
    }
   ],
   "source": [
    "d = [4,6,3,9,2]\n",
    "d.sort()\n",
    "d.reverse()\n",
    "print(d)"
   ]
  },
  {
   "cell_type": "code",
   "execution_count": 30,
   "id": "cfef2e35",
   "metadata": {},
   "outputs": [
    {
     "name": "stdout",
     "output_type": "stream",
     "text": [
      "29\n"
     ]
    }
   ],
   "source": [
    "l = [2,9,7,6,5]\n",
    "s = 0\n",
    "for i in l:\n",
    "    s = s+i\n",
    "print(s)"
   ]
  },
  {
   "cell_type": "code",
   "execution_count": 31,
   "id": "a3deb3e0",
   "metadata": {},
   "outputs": [
    {
     "name": "stdout",
     "output_type": "stream",
     "text": [
      "9 is repeated 3 Times\n",
      "7 is repeated 1 Times\n",
      "4 is repeated 1 Times\n",
      "5 is repeated 1 Times\n",
      "9 is repeated 3 Times\n",
      "6 is repeated 1 Times\n",
      "3 is repeated 1 Times\n",
      "9 is repeated 3 Times\n"
     ]
    }
   ],
   "source": [
    "r = [9,7,4,5,9,6,3,9]\n",
    "for i in r:\n",
    "    count = 0\n",
    "    for j in range(0,len(r)):\n",
    "        if i == r[j]:\n",
    "            count += 1\n",
    "    print(i,\"is repeated\",count,\"Times\")"
   ]
  },
  {
   "cell_type": "code",
   "execution_count": 22,
   "id": "6dd1e904",
   "metadata": {},
   "outputs": [
    {
     "name": "stdout",
     "output_type": "stream",
     "text": [
      "9 is repeated : 3\n",
      "7 is repeated : 1\n",
      "4 is repeated : 1\n",
      "5 is repeated : 1\n",
      "9 is repeated : 3\n",
      "6 is repeated : 1\n",
      "3 is repeated : 1\n",
      "9 is repeated : 3\n"
     ]
    }
   ],
   "source": [
    "r = [9,7,4,5,9,6,3,9]\n",
    "for i in r:\n",
    "    print(i,\"is repeated :\",r.count(i))"
   ]
  },
  {
   "cell_type": "code",
   "execution_count": 33,
   "id": "173bf1d4",
   "metadata": {},
   "outputs": [
    {
     "name": "stdout",
     "output_type": "stream",
     "text": [
      "4\n"
     ]
    }
   ],
   "source": [
    "var=\"CSE Beam\"\n",
    "str=\"Beam\"\n",
    "print (var.find(str))"
   ]
  },
  {
   "cell_type": "code",
   "execution_count": 34,
   "id": "529c6cba",
   "metadata": {},
   "outputs": [
    {
     "name": "stdout",
     "output_type": "stream",
     "text": [
      "<class 'set'>\n"
     ]
    },
    {
     "ename": "TypeError",
     "evalue": "'set' object is not subscriptable",
     "output_type": "error",
     "traceback": [
      "\u001b[1;31m---------------------------------------------------------------------------\u001b[0m",
      "\u001b[1;31mTypeError\u001b[0m                                 Traceback (most recent call last)",
      "Input \u001b[1;32mIn [34]\u001b[0m, in \u001b[0;36m<cell line: 3>\u001b[1;34m()\u001b[0m\n\u001b[0;32m      1\u001b[0m s \u001b[38;5;241m=\u001b[39m {\u001b[38;5;241m34\u001b[39m,\u001b[38;5;241m55\u001b[39m,\u001b[38;5;241m667\u001b[39m,\u001b[38;5;241m7770\u001b[39m}\n\u001b[0;32m      2\u001b[0m \u001b[38;5;28mprint\u001b[39m(\u001b[38;5;28mtype\u001b[39m(s))\n\u001b[1;32m----> 3\u001b[0m \u001b[38;5;28mprint\u001b[39m(\u001b[43ms\u001b[49m\u001b[43m[\u001b[49m\u001b[38;5;241;43m3\u001b[39;49m\u001b[43m]\u001b[49m)\n",
      "\u001b[1;31mTypeError\u001b[0m: 'set' object is not subscriptable"
     ]
    }
   ],
   "source": [
    "s = {34,55,667,7770}\n",
    "print(type(s))\n",
    "print(s[3])\n"
   ]
  },
  {
   "cell_type": "code",
   "execution_count": 37,
   "id": "0741d503",
   "metadata": {},
   "outputs": [
    {
     "name": "stdout",
     "output_type": "stream",
     "text": [
      "<class 'set'>\n",
      "{'u': None, 'o': None, 'e': None, 'a': None, 'i': None}\n"
     ]
    }
   ],
   "source": [
    "keys = {'a', 'e', 'i', 'o', 'u' }\n",
    "vowels = dict.fromkeys(keys)\n",
    "print(type(keys))\n",
    "print(vowels)\n"
   ]
  },
  {
   "cell_type": "code",
   "execution_count": 38,
   "id": "6a6d7178",
   "metadata": {},
   "outputs": [
    {
     "name": "stdout",
     "output_type": "stream",
     "text": [
      "<class 'dict'>\n",
      "Name:  Saran\n",
      "Age:  22\n"
     ]
    }
   ],
   "source": [
    "person = {'name': 'Saran', 'age': 22}\n",
    "print(type(person))\n",
    "print('Name: ', person.get('name'))\n",
    "print('Age: ', person.get('age'))"
   ]
  },
  {
   "cell_type": "code",
   "execution_count": 23,
   "id": "11d1de74",
   "metadata": {},
   "outputs": [
    {
     "name": "stdout",
     "output_type": "stream",
     "text": [
      "Choose your email idsaran@gmail.com\n",
      "ID is added\n",
      "['vijay1@gmail.com', 'vijay2@gmail.com', 'vijay3@gmail.com', 'vijay4@gmail.com', 'vijay5@gmail.com', 'sam1@gmail.com', 'sam2@gmail.com', 'sam3@gmail.com', 'sam4@gmail.com', 'sam5@gmail.com', 'saran@gmail.com']\n"
     ]
    }
   ],
   "source": [
    "e_id=['vijay1@gmail.com','vijay2@gmail.com','vijay3@gmail.com','vijay4@gmail.com',\n",
    "      'vijay5@gmail.com','sam1@gmail.com','sam2@gmail.com','sam3@gmail.com',\n",
    "      'sam4@gmail.com','sam5@gmail.com']\n",
    "your_id=input(\"Choose your email id\")\n",
    "\n",
    "if your_id in e_id:\n",
    "    print(\"Email ID is already taken choose another\")\n",
    "else:\n",
    "    print(\"ID is added\")\n",
    "    e_id.append(your_id)\n",
    "    print(e_id)"
   ]
  },
  {
   "cell_type": "code",
   "execution_count": 19,
   "id": "3d00b8f0",
   "metadata": {},
   "outputs": [
    {
     "name": "stdout",
     "output_type": "stream",
     "text": [
      "1 is repeated 1 times\n",
      "2 is repeated 2 times\n",
      "2 is repeated 2 times\n",
      "3 is repeated 1 times\n",
      "4 is repeated 1 times\n",
      "5 is repeated 3 times\n",
      "6 is repeated 1 times\n",
      "5 is repeated 3 times\n",
      "5 is repeated 3 times\n"
     ]
    }
   ],
   "source": [
    "#3 identify repeated items\n",
    "list2=[1,2,2,3,4,5,6,5,5]\n",
    "\n",
    "for i in list2:\n",
    "    count=0\n",
    "    for j in range(0,len(list2)):\n",
    "        if i == list2[j]:\n",
    "            count = count+1\n",
    "    print(i,\"is repeated\",count,\"times\")"
   ]
  },
  {
   "cell_type": "code",
   "execution_count": null,
   "id": "340123b1",
   "metadata": {},
   "outputs": [],
   "source": [
    "6.#To find duplicates of list\n",
    "list1=[]\n",
    "for i in range(5):\n",
    "    element = int(input(\"Enter the value :\"))\n",
    "    list1.append(element)\n",
    "    a =[]\n",
    "    for j in list1:\n",
    "        if list1.count(j) > 1 :\n",
    "            a.append(j)\n",
    "        else:\n",
    "            continue\n",
    "print(a)"
   ]
  },
  {
   "cell_type": "code",
   "execution_count": 17,
   "id": "12d1e69f",
   "metadata": {},
   "outputs": [
    {
     "name": "stdout",
     "output_type": "stream",
     "text": [
      "60\n"
     ]
    }
   ],
   "source": [
    "7.#multiplication of list\n",
    "lst1=[3,4,5,786,898]\n",
    "M = 1\n",
    "for i in lst1:\n",
    "    M = M*i\n",
    "print(M)\n"
   ]
  },
  {
   "cell_type": "code",
   "execution_count": 3,
   "id": "4cf56934",
   "metadata": {},
   "outputs": [
    {
     "name": "stdout",
     "output_type": "stream",
     "text": [
      "Enter the range value5\n",
      "Enter the value :101\n",
      "Enter the value :102\n",
      "Enter the value :103\n",
      "Enter the value :104\n",
      "Enter the value :105\n",
      "[101, 102, 103, 104, 105]\n",
      "Enter the your ch :105\n",
      "4\n"
     ]
    }
   ],
   "source": [
    "l = []\n",
    "n = int(input(\"Enter the range value\"))\n",
    "for i in range(n):\n",
    "    e = int(input(\"Enter the value :\"))\n",
    "    l.append(e)\n",
    "print(l)\n",
    "#ch = int(input(\"Enter the your ch :\"))\n",
    "#print(l.index(ch))\n",
    "\n",
    "k = 0\n",
    "ch = int(input(\"Enter the your ch :\"))\n",
    "for e in l:\n",
    "    if e == ch:\n",
    "        print(k)\n",
    "        break\n",
    "    k += 1\n"
   ]
  },
  {
   "cell_type": "code",
   "execution_count": 21,
   "id": "1ab8c5dd",
   "metadata": {},
   "outputs": [
    {
     "name": "stdout",
     "output_type": "stream",
     "text": [
      "Enter the value :10 20 30 40 50 60 \n"
     ]
    }
   ],
   "source": [
    "arr = list(map(int,input(\"Enter the value :\").split())) "
   ]
  },
  {
   "cell_type": "code",
   "execution_count": 1,
   "id": "dafa8c8b",
   "metadata": {},
   "outputs": [
    {
     "name": "stdout",
     "output_type": "stream",
     "text": [
      "Enter the value :hhf fusdi 464\n"
     ]
    },
    {
     "ename": "TypeError",
     "evalue": "count() takes at least 1 argument (0 given)",
     "output_type": "error",
     "traceback": [
      "\u001b[1;31m---------------------------------------------------------------------------\u001b[0m",
      "\u001b[1;31mTypeError\u001b[0m                                 Traceback (most recent call last)",
      "Input \u001b[1;32mIn [1]\u001b[0m, in \u001b[0;36m<cell line: 2>\u001b[1;34m()\u001b[0m\n\u001b[0;32m      1\u001b[0m S \u001b[38;5;241m=\u001b[39m \u001b[38;5;28mstr\u001b[39m(\u001b[38;5;28minput\u001b[39m(\u001b[38;5;124m\"\u001b[39m\u001b[38;5;124mEnter the value :\u001b[39m\u001b[38;5;124m\"\u001b[39m))\n\u001b[1;32m----> 2\u001b[0m b \u001b[38;5;241m=\u001b[39m \u001b[43mS\u001b[49m\u001b[38;5;241;43m.\u001b[39;49m\u001b[43mcount\u001b[49m\u001b[43m(\u001b[49m\u001b[43m)\u001b[49m\n\u001b[0;32m      3\u001b[0m \u001b[38;5;28mprint\u001b[39m(\u001b[38;5;124m\"\u001b[39m\u001b[38;5;124mSpace counted with function :\u001b[39m\u001b[38;5;124m\"\u001b[39m,b)\n\u001b[0;32m      4\u001b[0m spaces,capitals,lowers,digits,sysbol \u001b[38;5;241m=\u001b[39m \u001b[38;5;241m0\u001b[39m,\u001b[38;5;241m0\u001b[39m,\u001b[38;5;241m0\u001b[39m,\u001b[38;5;241m0\u001b[39m\n",
      "\u001b[1;31mTypeError\u001b[0m: count() takes at least 1 argument (0 given)"
     ]
    }
   ],
   "source": [
    "S = str(input(\"Enter the value :\"))\n",
    "b = S.count()\n",
    "print(\"Space counted with function :\",b)\n",
    "spaces,capitals,lowers,digits,sysbol = 0,0,0,0\n",
    "for i in S:\n",
    "    if i == \" \":\n",
    "        spaces += 1\n",
    "    elif i.islower():\n",
    "        lowers+=1\n",
    "    elif i.isupper():\n",
    "        capitals+=1\n",
    "    elif i.isdigit():\n",
    "        digits+=1\n",
    "print(\"Space counted Manually :\",spaces) \n",
    "print(\"Capital letters counted  :\",capitals)       \n",
    "print(\"lowers counted  :\",lowers)       \n",
    "print(\"Digits counted  :\",digits)  \n",
    "print(\"Symbols counted :\",(len(S)-(spaces+capitals+lowers+digits)))\n",
    "print(\"Total length of given String :\",len(S))"
   ]
  },
  {
   "cell_type": "code",
   "execution_count": null,
   "id": "d4518533",
   "metadata": {},
   "outputs": [],
   "source": []
  },
  {
   "cell_type": "code",
   "execution_count": null,
   "id": "1281e504",
   "metadata": {},
   "outputs": [],
   "source": []
  },
  {
   "cell_type": "code",
   "execution_count": 7,
   "id": "1b48e55e",
   "metadata": {},
   "outputs": [
    {
     "ename": "KeyboardInterrupt",
     "evalue": "Interrupted by user",
     "output_type": "error",
     "traceback": [
      "\u001b[1;31m---------------------------------------------------------------------------\u001b[0m",
      "\u001b[1;31mKeyboardInterrupt\u001b[0m                         Traceback (most recent call last)",
      "Input \u001b[1;32mIn [7]\u001b[0m, in \u001b[0;36m<cell line: 3>\u001b[1;34m()\u001b[0m\n\u001b[0;32m      1\u001b[0m \u001b[38;5;66;03m#from array import *\u001b[39;00m\n\u001b[0;32m      2\u001b[0m arr \u001b[38;5;241m=\u001b[39m[]\n\u001b[1;32m----> 3\u001b[0m n \u001b[38;5;241m=\u001b[39m \u001b[38;5;28mint\u001b[39m(\u001b[38;5;28;43minput\u001b[39;49m\u001b[43m(\u001b[49m\u001b[38;5;124;43m\"\u001b[39;49m\u001b[38;5;124;43mEnter the length of array :\u001b[39;49m\u001b[38;5;124;43m\"\u001b[39;49m\u001b[43m)\u001b[49m)\n\u001b[0;32m      4\u001b[0m \u001b[38;5;28;01mfor\u001b[39;00m i \u001b[38;5;129;01min\u001b[39;00m \u001b[38;5;28mrange\u001b[39m(n):\n\u001b[0;32m      5\u001b[0m     x \u001b[38;5;241m=\u001b[39m \u001b[38;5;28mint\u001b[39m(\u001b[38;5;28minput\u001b[39m(\u001b[38;5;124m\"\u001b[39m\u001b[38;5;124mEnter the value :\u001b[39m\u001b[38;5;124m\"\u001b[39m))\n",
      "File \u001b[1;32mC:\\ProgramData\\Anaconda3\\lib\\site-packages\\ipykernel\\kernelbase.py:1075\u001b[0m, in \u001b[0;36mKernel.raw_input\u001b[1;34m(self, prompt)\u001b[0m\n\u001b[0;32m   1071\u001b[0m \u001b[38;5;28;01mif\u001b[39;00m \u001b[38;5;129;01mnot\u001b[39;00m \u001b[38;5;28mself\u001b[39m\u001b[38;5;241m.\u001b[39m_allow_stdin:\n\u001b[0;32m   1072\u001b[0m     \u001b[38;5;28;01mraise\u001b[39;00m StdinNotImplementedError(\n\u001b[0;32m   1073\u001b[0m         \u001b[38;5;124m\"\u001b[39m\u001b[38;5;124mraw_input was called, but this frontend does not support input requests.\u001b[39m\u001b[38;5;124m\"\u001b[39m\n\u001b[0;32m   1074\u001b[0m     )\n\u001b[1;32m-> 1075\u001b[0m \u001b[38;5;28;01mreturn\u001b[39;00m \u001b[38;5;28;43mself\u001b[39;49m\u001b[38;5;241;43m.\u001b[39;49m\u001b[43m_input_request\u001b[49m\u001b[43m(\u001b[49m\n\u001b[0;32m   1076\u001b[0m \u001b[43m    \u001b[49m\u001b[38;5;28;43mstr\u001b[39;49m\u001b[43m(\u001b[49m\u001b[43mprompt\u001b[49m\u001b[43m)\u001b[49m\u001b[43m,\u001b[49m\n\u001b[0;32m   1077\u001b[0m \u001b[43m    \u001b[49m\u001b[38;5;28;43mself\u001b[39;49m\u001b[38;5;241;43m.\u001b[39;49m\u001b[43m_parent_ident\u001b[49m\u001b[43m[\u001b[49m\u001b[38;5;124;43m\"\u001b[39;49m\u001b[38;5;124;43mshell\u001b[39;49m\u001b[38;5;124;43m\"\u001b[39;49m\u001b[43m]\u001b[49m\u001b[43m,\u001b[49m\n\u001b[0;32m   1078\u001b[0m \u001b[43m    \u001b[49m\u001b[38;5;28;43mself\u001b[39;49m\u001b[38;5;241;43m.\u001b[39;49m\u001b[43mget_parent\u001b[49m\u001b[43m(\u001b[49m\u001b[38;5;124;43m\"\u001b[39;49m\u001b[38;5;124;43mshell\u001b[39;49m\u001b[38;5;124;43m\"\u001b[39;49m\u001b[43m)\u001b[49m\u001b[43m,\u001b[49m\n\u001b[0;32m   1079\u001b[0m \u001b[43m    \u001b[49m\u001b[43mpassword\u001b[49m\u001b[38;5;241;43m=\u001b[39;49m\u001b[38;5;28;43;01mFalse\u001b[39;49;00m\u001b[43m,\u001b[49m\n\u001b[0;32m   1080\u001b[0m \u001b[43m\u001b[49m\u001b[43m)\u001b[49m\n",
      "File \u001b[1;32mC:\\ProgramData\\Anaconda3\\lib\\site-packages\\ipykernel\\kernelbase.py:1120\u001b[0m, in \u001b[0;36mKernel._input_request\u001b[1;34m(self, prompt, ident, parent, password)\u001b[0m\n\u001b[0;32m   1117\u001b[0m             \u001b[38;5;28;01mbreak\u001b[39;00m\n\u001b[0;32m   1118\u001b[0m \u001b[38;5;28;01mexcept\u001b[39;00m \u001b[38;5;167;01mKeyboardInterrupt\u001b[39;00m:\n\u001b[0;32m   1119\u001b[0m     \u001b[38;5;66;03m# re-raise KeyboardInterrupt, to truncate traceback\u001b[39;00m\n\u001b[1;32m-> 1120\u001b[0m     \u001b[38;5;28;01mraise\u001b[39;00m \u001b[38;5;167;01mKeyboardInterrupt\u001b[39;00m(\u001b[38;5;124m\"\u001b[39m\u001b[38;5;124mInterrupted by user\u001b[39m\u001b[38;5;124m\"\u001b[39m) \u001b[38;5;28;01mfrom\u001b[39;00m \u001b[38;5;28mNone\u001b[39m\n\u001b[0;32m   1121\u001b[0m \u001b[38;5;28;01mexcept\u001b[39;00m \u001b[38;5;167;01mException\u001b[39;00m:\n\u001b[0;32m   1122\u001b[0m     \u001b[38;5;28mself\u001b[39m\u001b[38;5;241m.\u001b[39mlog\u001b[38;5;241m.\u001b[39mwarning(\u001b[38;5;124m\"\u001b[39m\u001b[38;5;124mInvalid Message:\u001b[39m\u001b[38;5;124m\"\u001b[39m, exc_info\u001b[38;5;241m=\u001b[39m\u001b[38;5;28;01mTrue\u001b[39;00m)\n",
      "\u001b[1;31mKeyboardInterrupt\u001b[0m: Interrupted by user"
     ]
    }
   ],
   "source": [
    "#from array import *\n",
    "arr =[]\n",
    "n = int(input(\"Enter the length of array :\"))\n",
    "for i in range(n):\n",
    "    x = int(input(\"Enter the value :\"))\n",
    "    arr.append(x)\n",
    "print(arr)\n",
    "\n",
    "val = int(input(\"Enter the value :\"))\n",
    "print(arr.index(val))"
   ]
  },
  {
   "cell_type": "code",
   "execution_count": 5,
   "id": "3784bdba",
   "metadata": {},
   "outputs": [
    {
     "name": "stdout",
     "output_type": "stream",
     "text": [
      "Enter the length of array :5\n",
      "Enter the value :10\n",
      "Enter the value :20\n",
      "Enter the value :30\n",
      "Enter the value :40\n",
      "Enter the value :50\n",
      "[10, 20, 30, 40, 50]\n",
      "Enter the ch :50\n",
      "4\n"
     ]
    }
   ],
   "source": [
    "\n",
    "\n",
    "arr =[]\n",
    "n = int(input(\"Enter the length of array :\"))\n",
    "for i in range(n):\n",
    "    x = int(input(\"Enter the value :\"))\n",
    "    arr.append(x)\n",
    "print(arr) #[10, 20, 30, 40, 50]\n",
    "ch = int(input(\"Enter the value :\"))\n",
    "k = 0\n",
    "for e in arr:\n",
    "    if e == ch:\n",
    "        print(k)\n",
    "        break\n",
    "    k += 1\n",
    "\n",
    "print(arr.index(ch))"
   ]
  },
  {
   "cell_type": "code",
   "execution_count": 33,
   "id": "26e55243",
   "metadata": {},
   "outputs": [
    {
     "name": "stdout",
     "output_type": "stream",
     "text": [
      "Enter the length of array :5\n",
      "Enter the value :10\n",
      "Enter the value :20\n",
      "Enter the value :60\n",
      "Enter the value :90\n",
      "Enter the value :88\n",
      "[10, 20, 60, 90, 88]\n",
      "Enter the value :90\n",
      "3\n"
     ]
    }
   ],
   "source": [
    "arr =[]\n",
    "n = int(input(\"Enter the length of array :\"))\n",
    "for i in range(n):\n",
    "    x = int(input(\"Enter the value :\"))\n",
    "    arr.append(x)\n",
    "print(arr)\n",
    "val = int(input(\"Enter the value :\"))\n",
    "print(arr.index(val))"
   ]
  },
  {
   "cell_type": "code",
   "execution_count": 19,
   "id": "77434dc0",
   "metadata": {},
   "outputs": [
    {
     "name": "stdout",
     "output_type": "stream",
     "text": [
      "Subarray starts from 0 to 3\n",
      "None\n"
     ]
    }
   ],
   "source": [
    "#sub array\n",
    "def subarray_sum(arr,sum):\n",
    "    dict1 = {}\n",
    "    curr_sum = 0\n",
    "    for i in range(len(arr)):\n",
    "        curr_sum += arr[i]\n",
    "        if curr_sum == sum:\n",
    "            print(\"Subarray starts from 0 to\",i)\n",
    "            break\n",
    "        if curr_sum - sum in dict1:\n",
    "            print(\"Subarray starts from\",dict1[curr_sum-sum]+1,\"to\",i)\n",
    "            break\n",
    "        dict1[curr_sum]=1\n",
    "    else:\n",
    "        print(\"No subarray found\")\n",
    "\n",
    "arr=[10,2,-2,-20,3]\n",
    "#arr=[1,4,20,3,10,5]\n",
    "sum = -10\n",
    "print(subarray_sum(arr,sum))"
   ]
  },
  {
   "cell_type": "code",
   "execution_count": null,
   "id": "1a25ac02",
   "metadata": {},
   "outputs": [],
   "source": [
    "arr=[10,2,-2,-20,3]"
   ]
  },
  {
   "cell_type": "code",
   "execution_count": null,
   "id": "d46d3e56",
   "metadata": {},
   "outputs": [],
   "source": []
  },
  {
   "cell_type": "code",
   "execution_count": 1,
   "id": "b3db6619",
   "metadata": {},
   "outputs": [
    {
     "name": "stdin",
     "output_type": "stream",
     "text": [
      " 6\n",
      " 6\n",
      " 6 5 3 87 9\n"
     ]
    },
    {
     "name": "stdout",
     "output_type": "stream",
     "text": [
      "-1\n"
     ]
    }
   ],
   "source": [
    "#1)\n",
    "inp1 = int(input())  #5\n",
    "inp2 = int(input())  #2\n",
    "arr = list(map(int, input().split())) #1 2 3 4 5\n",
    "mx = -1\n",
    "for i in range(0, len(arr)-inp2+1):\n",
    "    temp = arr[i:i+inp2]\n",
    "    k,s = 1,0\n",
    "    for j in temp:\n",
    "        s += (j*k)\n",
    "        k += 1\n",
    "        if s > mx:\n",
    "            mx = s\n",
    "print(mx)"
   ]
  },
  {
   "cell_type": "code",
   "execution_count": 9,
   "id": "05ccb687",
   "metadata": {},
   "outputs": [
    {
     "name": "stdout",
     "output_type": "stream",
     "text": [
      "6\n",
      "1 1 1 2 2 2\n",
      "0\n"
     ]
    }
   ],
   "source": [
    "#2)\n",
    "n= int(input())\n",
    "arr = list(map(int, input().split()))\n",
    "c = 0\n",
    "for i in range(n):\n",
    "    if sum(arr[:i+1]) == 0:\n",
    "        c += 1\n",
    "print(c)"
   ]
  },
  {
   "cell_type": "code",
   "execution_count": 7,
   "id": "a11ee8e4",
   "metadata": {},
   "outputs": [
    {
     "name": "stdout",
     "output_type": "stream",
     "text": [
      "Enter the String value :CSE - A\n",
      "2\n"
     ]
    }
   ],
   "source": [
    "#Space counter\n",
    "s = input(\"Enter the String value :\").split()\n",
    "print(len(s)-1)"
   ]
  },
  {
   "cell_type": "code",
   "execution_count": null,
   "id": "91c2636c",
   "metadata": {},
   "outputs": [],
   "source": []
  }
 ],
 "metadata": {
  "kernelspec": {
   "display_name": "Python 3 (ipykernel)",
   "language": "python",
   "name": "python3"
  },
  "language_info": {
   "codemirror_mode": {
    "name": "ipython",
    "version": 3
   },
   "file_extension": ".py",
   "mimetype": "text/x-python",
   "name": "python",
   "nbconvert_exporter": "python",
   "pygments_lexer": "ipython3",
   "version": "3.13.5"
  }
 },
 "nbformat": 4,
 "nbformat_minor": 5
}
