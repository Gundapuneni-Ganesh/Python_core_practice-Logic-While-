{
 "cells": [
  {
   "cell_type": "code",
   "execution_count": 1,
   "metadata": {},
   "outputs": [
    {
     "name": "stdout",
     "output_type": "stream",
     "text": [
      "2 hours is equal to 120 minutes\n"
     ]
    }
   ],
   "source": [
    "# Write a program to hours to minutes , user should able to give hours as input\n",
    "\n",
    "# your Answer\n",
    "hours=int(input(\"enter the number of hours: \"))\n",
    "print(hours,\"hours is equal to\",hours*60,\"minutes\")\n"
   ]
  },
  {
   "cell_type": "code",
   "execution_count": 2,
   "metadata": {},
   "outputs": [
    {
     "name": "stdout",
     "output_type": "stream",
     "text": [
      "The meter conversion for given centimeter is 1.76\n"
     ]
    }
   ],
   "source": [
    "# Write a program to convert centimeter to meter , user shoulb be able to give centimeter as input\n",
    "\n",
    "# your Answer\n",
    "cm= int(input(\"Enter the centimeter:\"))\n",
    "print(\"The meter conversion for given centimeter is\",float(cm/100))\n",
    "\n"
   ]
  },
  {
   "cell_type": "code",
   "execution_count": 5,
   "metadata": {},
   "outputs": [
    {
     "name": "stdout",
     "output_type": "stream",
     "text": [
      "The equivalent kilometer for miles is 16.0\n"
     ]
    }
   ],
   "source": [
    "# Write a program to convert miles to Kilometer , user shoulb be able to give miles as input\n",
    "\n",
    "# your Answer\n",
    "\n",
    "miles=int(input(\"Enter miles:\"))\n",
    "print(\"The equivalent kilometer for miles is\" ,float(miles*1.6))\n",
    "\n",
    "\n",
    "\n"
   ]
  },
  {
   "cell_type": "code",
   "execution_count": null,
   "metadata": {},
   "outputs": [
    {
     "name": "stdout",
     "output_type": "stream",
     "text": [
      "The equivalent kilogram for pounds is 4.535\n"
     ]
    }
   ],
   "source": [
    "# Write a program to convert pounds to Kilogram , user shoulb be able to give pounds as input\n",
    "\n",
    "# your Answer\n",
    "pounds=int(input(\"Enter the pounds: \"))\n",
    "print(\"The equivalent kilogram for pounds is \" ,float(pounds*0.4535))\n",
    "\n",
    "\n",
    "\n",
    "\n"
   ]
  },
  {
   "cell_type": "code",
   "execution_count": 15,
   "metadata": {},
   "outputs": [
    {
     "name": "stdout",
     "output_type": "stream",
     "text": [
      "Simple intrest for thegiven values : 1200.0\n"
     ]
    }
   ],
   "source": [
    "# Write a program to calculate simple interest # all input shoulb be given by the user\n",
    "\n",
    "# your Answer\n",
    "\n",
    "p=int(input(\"Enter the principle: \"))\n",
    "t=int(input(\"Enter the time(months): \"))\n",
    "r=int(input(\"Enter the rate of intrest: \"))\n",
    "total=((p*t*r)/100)\n",
    "print(\"Simple intrest for thegiven values :\",total)\n",
    "\n",
    "\n"
   ]
  },
  {
   "cell_type": "code",
   "execution_count": 19,
   "metadata": {},
   "outputs": [
    {
     "name": "stdout",
     "output_type": "stream",
     "text": [
      "area of circle 314.0\n"
     ]
    }
   ],
   "source": [
    "# Write a program to calculate area of circle\n",
    "\n",
    "# your Answer\n",
    "\n",
    "pi=3.14\n",
    "radius=int(input(\"Enter the radius value:\"))\n",
    "print(\"area of circle\" ,pi*radius*radius)\n",
    "\n",
    "\n",
    "\n"
   ]
  },
  {
   "cell_type": "code",
   "execution_count": null,
   "metadata": {},
   "outputs": [
    {
     "name": "stdout",
     "output_type": "stream",
     "text": [
      "area of circle 62.800000000000004\n"
     ]
    }
   ],
   "source": [
    "# Write a program to calculate circumference of circle\n",
    "\n",
    "# your Answer\n",
    "\n",
    "pi=3.14\n",
    "radius=int(input(\"Enter the radius value:\"))\n",
    "print(\"circumference of circle\" ,2*(pi*radius))\n",
    "\n",
    "\n"
   ]
  },
  {
   "cell_type": "code",
   "execution_count": 21,
   "metadata": {},
   "outputs": [
    {
     "name": "stdout",
     "output_type": "stream",
     "text": [
      "perimeter of square 20\n"
     ]
    }
   ],
   "source": [
    "# Write a program to calculate perimeter of square\n",
    "\n",
    "# your Answer\n",
    "\n",
    "\n",
    "\n",
    "side=int(input(\"Enter the side value:\"))\n",
    "print(\"perimeter of square\",4*side)\n"
   ]
  },
  {
   "cell_type": "code",
   "execution_count": null,
   "metadata": {},
   "outputs": [
    {
     "name": "stdout",
     "output_type": "stream",
     "text": [
      "perimeter of square 25\n"
     ]
    }
   ],
   "source": [
    "# Write a program to calculate area of square\n",
    "\n",
    "# your Answer\n",
    "\n",
    "side=int(input(\"Enter the side value:\"))\n",
    "print(\"area of square\",side*side)\n",
    "\n",
    "\n",
    "\n"
   ]
  },
  {
   "cell_type": "code",
   "execution_count": 23,
   "metadata": {},
   "outputs": [
    {
     "name": "stdout",
     "output_type": "stream",
     "text": [
      "area of triangle 100.0\n"
     ]
    }
   ],
   "source": [
    "# Write a program to area of traingle\n",
    "\n",
    "# your Answer\n",
    "\n",
    "base=int(input(\"Enter the base value:\"))\n",
    "height=int(input(\"Enter the height value:\"))\n",
    "print(\"area of triangle\",0.5*base*height)\n"
   ]
  },
  {
   "cell_type": "code",
   "execution_count": null,
   "metadata": {},
   "outputs": [
    {
     "name": "stdout",
     "output_type": "stream",
     "text": [
      "1\n",
      "3\n",
      "9\n",
      "27\n"
     ]
    }
   ],
   "source": [
    "#Write a program to finding the factors for the following given numbers by user \n",
    "\n",
    "# Answer \n",
    "\n",
    "value=int(input(\"Enter a value(for factors): \"))\n",
    "for i in range(1,value+1):\n",
    "    if(value%i==0):\n",
    "        print(i)"
   ]
  },
  {
   "cell_type": "code",
   "execution_count": 4,
   "metadata": {},
   "outputs": [
    {
     "name": "stdout",
     "output_type": "stream",
     "text": [
      "Converting money fromusd toindian rupees:  4319.0\n"
     ]
    }
   ],
   "source": [
    "#Write a program to convert the following given USD money to india rupee value\n",
    "\n",
    "# Answer \n",
    "value=int(input(\"Enter a USD value: \"))\n",
    "print(\"Converting money fromusd toindian rupees: \", (value*86.38))"
   ]
  },
  {
   "cell_type": "code",
   "execution_count": 10,
   "metadata": {},
   "outputs": [
    {
     "name": "stdout",
     "output_type": "stream",
     "text": [
      "Chocolates are  30\n"
     ]
    }
   ],
   "source": [
    "cho=int(input(\"Enter the no.of chocolates taken: \"))\n",
    "count=0\n",
    "for i in range(1,cho+1):\n",
    "    if(i%5==0):\n",
    "        count+=1\n",
    "\n",
    "print(\"Chocolates are \" , cho+count)\n",
    "    \n",
    "    "
   ]
  }
 ],
 "metadata": {
  "kernelspec": {
   "display_name": "Python 3",
   "language": "python",
   "name": "python3"
  },
  "language_info": {
   "codemirror_mode": {
    "name": "ipython",
    "version": 3
   },
   "file_extension": ".py",
   "mimetype": "text/x-python",
   "name": "python",
   "nbconvert_exporter": "python",
   "pygments_lexer": "ipython3",
   "version": "3.14.0"
  }
 },
 "nbformat": 4,
 "nbformat_minor": 2
}
