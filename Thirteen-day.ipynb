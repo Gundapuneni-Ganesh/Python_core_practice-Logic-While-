{
 "cells": [
  {
   "cell_type": "code",
   "execution_count": 5,
   "id": "25383182-1aff-419b-9853-366e59dc91e5",
   "metadata": {},
   "outputs": [
    {
     "name": "stdin",
     "output_type": "stream",
     "text": [
      "Enter the string :  gfdz\n",
      "Enter the string : frts\n",
      "Enter the max sum value :  5\n"
     ]
    },
    {
     "name": "stdout",
     "output_type": "stream",
     "text": [
      "1\n"
     ]
    }
   ],
   "source": [
    "def ansval(s1,s2,v):\n",
    "    m_len =0\n",
    "    for i in range(0,len(s1)):\n",
    "        c_cost =0\n",
    "        c_length =0\n",
    "        \n",
    "        for j in range(i,len(s1)):\n",
    "            value = abs(ord(s1[j]) - ord(s2[j]))\n",
    "            \n",
    "            if c_cost + value > v:\n",
    "                break\n",
    "                \n",
    "            c_cost +=value\n",
    "            c_length +=1\n",
    "            \n",
    "            if c_length >m_len :\n",
    "                m_len = c_length\n",
    "                \n",
    "    return m_len\n",
    "\n",
    "\n",
    "a=input(\"Enter the string : \")\n",
    "b = input(\"Enter the string :\")\n",
    "n= int(input(\"Enter the max sum value : \"))\n",
    "print(ansval(a,b,n))"
   ]
  },
  {
   "cell_type": "code",
   "execution_count": null,
   "id": "df886da0-2577-4f9f-8397-f64cfc007111",
   "metadata": {},
   "outputs": [],
   "source": [
    "def ansval(s1, s2, v):\n",
    "    m_len = 0\n",
    "    n = len(s1)\n",
    "    # Start pointers for sliding window\n",
    "    left = 0\n",
    "    c_cost = 0\n",
    "    # Go through each character with right pointer\n",
    "    \n",
    "    for right in range(n):\n",
    "        value = abs(ord(s1[right]) - ord(s2[right]))\n",
    "        c_cost += value\n",
    "        \n",
    "        # If over budget, move left side up\n",
    "        \n",
    "        while c_cost > v and left <= right:\n",
    "            c_cost -= abs(ord(s1[left]) - ord(s2[left]))\n",
    "            left += 1\n",
    "\n",
    "        m_len = max(m_len, right - left + 1)\n",
    "    return m_len\n",
    "\n",
    "a = input(\"Enter the string : \")\n",
    "b = input(\"Enter the string : \")\n",
    "n = int(input(\"Enter the max sum value : \"))\n",
    "print(ansval(a, b, n))\n"
   ]
  },
  {
   "cell_type": "code",
   "execution_count": null,
   "id": "64d6a1a8-2429-460d-bc06-a34286c4ca9f",
   "metadata": {},
   "outputs": [],
   "source": [
    "s=\"BANANA\"\n",
    "l=0\n",
    "for i in range(0,len(s)+1):\n",
    "    for j in range(i+1,len(s)+1):\n",
    "        print(s[i:j],end=\",\")\n"
   ]
  },
  {
   "cell_type": "code",
   "execution_count": null,
   "id": "dd1dcd82-d9c5-4aa7-b3bd-3fbcb2655ad6",
   "metadata": {},
   "outputs": [],
   "source": [
    "s=input()\n",
    "#  output : a,ab,abc,abcd,b,bc,bcd,c,cd,d\n",
    "ar=[]\n",
    "for i in range(0,len(s)+1):\n",
    "    for j in range(i+1,len(s)+1):\n",
    "        tem=''\n",
    "        for k in range(i,j):\n",
    "            tem += s[k]\n",
    "        ar.append(tem)\n",
    "print(ar)\n",
    "\n",
    "for i in ar:\n",
    "    c=i\n",
    "    d=c[::-1]\n",
    "    if d == i:\n",
    "        print(i,end=\" \")"
   ]
  },
  {
   "cell_type": "code",
   "execution_count": null,
   "id": "ccf563da-ae8b-4ca2-9e60-7f5c170ecb96",
   "metadata": {},
   "outputs": [],
   "source": [
    "pas = int(input(\"Enter your orginal pin : \"))\n",
    "for i in range(5):\n",
    "    e_pas =  int(input(\"Enter your correct pin : \"))\n",
    "    if pas == e_pas:\n",
    "        print(\"login Approved\")\n",
    "        balance = 0\n",
    "        while True:\n",
    "            print(\"1.Deposit\\n\",\"2.Withdraw\\n\",\"3.Check Balance\\n\",\"4.Exit\")\n",
    "            choice =int(input())\n",
    "            if choice == 1:\n",
    "                am = int(input(\"Enter the amount : \"))\n",
    "                balance += am\n",
    "                print(f\"The amount credited {am} . total amount is {balance}\")\n",
    "                break\n",
    "            elif choice ==2:\n",
    "                \n",
    "                am = int(input(\"Enter the amount : \"))\n",
    "                if balance < am:\n",
    "                    print(\"Insufficient balance\")\n",
    "                else:\n",
    "                    balance -= am\n",
    "                    print(f\"The amount debited {am} . total amount is {balance}\")\n",
    "                    break\n",
    "            elif choice ==4:\n",
    "                print(\"thankyou for visiting our bank\")\n",
    "                break\n",
    "\n",
    "            else:\n",
    "                print(f\"The total amount is {balance}\")\n",
    "                break\n",
    "        break\n",
    "    else:\n",
    "        print(\"Incorrect password\")\n",
    "        if i == 4:\n",
    "            print(\"maximum attempt reached, please try again after 24 hours\")\n",
    "            break\n",
    "\n",
    "        else:\n",
    "            print(f\"you have {4-i} attempts\")\n",
    "    \n",
    "        "
   ]
  },
  {
   "cell_type": "code",
   "execution_count": null,
   "id": "44314013-7586-4c8f-9d3e-04cc94f07a26",
   "metadata": {},
   "outputs": [],
   "source": []
  }
 ],
 "metadata": {
  "kernelspec": {
   "display_name": "Python 3 (ipykernel)",
   "language": "python",
   "name": "python3"
  },
  "language_info": {
   "codemirror_mode": {
    "name": "ipython",
    "version": 3
   },
   "file_extension": ".py",
   "mimetype": "text/x-python",
   "name": "python",
   "nbconvert_exporter": "python",
   "pygments_lexer": "ipython3",
   "version": "3.13.5"
  }
 },
 "nbformat": 4,
 "nbformat_minor": 5
}
